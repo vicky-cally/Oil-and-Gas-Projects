{
 "cells": [
  {
   "cell_type": "code",
   "execution_count": 1,
   "id": "deae9300",
   "metadata": {},
   "outputs": [],
   "source": [
    "import pandas as pd\n",
    "import numpy as np\n",
    "import matplotlib.pyplot as plt\n",
    "import matplotlib.image as mpimg\n",
    "from sklearn import preprocessing\n",
    "from sklearn.model_selection import train_test_split\n",
    "from sklearn.preprocessing import MinMaxScaler,StandardScaler\n",
    "import tensorflow as tf\n",
    "from tensorflow import keras\n",
    "from tensorflow.keras import layers\n",
    "from sklearn.metrics import mean_squared_error \n",
    "import seaborn as sns"
   ]
  },
  {
   "cell_type": "code",
   "execution_count": 2,
   "id": "dd8d5969",
   "metadata": {},
   "outputs": [],
   "source": [
    "dataset=pd.read_csv('Wax Crude Oil Viscosity Data.csv')"
   ]
  },
  {
   "cell_type": "code",
   "execution_count": 3,
   "id": "4e513117",
   "metadata": {},
   "outputs": [
    {
     "data": {
      "text/html": [
       "<div>\n",
       "<style scoped>\n",
       "    .dataframe tbody tr th:only-of-type {\n",
       "        vertical-align: middle;\n",
       "    }\n",
       "\n",
       "    .dataframe tbody tr th {\n",
       "        vertical-align: top;\n",
       "    }\n",
       "\n",
       "    .dataframe thead th {\n",
       "        text-align: right;\n",
       "    }\n",
       "</style>\n",
       "<table border=\"1\" class=\"dataframe\">\n",
       "  <thead>\n",
       "    <tr style=\"text-align: right;\">\n",
       "      <th></th>\n",
       "      <th>Well Label</th>\n",
       "      <th>Flowing Temperature (0C)</th>\n",
       "      <th>Pour-Point(0C)</th>\n",
       "      <th>API gravity</th>\n",
       "      <th>Viscosity(centipoises)</th>\n",
       "    </tr>\n",
       "  </thead>\n",
       "  <tbody>\n",
       "    <tr>\n",
       "      <th>0</th>\n",
       "      <td>C</td>\n",
       "      <td>132</td>\n",
       "      <td>85</td>\n",
       "      <td>37.19</td>\n",
       "      <td>5.9607</td>\n",
       "    </tr>\n",
       "    <tr>\n",
       "      <th>1</th>\n",
       "      <td>F</td>\n",
       "      <td>109</td>\n",
       "      <td>100</td>\n",
       "      <td>22.55</td>\n",
       "      <td>14.1513</td>\n",
       "    </tr>\n",
       "    <tr>\n",
       "      <th>2</th>\n",
       "      <td>C</td>\n",
       "      <td>115</td>\n",
       "      <td>99</td>\n",
       "      <td>23.94</td>\n",
       "      <td>12.2412</td>\n",
       "    </tr>\n",
       "    <tr>\n",
       "      <th>3</th>\n",
       "      <td>F</td>\n",
       "      <td>139</td>\n",
       "      <td>87</td>\n",
       "      <td>36.83</td>\n",
       "      <td>4.3893</td>\n",
       "    </tr>\n",
       "    <tr>\n",
       "      <th>4</th>\n",
       "      <td>A</td>\n",
       "      <td>127</td>\n",
       "      <td>89</td>\n",
       "      <td>33.27</td>\n",
       "      <td>7.3245</td>\n",
       "    </tr>\n",
       "    <tr>\n",
       "      <th>...</th>\n",
       "      <td>...</td>\n",
       "      <td>...</td>\n",
       "      <td>...</td>\n",
       "      <td>...</td>\n",
       "      <td>...</td>\n",
       "    </tr>\n",
       "    <tr>\n",
       "      <th>995</th>\n",
       "      <td>E</td>\n",
       "      <td>134</td>\n",
       "      <td>95</td>\n",
       "      <td>27.19</td>\n",
       "      <td>5.9897</td>\n",
       "    </tr>\n",
       "    <tr>\n",
       "      <th>996</th>\n",
       "      <td>C</td>\n",
       "      <td>110</td>\n",
       "      <td>92</td>\n",
       "      <td>30.06</td>\n",
       "      <td>9.3202</td>\n",
       "    </tr>\n",
       "    <tr>\n",
       "      <th>997</th>\n",
       "      <td>D</td>\n",
       "      <td>107</td>\n",
       "      <td>85</td>\n",
       "      <td>37.41</td>\n",
       "      <td>5.8110</td>\n",
       "    </tr>\n",
       "    <tr>\n",
       "      <th>998</th>\n",
       "      <td>C</td>\n",
       "      <td>127</td>\n",
       "      <td>98</td>\n",
       "      <td>24.10</td>\n",
       "      <td>11.5144</td>\n",
       "    </tr>\n",
       "    <tr>\n",
       "      <th>999</th>\n",
       "      <td>A</td>\n",
       "      <td>102</td>\n",
       "      <td>94</td>\n",
       "      <td>28.62</td>\n",
       "      <td>14.2412</td>\n",
       "    </tr>\n",
       "  </tbody>\n",
       "</table>\n",
       "<p>1000 rows × 5 columns</p>\n",
       "</div>"
      ],
      "text/plain": [
       "    Well Label  Flowing Temperature (0C)  Pour-Point(0C)  API gravity  \\\n",
       "0            C                       132              85        37.19   \n",
       "1            F                       109             100        22.55   \n",
       "2            C                       115              99        23.94   \n",
       "3            F                       139              87        36.83   \n",
       "4            A                       127              89        33.27   \n",
       "..         ...                       ...             ...          ...   \n",
       "995          E                       134              95        27.19   \n",
       "996          C                       110              92        30.06   \n",
       "997          D                       107              85        37.41   \n",
       "998          C                       127              98        24.10   \n",
       "999          A                       102              94        28.62   \n",
       "\n",
       "     Viscosity(centipoises)  \n",
       "0                    5.9607  \n",
       "1                   14.1513  \n",
       "2                   12.2412  \n",
       "3                    4.3893  \n",
       "4                    7.3245  \n",
       "..                      ...  \n",
       "995                  5.9897  \n",
       "996                  9.3202  \n",
       "997                  5.8110  \n",
       "998                 11.5144  \n",
       "999                 14.2412  \n",
       "\n",
       "[1000 rows x 5 columns]"
      ]
     },
     "execution_count": 3,
     "metadata": {},
     "output_type": "execute_result"
    }
   ],
   "source": [
    "df=dataset.copy()\n",
    "df"
   ]
  },
  {
   "cell_type": "code",
   "execution_count": 4,
   "id": "6b0b55f4",
   "metadata": {},
   "outputs": [
    {
     "data": {
      "text/html": [
       "<div>\n",
       "<style scoped>\n",
       "    .dataframe tbody tr th:only-of-type {\n",
       "        vertical-align: middle;\n",
       "    }\n",
       "\n",
       "    .dataframe tbody tr th {\n",
       "        vertical-align: top;\n",
       "    }\n",
       "\n",
       "    .dataframe thead th {\n",
       "        text-align: right;\n",
       "    }\n",
       "</style>\n",
       "<table border=\"1\" class=\"dataframe\">\n",
       "  <thead>\n",
       "    <tr style=\"text-align: right;\">\n",
       "      <th></th>\n",
       "      <th>Flowing Temperature (0C)</th>\n",
       "      <th>Pour-Point(0C)</th>\n",
       "      <th>API gravity</th>\n",
       "      <th>Viscosity(centipoises)</th>\n",
       "    </tr>\n",
       "  </thead>\n",
       "  <tbody>\n",
       "    <tr>\n",
       "      <th>count</th>\n",
       "      <td>1000.000000</td>\n",
       "      <td>1000.000000</td>\n",
       "      <td>1000.000000</td>\n",
       "      <td>1000.000000</td>\n",
       "    </tr>\n",
       "    <tr>\n",
       "      <th>mean</th>\n",
       "      <td>119.881000</td>\n",
       "      <td>92.497000</td>\n",
       "      <td>30.238160</td>\n",
       "      <td>8.468241</td>\n",
       "    </tr>\n",
       "    <tr>\n",
       "      <th>std</th>\n",
       "      <td>11.928165</td>\n",
       "      <td>4.307266</td>\n",
       "      <td>4.484083</td>\n",
       "      <td>3.372493</td>\n",
       "    </tr>\n",
       "    <tr>\n",
       "      <th>min</th>\n",
       "      <td>100.000000</td>\n",
       "      <td>85.000000</td>\n",
       "      <td>22.300000</td>\n",
       "      <td>3.720400</td>\n",
       "    </tr>\n",
       "    <tr>\n",
       "      <th>25%</th>\n",
       "      <td>109.000000</td>\n",
       "      <td>89.000000</td>\n",
       "      <td>26.307500</td>\n",
       "      <td>5.644525</td>\n",
       "    </tr>\n",
       "    <tr>\n",
       "      <th>50%</th>\n",
       "      <td>120.000000</td>\n",
       "      <td>92.000000</td>\n",
       "      <td>30.485000</td>\n",
       "      <td>7.948400</td>\n",
       "    </tr>\n",
       "    <tr>\n",
       "      <th>75%</th>\n",
       "      <td>130.000000</td>\n",
       "      <td>96.000000</td>\n",
       "      <td>34.070000</td>\n",
       "      <td>10.713200</td>\n",
       "    </tr>\n",
       "    <tr>\n",
       "      <th>max</th>\n",
       "      <td>140.000000</td>\n",
       "      <td>100.000000</td>\n",
       "      <td>37.950000</td>\n",
       "      <td>17.939600</td>\n",
       "    </tr>\n",
       "  </tbody>\n",
       "</table>\n",
       "</div>"
      ],
      "text/plain": [
       "       Flowing Temperature (0C)  Pour-Point(0C)  API gravity  \\\n",
       "count               1000.000000     1000.000000  1000.000000   \n",
       "mean                 119.881000       92.497000    30.238160   \n",
       "std                   11.928165        4.307266     4.484083   \n",
       "min                  100.000000       85.000000    22.300000   \n",
       "25%                  109.000000       89.000000    26.307500   \n",
       "50%                  120.000000       92.000000    30.485000   \n",
       "75%                  130.000000       96.000000    34.070000   \n",
       "max                  140.000000      100.000000    37.950000   \n",
       "\n",
       "       Viscosity(centipoises)  \n",
       "count             1000.000000  \n",
       "mean                 8.468241  \n",
       "std                  3.372493  \n",
       "min                  3.720400  \n",
       "25%                  5.644525  \n",
       "50%                  7.948400  \n",
       "75%                 10.713200  \n",
       "max                 17.939600  "
      ]
     },
     "execution_count": 4,
     "metadata": {},
     "output_type": "execute_result"
    }
   ],
   "source": [
    "df.describe()"
   ]
  },
  {
   "cell_type": "code",
   "execution_count": 5,
   "id": "f933842c",
   "metadata": {},
   "outputs": [
    {
     "data": {
      "text/plain": [
       "Well Label                  False\n",
       "Flowing Temperature (0C)    False\n",
       "Pour-Point(0C)              False\n",
       "API gravity                 False\n",
       "Viscosity(centipoises)      False\n",
       "dtype: bool"
      ]
     },
     "execution_count": 5,
     "metadata": {},
     "output_type": "execute_result"
    }
   ],
   "source": [
    "df.isnull().any()"
   ]
  },
  {
   "cell_type": "code",
   "execution_count": 6,
   "id": "50d31d30",
   "metadata": {},
   "outputs": [
    {
     "name": "stderr",
     "output_type": "stream",
     "text": [
      "<ipython-input-6-37d59a812d95>:3: MatplotlibDeprecationWarning: Auto-removal of overlapping axes is deprecated since 3.6 and will be removed two minor releases later; explicitly call ax.remove() as needed.\n",
      "  plt.subplot(4,4,1)\n"
     ]
    },
    {
     "data": {
      "image/png": "[encoded data removed]",
      "text/plain": [
       "<Figure size 1440x1080 with 4 Axes>"
      ]
     },
     "metadata": {
      "needs_background": "light"
     },
     "output_type": "display_data"
    }
   ],
   "source": [
    "figure=plt.subplots(figsize=(20,15))\n",
    "\n",
    "plt.subplot(4,4,1)\n",
    "sns.boxplot(x=df['Flowing Temperature (0C)'],data=df)\n",
    "\n",
    "plt.subplot(4,4,2)\n",
    "sns.boxplot(x=df['Pour-Point(0C)'],data=df)\n",
    "\n",
    "plt.subplot(4,4,3)\n",
    "sns.boxplot(x=df['API gravity'],data=df)\n",
    "\n",
    "plt.subplot(4,4,4)\n",
    "sns.boxplot(x=df['Viscosity(centipoises)'],data=df)\n",
    "\n",
    "plt.show()"
   ]
  },
  {
   "cell_type": "code",
   "execution_count": 7,
   "id": "749f9b9c",
   "metadata": {},
   "outputs": [],
   "source": [
    "x=df.drop(['Well Label','Viscosity(centipoises)'],axis=1)\n",
    "y=df['Viscosity(centipoises)']"
   ]
  },
  {
   "cell_type": "code",
   "execution_count": 8,
   "id": "647649be",
   "metadata": {},
   "outputs": [
    {
     "data": {
      "text/html": [
       "<div>\n",
       "<style scoped>\n",
       "    .dataframe tbody tr th:only-of-type {\n",
       "        vertical-align: middle;\n",
       "    }\n",
       "\n",
       "    .dataframe tbody tr th {\n",
       "        vertical-align: top;\n",
       "    }\n",
       "\n",
       "    .dataframe thead th {\n",
       "        text-align: right;\n",
       "    }\n",
       "</style>\n",
       "<table border=\"1\" class=\"dataframe\">\n",
       "  <thead>\n",
       "    <tr style=\"text-align: right;\">\n",
       "      <th></th>\n",
       "      <th>Flowing Temperature (0C)</th>\n",
       "      <th>Pour-Point(0C)</th>\n",
       "      <th>API gravity</th>\n",
       "    </tr>\n",
       "  </thead>\n",
       "  <tbody>\n",
       "    <tr>\n",
       "      <th>0</th>\n",
       "      <td>132</td>\n",
       "      <td>85</td>\n",
       "      <td>37.19</td>\n",
       "    </tr>\n",
       "    <tr>\n",
       "      <th>1</th>\n",
       "      <td>109</td>\n",
       "      <td>100</td>\n",
       "      <td>22.55</td>\n",
       "    </tr>\n",
       "    <tr>\n",
       "      <th>2</th>\n",
       "      <td>115</td>\n",
       "      <td>99</td>\n",
       "      <td>23.94</td>\n",
       "    </tr>\n",
       "    <tr>\n",
       "      <th>3</th>\n",
       "      <td>139</td>\n",
       "      <td>87</td>\n",
       "      <td>36.83</td>\n",
       "    </tr>\n",
       "    <tr>\n",
       "      <th>4</th>\n",
       "      <td>127</td>\n",
       "      <td>89</td>\n",
       "      <td>33.27</td>\n",
       "    </tr>\n",
       "    <tr>\n",
       "      <th>...</th>\n",
       "      <td>...</td>\n",
       "      <td>...</td>\n",
       "      <td>...</td>\n",
       "    </tr>\n",
       "    <tr>\n",
       "      <th>995</th>\n",
       "      <td>134</td>\n",
       "      <td>95</td>\n",
       "      <td>27.19</td>\n",
       "    </tr>\n",
       "    <tr>\n",
       "      <th>996</th>\n",
       "      <td>110</td>\n",
       "      <td>92</td>\n",
       "      <td>30.06</td>\n",
       "    </tr>\n",
       "    <tr>\n",
       "      <th>997</th>\n",
       "      <td>107</td>\n",
       "      <td>85</td>\n",
       "      <td>37.41</td>\n",
       "    </tr>\n",
       "    <tr>\n",
       "      <th>998</th>\n",
       "      <td>127</td>\n",
       "      <td>98</td>\n",
       "      <td>24.10</td>\n",
       "    </tr>\n",
       "    <tr>\n",
       "      <th>999</th>\n",
       "      <td>102</td>\n",
       "      <td>94</td>\n",
       "      <td>28.62</td>\n",
       "    </tr>\n",
       "  </tbody>\n",
       "</table>\n",
       "<p>1000 rows × 3 columns</p>\n",
       "</div>"
      ],
      "text/plain": [
       "     Flowing Temperature (0C)  Pour-Point(0C)  API gravity\n",
       "0                         132              85        37.19\n",
       "1                         109             100        22.55\n",
       "2                         115              99        23.94\n",
       "3                         139              87        36.83\n",
       "4                         127              89        33.27\n",
       "..                        ...             ...          ...\n",
       "995                       134              95        27.19\n",
       "996                       110              92        30.06\n",
       "997                       107              85        37.41\n",
       "998                       127              98        24.10\n",
       "999                       102              94        28.62\n",
       "\n",
       "[1000 rows x 3 columns]"
      ]
     },
     "execution_count": 8,
     "metadata": {},
     "output_type": "execute_result"
    }
   ],
   "source": [
    "x"
   ]
  },
  {
   "cell_type": "code",
   "execution_count": 9,
   "id": "a0a55285",
   "metadata": {},
   "outputs": [
    {
     "data": {
      "text/plain": [
       "0       5.9607\n",
       "1      14.1513\n",
       "2      12.2412\n",
       "3       4.3893\n",
       "4       7.3245\n",
       "        ...   \n",
       "995     5.9897\n",
       "996     9.3202\n",
       "997     5.8110\n",
       "998    11.5144\n",
       "999    14.2412\n",
       "Name: Viscosity(centipoises), Length: 1000, dtype: float64"
      ]
     },
     "execution_count": 9,
     "metadata": {},
     "output_type": "execute_result"
    }
   ],
   "source": [
    "y"
   ]
  },
  {
   "cell_type": "code",
   "execution_count": 10,
   "id": "df78f8b6",
   "metadata": {},
   "outputs": [],
   "source": [
    "x_train, x_test, y_train, y_test = train_test_split(x,\n",
    "                                                    y,\n",
    "                                                    test_size=0.20)"
   ]
  },
  {
   "cell_type": "code",
   "execution_count": 11,
   "id": "640c2b80",
   "metadata": {},
   "outputs": [],
   "source": [
    "# Normalization\n",
    "mean=x_train.mean(axis=0)\n",
    "x_train-=mean\n",
    "std=x_train.std(axis=0)\n",
    "x_train/=std\n",
    "\n",
    "x_test-=mean\n",
    "x_test/=std"
   ]
  },
  {
   "cell_type": "code",
   "execution_count": 12,
   "id": "8687deb3",
   "metadata": {},
   "outputs": [
    {
     "name": "stdout",
     "output_type": "stream",
     "text": [
      "(800, 3)\n",
      "(800,)\n",
      "(200, 3)\n",
      "(200,)\n"
     ]
    }
   ],
   "source": [
    "print(x_train.shape)\n",
    "print(y_train.shape)\n",
    "print(x_test.shape)\n",
    "print(y_test.shape)"
   ]
  },
  {
   "cell_type": "code",
   "execution_count": 13,
   "id": "78428243",
   "metadata": {},
   "outputs": [
    {
     "data": {
      "text/plain": [
       "(800, 1)"
      ]
     },
     "execution_count": 13,
     "metadata": {},
     "output_type": "execute_result"
    }
   ],
   "source": [
    "y_train=np.array(y_train)\n",
    "y_train=y_train.reshape(-1,1)\n",
    "y_train.shape"
   ]
  },
  {
   "cell_type": "code",
   "execution_count": 14,
   "id": "fa2834dd",
   "metadata": {},
   "outputs": [],
   "source": [
    "model=keras.Sequential(\n",
    "[keras.layers.Dense(units=512,input_dim=x_train.shape[1],activation='relu',name='input_layer'), \n",
    "  \n",
    "keras.layers.Dense(units=256,activation='relu',name='layer2'), \n",
    " keras.layers.Dropout(rate=0.2),\n",
    " \n",
    "keras.layers.Dense(units=64,activation='relu',name='layer3'),\n",
    " \n",
    "keras.layers.Dense(y_train.shape[1],activation='relu',name='output_layer')])      \n"
   ]
  },
  {
   "cell_type": "code",
   "execution_count": 15,
   "id": "20d1cef5",
   "metadata": {},
   "outputs": [],
   "source": [
    "model.compile(loss = ['mse'], optimizer = 'Adam', metrics = ['mse'])"
   ]
  },
  {
   "cell_type": "code",
   "execution_count": 16,
   "id": "1ecde93a",
   "metadata": {},
   "outputs": [
    {
     "name": "stdout",
     "output_type": "stream",
     "text": [
      "Model: \"sequential\"\n",
      "_________________________________________________________________\n",
      "Layer (type)                 Output Shape              Param #   \n",
      "=================================================================\n",
      "input_layer (Dense)          (None, 512)               2048      \n",
      "_________________________________________________________________\n",
      "layer2 (Dense)               (None, 256)               131328    \n",
      "_________________________________________________________________\n",
      "dropout (Dropout)            (None, 256)               0         \n",
      "_________________________________________________________________\n",
      "layer3 (Dense)               (None, 64)                16448     \n",
      "_________________________________________________________________\n",
      "output_layer (Dense)         (None, 1)                 65        \n",
      "=================================================================\n",
      "Total params: 149,889\n",
      "Trainable params: 149,889\n",
      "Non-trainable params: 0\n",
      "_________________________________________________________________\n"
     ]
    }
   ],
   "source": [
    "model.summary()"
   ]
  },
  {
   "cell_type": "code",
   "execution_count": 18,
   "id": "6aa14629",
   "metadata": {},
   "outputs": [
    {
     "name": "stdout",
     "output_type": "stream",
     "text": [
      "Epoch 1/200\n",
      "5/5 - 1s - loss: 78.1994 - mse: 78.1994 - val_loss: 75.1862 - val_mse: 75.1862\n",
      "Epoch 2/200\n",
      "5/5 - 0s - loss: 63.8409 - mse: 63.8409 - val_loss: 54.6795 - val_mse: 54.6795\n",
      "Epoch 3/200\n",
      "5/5 - 0s - loss: 42.0163 - mse: 42.0163 - val_loss: 28.5813 - val_mse: 28.5813\n",
      "Epoch 4/200\n",
      "5/5 - 0s - loss: 20.6881 - mse: 20.6881 - val_loss: 16.4771 - val_mse: 16.4771\n",
      "Epoch 5/200\n",
      "5/5 - 0s - loss: 16.4439 - mse: 16.4439 - val_loss: 18.4832 - val_mse: 18.4832\n",
      "Epoch 6/200\n",
      "5/5 - 0s - loss: 14.5790 - mse: 14.5790 - val_loss: 11.7883 - val_mse: 11.7883\n",
      "Epoch 7/200\n",
      "5/5 - 0s - loss: 10.3410 - mse: 10.3410 - val_loss: 10.6025 - val_mse: 10.6025\n",
      "Epoch 8/200\n",
      "5/5 - 0s - loss: 10.6884 - mse: 10.6884 - val_loss: 10.8607 - val_mse: 10.8607\n",
      "Epoch 9/200\n",
      "5/5 - 0s - loss: 10.3002 - mse: 10.3002 - val_loss: 10.1201 - val_mse: 10.1201\n",
      "Epoch 10/200\n",
      "5/5 - 0s - loss: 9.1338 - mse: 9.1338 - val_loss: 9.8052 - val_mse: 9.8052\n",
      "Epoch 11/200\n",
      "5/5 - 0s - loss: 8.7000 - mse: 8.7000 - val_loss: 9.0508 - val_mse: 9.0508\n",
      "Epoch 12/200\n",
      "5/5 - 0s - loss: 8.0924 - mse: 8.0924 - val_loss: 8.3536 - val_mse: 8.3536\n",
      "Epoch 13/200\n",
      "5/5 - 0s - loss: 7.8465 - mse: 7.8465 - val_loss: 8.0400 - val_mse: 8.0400\n",
      "Epoch 14/200\n",
      "5/5 - 0s - loss: 7.3593 - mse: 7.3593 - val_loss: 7.7726 - val_mse: 7.7726\n",
      "Epoch 15/200\n",
      "5/5 - 0s - loss: 7.1645 - mse: 7.1645 - val_loss: 7.4933 - val_mse: 7.4933\n",
      "Epoch 16/200\n",
      "5/5 - 0s - loss: 6.9152 - mse: 6.9152 - val_loss: 7.1985 - val_mse: 7.1985\n",
      "Epoch 17/200\n",
      "5/5 - 0s - loss: 6.7813 - mse: 6.7813 - val_loss: 6.9485 - val_mse: 6.9485\n",
      "Epoch 18/200\n",
      "5/5 - 0s - loss: 6.4273 - mse: 6.4273 - val_loss: 6.7487 - val_mse: 6.7487\n",
      "Epoch 19/200\n",
      "5/5 - 0s - loss: 6.1634 - mse: 6.1634 - val_loss: 6.5450 - val_mse: 6.5450\n",
      "Epoch 20/200\n",
      "5/5 - 0s - loss: 5.9637 - mse: 5.9637 - val_loss: 6.3348 - val_mse: 6.3348\n",
      "Epoch 21/200\n",
      "5/5 - 0s - loss: 6.0166 - mse: 6.0166 - val_loss: 6.1542 - val_mse: 6.1542\n",
      "Epoch 22/200\n",
      "5/5 - 0s - loss: 5.8237 - mse: 5.8237 - val_loss: 6.0140 - val_mse: 6.0140\n",
      "Epoch 23/200\n",
      "5/5 - 0s - loss: 5.5134 - mse: 5.5134 - val_loss: 5.8772 - val_mse: 5.8772\n",
      "Epoch 24/200\n",
      "5/5 - 0s - loss: 5.6050 - mse: 5.6050 - val_loss: 5.7952 - val_mse: 5.7952\n",
      "Epoch 25/200\n",
      "5/5 - 0s - loss: 5.3921 - mse: 5.3921 - val_loss: 5.7148 - val_mse: 5.7148\n",
      "Epoch 26/200\n",
      "5/5 - 0s - loss: 5.3136 - mse: 5.3136 - val_loss: 5.5710 - val_mse: 5.5710\n",
      "Epoch 27/200\n",
      "5/5 - 0s - loss: 5.2209 - mse: 5.2209 - val_loss: 5.4807 - val_mse: 5.4807\n",
      "Epoch 28/200\n",
      "5/5 - 0s - loss: 5.1158 - mse: 5.1158 - val_loss: 5.4457 - val_mse: 5.4457\n",
      "Epoch 29/200\n",
      "5/5 - 0s - loss: 5.1194 - mse: 5.1194 - val_loss: 5.4095 - val_mse: 5.4095\n",
      "Epoch 30/200\n",
      "5/5 - 0s - loss: 5.0455 - mse: 5.0455 - val_loss: 5.3469 - val_mse: 5.3469\n",
      "Epoch 31/200\n",
      "5/5 - 0s - loss: 5.0450 - mse: 5.0450 - val_loss: 5.2652 - val_mse: 5.2652\n",
      "Epoch 32/200\n",
      "5/5 - 0s - loss: 5.0501 - mse: 5.0501 - val_loss: 5.2472 - val_mse: 5.2472\n",
      "Epoch 33/200\n",
      "5/5 - 0s - loss: 4.9426 - mse: 4.9426 - val_loss: 5.2386 - val_mse: 5.2386\n",
      "Epoch 34/200\n",
      "5/5 - 0s - loss: 4.9331 - mse: 4.9331 - val_loss: 5.1884 - val_mse: 5.1884\n",
      "Epoch 35/200\n",
      "5/5 - 0s - loss: 4.7299 - mse: 4.7299 - val_loss: 5.1507 - val_mse: 5.1507\n",
      "Epoch 36/200\n",
      "5/5 - 0s - loss: 4.7830 - mse: 4.7830 - val_loss: 5.1874 - val_mse: 5.1874\n",
      "Epoch 37/200\n",
      "5/5 - 0s - loss: 4.7721 - mse: 4.7721 - val_loss: 5.1796 - val_mse: 5.1796\n",
      "Epoch 38/200\n",
      "5/5 - 0s - loss: 4.8539 - mse: 4.8539 - val_loss: 5.1318 - val_mse: 5.1318\n",
      "Epoch 39/200\n",
      "5/5 - 0s - loss: 4.8234 - mse: 4.8234 - val_loss: 5.1087 - val_mse: 5.1087\n",
      "Epoch 40/200\n",
      "5/5 - 0s - loss: 4.9265 - mse: 4.9265 - val_loss: 5.1269 - val_mse: 5.1269\n",
      "Epoch 41/200\n",
      "5/5 - 0s - loss: 4.9409 - mse: 4.9409 - val_loss: 5.1249 - val_mse: 5.1249\n",
      "Epoch 42/200\n",
      "5/5 - 0s - loss: 4.8595 - mse: 4.8595 - val_loss: 5.1307 - val_mse: 5.1307\n",
      "Epoch 43/200\n",
      "5/5 - 0s - loss: 4.8204 - mse: 4.8204 - val_loss: 5.0859 - val_mse: 5.0859\n",
      "Epoch 44/200\n",
      "5/5 - 0s - loss: 4.8751 - mse: 4.8751 - val_loss: 5.0363 - val_mse: 5.0363\n",
      "Epoch 45/200\n",
      "5/5 - 0s - loss: 4.8637 - mse: 4.8637 - val_loss: 5.0613 - val_mse: 5.0613\n",
      "Epoch 46/200\n",
      "5/5 - 0s - loss: 4.7778 - mse: 4.7778 - val_loss: 5.0336 - val_mse: 5.0336\n",
      "Epoch 47/200\n",
      "5/5 - 0s - loss: 4.8324 - mse: 4.8324 - val_loss: 5.0406 - val_mse: 5.0406\n",
      "Epoch 48/200\n",
      "5/5 - 0s - loss: 4.9730 - mse: 4.9730 - val_loss: 5.0252 - val_mse: 5.0252\n",
      "Epoch 49/200\n",
      "5/5 - 0s - loss: 4.6983 - mse: 4.6983 - val_loss: 5.0484 - val_mse: 5.0484\n",
      "Epoch 50/200\n",
      "5/5 - 0s - loss: 4.8945 - mse: 4.8945 - val_loss: 5.0088 - val_mse: 5.0088\n",
      "Epoch 51/200\n",
      "5/5 - 0s - loss: 4.7286 - mse: 4.7286 - val_loss: 4.9909 - val_mse: 4.9909\n",
      "Epoch 52/200\n",
      "5/5 - 0s - loss: 4.6900 - mse: 4.6900 - val_loss: 4.9977 - val_mse: 4.9977\n",
      "Epoch 53/200\n",
      "5/5 - 0s - loss: 4.6616 - mse: 4.6616 - val_loss: 5.0181 - val_mse: 5.0181\n",
      "Epoch 54/200\n",
      "5/5 - 0s - loss: 4.7416 - mse: 4.7416 - val_loss: 5.0371 - val_mse: 5.0371\n",
      "Epoch 55/200\n",
      "5/5 - 0s - loss: 4.7448 - mse: 4.7448 - val_loss: 4.9870 - val_mse: 4.9870\n",
      "Epoch 56/200\n",
      "5/5 - 0s - loss: 4.7830 - mse: 4.7830 - val_loss: 4.9600 - val_mse: 4.9600\n",
      "Epoch 57/200\n",
      "5/5 - 0s - loss: 4.6318 - mse: 4.6318 - val_loss: 4.9685 - val_mse: 4.9685\n",
      "Epoch 58/200\n",
      "5/5 - 0s - loss: 4.7196 - mse: 4.7196 - val_loss: 5.0081 - val_mse: 5.0081\n",
      "Epoch 59/200\n",
      "5/5 - 0s - loss: 4.7244 - mse: 4.7244 - val_loss: 4.9954 - val_mse: 4.9954\n",
      "Epoch 60/200\n",
      "5/5 - 0s - loss: 4.7519 - mse: 4.7519 - val_loss: 4.9628 - val_mse: 4.9628\n",
      "Epoch 61/200\n",
      "5/5 - 0s - loss: 4.5780 - mse: 4.5780 - val_loss: 4.9738 - val_mse: 4.9738\n",
      "Epoch 62/200\n",
      "5/5 - 0s - loss: 4.6477 - mse: 4.6477 - val_loss: 4.9880 - val_mse: 4.9880\n",
      "Epoch 63/200\n",
      "5/5 - 0s - loss: 4.6944 - mse: 4.6944 - val_loss: 4.9955 - val_mse: 4.9955\n",
      "Epoch 64/200\n",
      "5/5 - 0s - loss: 4.6539 - mse: 4.6539 - val_loss: 4.9679 - val_mse: 4.9679\n",
      "Epoch 65/200\n",
      "5/5 - 0s - loss: 4.5948 - mse: 4.5948 - val_loss: 4.9477 - val_mse: 4.9477\n",
      "Epoch 66/200\n",
      "5/5 - 0s - loss: 4.6480 - mse: 4.6480 - val_loss: 5.0090 - val_mse: 5.0090\n",
      "Epoch 67/200\n",
      "5/5 - 0s - loss: 4.6816 - mse: 4.6816 - val_loss: 4.9813 - val_mse: 4.9813\n",
      "Epoch 68/200\n",
      "5/5 - 0s - loss: 4.6976 - mse: 4.6976 - val_loss: 4.9667 - val_mse: 4.9667\n",
      "Epoch 69/200\n",
      "5/5 - 0s - loss: 4.7058 - mse: 4.7058 - val_loss: 4.9646 - val_mse: 4.9646\n",
      "Epoch 70/200\n",
      "5/5 - 0s - loss: 4.6630 - mse: 4.6630 - val_loss: 4.9574 - val_mse: 4.9574\n",
      "Epoch 71/200\n",
      "5/5 - 0s - loss: 4.5621 - mse: 4.5621 - val_loss: 5.0147 - val_mse: 5.0147\n",
      "Epoch 72/200\n",
      "5/5 - 0s - loss: 4.4663 - mse: 4.4663 - val_loss: 4.9643 - val_mse: 4.9643\n",
      "Epoch 73/200\n",
      "5/5 - 0s - loss: 4.6239 - mse: 4.6239 - val_loss: 4.9539 - val_mse: 4.9539\n",
      "Epoch 74/200\n",
      "5/5 - 0s - loss: 4.7585 - mse: 4.7585 - val_loss: 4.9489 - val_mse: 4.9489\n",
      "Epoch 75/200\n",
      "5/5 - 0s - loss: 4.6861 - mse: 4.6861 - val_loss: 4.9939 - val_mse: 4.9939\n",
      "Epoch 76/200\n",
      "5/5 - 0s - loss: 4.5973 - mse: 4.5973 - val_loss: 4.9437 - val_mse: 4.9437\n",
      "Epoch 77/200\n",
      "5/5 - 0s - loss: 4.6379 - mse: 4.6379 - val_loss: 5.0230 - val_mse: 5.0230\n",
      "Epoch 78/200\n",
      "5/5 - 0s - loss: 4.7578 - mse: 4.7578 - val_loss: 5.0068 - val_mse: 5.0068\n",
      "Epoch 79/200\n",
      "5/5 - 0s - loss: 4.7273 - mse: 4.7273 - val_loss: 4.9974 - val_mse: 4.9974\n",
      "Epoch 80/200\n",
      "5/5 - 0s - loss: 4.5564 - mse: 4.5564 - val_loss: 4.9920 - val_mse: 4.9920\n",
      "Epoch 81/200\n",
      "5/5 - 0s - loss: 4.6610 - mse: 4.6610 - val_loss: 4.9558 - val_mse: 4.9558\n",
      "Epoch 82/200\n",
      "5/5 - 0s - loss: 4.7254 - mse: 4.7254 - val_loss: 4.9687 - val_mse: 4.9687\n",
      "Epoch 83/200\n",
      "5/5 - 0s - loss: 4.5242 - mse: 4.5242 - val_loss: 4.9875 - val_mse: 4.9875\n",
      "Epoch 84/200\n",
      "5/5 - 0s - loss: 4.6826 - mse: 4.6826 - val_loss: 4.9619 - val_mse: 4.9619\n",
      "Epoch 85/200\n",
      "5/5 - 0s - loss: 4.6365 - mse: 4.6365 - val_loss: 4.9425 - val_mse: 4.9425\n",
      "Epoch 86/200\n",
      "5/5 - 0s - loss: 4.6906 - mse: 4.6906 - val_loss: 4.9675 - val_mse: 4.9675\n",
      "Epoch 87/200\n",
      "5/5 - 0s - loss: 4.6085 - mse: 4.6085 - val_loss: 4.9732 - val_mse: 4.9732\n",
      "Epoch 88/200\n",
      "5/5 - 0s - loss: 4.6063 - mse: 4.6063 - val_loss: 4.9328 - val_mse: 4.9328\n",
      "Epoch 89/200\n",
      "5/5 - 0s - loss: 4.5791 - mse: 4.5791 - val_loss: 4.9714 - val_mse: 4.9714\n",
      "Epoch 90/200\n",
      "5/5 - 0s - loss: 4.6360 - mse: 4.6360 - val_loss: 4.9586 - val_mse: 4.9586\n",
      "Epoch 91/200\n",
      "5/5 - 0s - loss: 4.5228 - mse: 4.5228 - val_loss: 4.9341 - val_mse: 4.9341\n",
      "Epoch 92/200\n",
      "5/5 - 0s - loss: 4.5811 - mse: 4.5811 - val_loss: 4.9707 - val_mse: 4.9707\n",
      "Epoch 93/200\n",
      "5/5 - 0s - loss: 4.5555 - mse: 4.5555 - val_loss: 5.0114 - val_mse: 5.0114\n"
     ]
    },
    {
     "name": "stdout",
     "output_type": "stream",
     "text": [
      "Epoch 94/200\n",
      "5/5 - 0s - loss: 4.6929 - mse: 4.6929 - val_loss: 5.0302 - val_mse: 5.0302\n",
      "Epoch 95/200\n",
      "5/5 - 0s - loss: 4.6761 - mse: 4.6761 - val_loss: 4.9396 - val_mse: 4.9396\n",
      "Epoch 96/200\n",
      "5/5 - 0s - loss: 4.7315 - mse: 4.7315 - val_loss: 5.0434 - val_mse: 5.0434\n",
      "Epoch 97/200\n",
      "5/5 - 0s - loss: 4.4960 - mse: 4.4960 - val_loss: 4.9321 - val_mse: 4.9321\n",
      "Epoch 98/200\n",
      "5/5 - 0s - loss: 4.4957 - mse: 4.4957 - val_loss: 4.9384 - val_mse: 4.9384\n",
      "Epoch 99/200\n",
      "5/5 - 0s - loss: 4.6292 - mse: 4.6292 - val_loss: 4.9825 - val_mse: 4.9825\n",
      "Epoch 100/200\n",
      "5/5 - 0s - loss: 4.6695 - mse: 4.6695 - val_loss: 5.0040 - val_mse: 5.0040\n",
      "Epoch 101/200\n",
      "5/5 - 0s - loss: 4.7085 - mse: 4.7085 - val_loss: 5.0361 - val_mse: 5.0361\n",
      "Epoch 102/200\n",
      "5/5 - 0s - loss: 4.6451 - mse: 4.6451 - val_loss: 4.9332 - val_mse: 4.9332\n",
      "Epoch 103/200\n",
      "5/5 - 0s - loss: 4.6947 - mse: 4.6947 - val_loss: 4.9760 - val_mse: 4.9760\n",
      "Epoch 104/200\n",
      "5/5 - 0s - loss: 4.5596 - mse: 4.5596 - val_loss: 5.0796 - val_mse: 5.0796\n",
      "Epoch 105/200\n",
      "5/5 - 0s - loss: 4.6956 - mse: 4.6956 - val_loss: 5.0084 - val_mse: 5.0084\n",
      "Epoch 106/200\n",
      "5/5 - 0s - loss: 4.5425 - mse: 4.5425 - val_loss: 5.0500 - val_mse: 5.0500\n",
      "Epoch 107/200\n",
      "5/5 - 0s - loss: 4.5811 - mse: 4.5811 - val_loss: 4.9832 - val_mse: 4.9832\n",
      "Epoch 108/200\n",
      "5/5 - 0s - loss: 4.5835 - mse: 4.5835 - val_loss: 4.9997 - val_mse: 4.9997\n",
      "Epoch 109/200\n",
      "5/5 - 0s - loss: 4.4151 - mse: 4.4151 - val_loss: 4.9422 - val_mse: 4.9422\n",
      "Epoch 110/200\n",
      "5/5 - 0s - loss: 4.5554 - mse: 4.5554 - val_loss: 4.9403 - val_mse: 4.9403\n",
      "Epoch 111/200\n",
      "5/5 - 0s - loss: 4.4241 - mse: 4.4241 - val_loss: 4.9542 - val_mse: 4.9542\n",
      "Epoch 112/200\n",
      "5/5 - 0s - loss: 4.5380 - mse: 4.5380 - val_loss: 5.0304 - val_mse: 5.0304\n",
      "Epoch 113/200\n",
      "5/5 - 0s - loss: 4.4366 - mse: 4.4366 - val_loss: 4.9354 - val_mse: 4.9354\n",
      "Epoch 114/200\n",
      "5/5 - 0s - loss: 4.5783 - mse: 4.5783 - val_loss: 4.9294 - val_mse: 4.9294\n",
      "Epoch 115/200\n",
      "5/5 - 0s - loss: 4.4712 - mse: 4.4712 - val_loss: 4.9518 - val_mse: 4.9518\n",
      "Epoch 116/200\n",
      "5/5 - 0s - loss: 4.3685 - mse: 4.3685 - val_loss: 4.9760 - val_mse: 4.9760\n",
      "Epoch 117/200\n",
      "5/5 - 0s - loss: 4.4550 - mse: 4.4550 - val_loss: 4.9361 - val_mse: 4.9361\n",
      "Epoch 118/200\n",
      "5/5 - 0s - loss: 4.5500 - mse: 4.5500 - val_loss: 4.9408 - val_mse: 4.9408\n",
      "Epoch 119/200\n",
      "5/5 - 0s - loss: 4.5421 - mse: 4.5421 - val_loss: 4.9851 - val_mse: 4.9851\n",
      "Epoch 120/200\n",
      "5/5 - 0s - loss: 4.3643 - mse: 4.3643 - val_loss: 4.9339 - val_mse: 4.9339\n",
      "Epoch 121/200\n",
      "5/5 - 0s - loss: 4.6916 - mse: 4.6916 - val_loss: 4.9588 - val_mse: 4.9588\n",
      "Epoch 122/200\n",
      "5/5 - 0s - loss: 4.5002 - mse: 4.5002 - val_loss: 4.9740 - val_mse: 4.9740\n",
      "Epoch 123/200\n",
      "5/5 - 0s - loss: 4.5814 - mse: 4.5814 - val_loss: 4.9340 - val_mse: 4.9340\n",
      "Epoch 124/200\n",
      "5/5 - 0s - loss: 4.6872 - mse: 4.6872 - val_loss: 5.0617 - val_mse: 5.0617\n",
      "Epoch 125/200\n",
      "5/5 - 0s - loss: 4.6113 - mse: 4.6113 - val_loss: 4.9334 - val_mse: 4.9334\n",
      "Epoch 126/200\n",
      "5/5 - 0s - loss: 4.5439 - mse: 4.5439 - val_loss: 4.9454 - val_mse: 4.9454\n",
      "Epoch 127/200\n",
      "5/5 - 0s - loss: 4.4754 - mse: 4.4754 - val_loss: 4.9662 - val_mse: 4.9662\n",
      "Epoch 128/200\n",
      "5/5 - 0s - loss: 4.3977 - mse: 4.3977 - val_loss: 4.9531 - val_mse: 4.9531\n",
      "Epoch 129/200\n",
      "5/5 - 0s - loss: 4.5779 - mse: 4.5779 - val_loss: 4.9336 - val_mse: 4.9336\n",
      "Epoch 130/200\n",
      "5/5 - 0s - loss: 4.4014 - mse: 4.4014 - val_loss: 4.9932 - val_mse: 4.9932\n",
      "Epoch 131/200\n",
      "5/5 - 0s - loss: 4.4007 - mse: 4.4007 - val_loss: 4.9782 - val_mse: 4.9782\n",
      "Epoch 132/200\n",
      "5/5 - 0s - loss: 4.4900 - mse: 4.4900 - val_loss: 4.9849 - val_mse: 4.9849\n",
      "Epoch 133/200\n",
      "5/5 - 0s - loss: 4.3316 - mse: 4.3316 - val_loss: 4.9755 - val_mse: 4.9755\n",
      "Epoch 134/200\n",
      "5/5 - 0s - loss: 4.4024 - mse: 4.4024 - val_loss: 4.9408 - val_mse: 4.9408\n",
      "Epoch 135/200\n",
      "5/5 - 0s - loss: 4.4416 - mse: 4.4416 - val_loss: 4.9933 - val_mse: 4.9933\n",
      "Epoch 136/200\n",
      "5/5 - 0s - loss: 4.4837 - mse: 4.4837 - val_loss: 4.9853 - val_mse: 4.9853\n",
      "Epoch 137/200\n",
      "5/5 - 0s - loss: 4.4498 - mse: 4.4498 - val_loss: 4.9799 - val_mse: 4.9799\n",
      "Epoch 138/200\n",
      "5/5 - 0s - loss: 4.6049 - mse: 4.6049 - val_loss: 5.0091 - val_mse: 5.0091\n",
      "Epoch 139/200\n",
      "5/5 - 0s - loss: 4.5785 - mse: 4.5785 - val_loss: 4.9708 - val_mse: 4.9708\n",
      "Epoch 140/200\n",
      "5/5 - 0s - loss: 4.4967 - mse: 4.4967 - val_loss: 5.0535 - val_mse: 5.0535\n",
      "Epoch 141/200\n",
      "5/5 - 0s - loss: 4.4078 - mse: 4.4078 - val_loss: 4.9677 - val_mse: 4.9677\n",
      "Epoch 142/200\n",
      "5/5 - 0s - loss: 4.5127 - mse: 4.5127 - val_loss: 4.9784 - val_mse: 4.9784\n",
      "Epoch 143/200\n",
      "5/5 - 0s - loss: 4.4025 - mse: 4.4025 - val_loss: 4.9586 - val_mse: 4.9586\n",
      "Epoch 144/200\n",
      "5/5 - 0s - loss: 4.4869 - mse: 4.4869 - val_loss: 4.9914 - val_mse: 4.9914\n",
      "Epoch 145/200\n",
      "5/5 - 0s - loss: 4.5374 - mse: 4.5374 - val_loss: 4.9454 - val_mse: 4.9454\n",
      "Epoch 146/200\n",
      "5/5 - 0s - loss: 4.5459 - mse: 4.5459 - val_loss: 4.9548 - val_mse: 4.9548\n",
      "Epoch 147/200\n",
      "5/5 - 0s - loss: 4.6412 - mse: 4.6412 - val_loss: 4.9789 - val_mse: 4.9789\n",
      "Epoch 148/200\n",
      "5/5 - 0s - loss: 4.5963 - mse: 4.5963 - val_loss: 4.9960 - val_mse: 4.9960\n",
      "Epoch 149/200\n",
      "5/5 - 0s - loss: 4.7835 - mse: 4.7835 - val_loss: 4.9514 - val_mse: 4.9514\n",
      "Epoch 150/200\n",
      "5/5 - 0s - loss: 4.7082 - mse: 4.7082 - val_loss: 4.9865 - val_mse: 4.9865\n",
      "Epoch 151/200\n",
      "5/5 - 0s - loss: 4.4032 - mse: 4.4032 - val_loss: 5.1017 - val_mse: 5.1017\n",
      "Epoch 152/200\n",
      "5/5 - 0s - loss: 4.4998 - mse: 4.4998 - val_loss: 4.9337 - val_mse: 4.9337\n",
      "Epoch 153/200\n",
      "5/5 - 0s - loss: 4.5767 - mse: 4.5767 - val_loss: 4.9734 - val_mse: 4.9734\n",
      "Epoch 154/200\n",
      "5/5 - 0s - loss: 4.5229 - mse: 4.5229 - val_loss: 4.9584 - val_mse: 4.9584\n",
      "Epoch 155/200\n",
      "5/5 - 0s - loss: 4.3386 - mse: 4.3386 - val_loss: 4.9659 - val_mse: 4.9659\n",
      "Epoch 156/200\n",
      "5/5 - 0s - loss: 4.4576 - mse: 4.4576 - val_loss: 4.9366 - val_mse: 4.9366\n",
      "Epoch 157/200\n",
      "5/5 - 0s - loss: 4.4475 - mse: 4.4475 - val_loss: 4.9930 - val_mse: 4.9930\n",
      "Epoch 158/200\n",
      "5/5 - 0s - loss: 4.4404 - mse: 4.4404 - val_loss: 4.9610 - val_mse: 4.9610\n",
      "Epoch 159/200\n",
      "5/5 - 0s - loss: 4.4519 - mse: 4.4519 - val_loss: 4.9595 - val_mse: 4.9595\n",
      "Epoch 160/200\n",
      "5/5 - 0s - loss: 4.3806 - mse: 4.3806 - val_loss: 4.9667 - val_mse: 4.9667\n",
      "Epoch 161/200\n",
      "5/5 - 0s - loss: 4.4840 - mse: 4.4840 - val_loss: 4.9751 - val_mse: 4.9751\n",
      "Epoch 162/200\n",
      "5/5 - 0s - loss: 4.4567 - mse: 4.4567 - val_loss: 4.9728 - val_mse: 4.9728\n",
      "Epoch 163/200\n",
      "5/5 - 0s - loss: 4.5176 - mse: 4.5176 - val_loss: 4.9643 - val_mse: 4.9643\n",
      "Epoch 164/200\n",
      "5/5 - 0s - loss: 4.4416 - mse: 4.4416 - val_loss: 4.9635 - val_mse: 4.9635\n",
      "Epoch 165/200\n",
      "5/5 - 0s - loss: 4.4153 - mse: 4.4153 - val_loss: 4.9333 - val_mse: 4.9333\n",
      "Epoch 166/200\n",
      "5/5 - 0s - loss: 4.4675 - mse: 4.4675 - val_loss: 5.0446 - val_mse: 5.0446\n",
      "Epoch 167/200\n",
      "5/5 - 0s - loss: 4.4628 - mse: 4.4628 - val_loss: 5.0020 - val_mse: 5.0020\n",
      "Epoch 168/200\n",
      "5/5 - 0s - loss: 4.4486 - mse: 4.4486 - val_loss: 5.0134 - val_mse: 5.0134\n",
      "Epoch 169/200\n",
      "5/5 - 0s - loss: 4.5833 - mse: 4.5833 - val_loss: 4.9809 - val_mse: 4.9809\n",
      "Epoch 170/200\n",
      "5/5 - 0s - loss: 4.4140 - mse: 4.4140 - val_loss: 5.0092 - val_mse: 5.0092\n",
      "Epoch 171/200\n",
      "5/5 - 0s - loss: 4.4238 - mse: 4.4238 - val_loss: 5.0211 - val_mse: 5.0211\n",
      "Epoch 172/200\n",
      "5/5 - 0s - loss: 4.4015 - mse: 4.4015 - val_loss: 4.9689 - val_mse: 4.9689\n",
      "Epoch 173/200\n",
      "5/5 - 0s - loss: 4.6275 - mse: 4.6275 - val_loss: 4.9799 - val_mse: 4.9799\n",
      "Epoch 174/200\n",
      "5/5 - 0s - loss: 4.3955 - mse: 4.3955 - val_loss: 4.9942 - val_mse: 4.9942\n",
      "Epoch 175/200\n",
      "5/5 - 0s - loss: 4.5812 - mse: 4.5812 - val_loss: 4.9680 - val_mse: 4.9680\n",
      "Epoch 176/200\n",
      "5/5 - 0s - loss: 4.3858 - mse: 4.3858 - val_loss: 4.9622 - val_mse: 4.9622\n",
      "Epoch 177/200\n",
      "5/5 - 0s - loss: 4.2834 - mse: 4.2834 - val_loss: 5.0328 - val_mse: 5.0328\n",
      "Epoch 178/200\n",
      "5/5 - 0s - loss: 4.3578 - mse: 4.3578 - val_loss: 4.9522 - val_mse: 4.9522\n",
      "Epoch 179/200\n",
      "5/5 - 0s - loss: 4.3938 - mse: 4.3938 - val_loss: 4.9964 - val_mse: 4.9964\n",
      "Epoch 180/200\n",
      "5/5 - 0s - loss: 4.3273 - mse: 4.3273 - val_loss: 4.9629 - val_mse: 4.9629\n",
      "Epoch 181/200\n",
      "5/5 - 0s - loss: 4.3705 - mse: 4.3705 - val_loss: 5.0103 - val_mse: 5.0103\n",
      "Epoch 182/200\n",
      "5/5 - 0s - loss: 4.4820 - mse: 4.4820 - val_loss: 5.0282 - val_mse: 5.0282\n",
      "Epoch 183/200\n",
      "5/5 - 0s - loss: 4.4473 - mse: 4.4473 - val_loss: 5.0357 - val_mse: 5.0357\n",
      "Epoch 184/200\n",
      "5/5 - 0s - loss: 4.4410 - mse: 4.4410 - val_loss: 5.0131 - val_mse: 5.0131\n",
      "Epoch 185/200\n",
      "5/5 - 0s - loss: 4.5688 - mse: 4.5688 - val_loss: 5.0743 - val_mse: 5.0743\n",
      "Epoch 186/200\n",
      "5/5 - 0s - loss: 4.4328 - mse: 4.4328 - val_loss: 4.9514 - val_mse: 4.9514\n"
     ]
    },
    {
     "name": "stdout",
     "output_type": "stream",
     "text": [
      "Epoch 187/200\n",
      "5/5 - 0s - loss: 4.6205 - mse: 4.6205 - val_loss: 4.9952 - val_mse: 4.9952\n",
      "Epoch 188/200\n",
      "5/5 - 0s - loss: 4.3276 - mse: 4.3276 - val_loss: 5.0178 - val_mse: 5.0178\n",
      "Epoch 189/200\n",
      "5/5 - 0s - loss: 4.4147 - mse: 4.4147 - val_loss: 5.0296 - val_mse: 5.0296\n",
      "Epoch 190/200\n",
      "5/5 - 0s - loss: 4.4516 - mse: 4.4516 - val_loss: 4.9707 - val_mse: 4.9707\n",
      "Epoch 191/200\n",
      "5/5 - 0s - loss: 4.3751 - mse: 4.3751 - val_loss: 5.0436 - val_mse: 5.0436\n",
      "Epoch 192/200\n",
      "5/5 - 0s - loss: 4.2909 - mse: 4.2909 - val_loss: 5.0176 - val_mse: 5.0176\n",
      "Epoch 193/200\n",
      "5/5 - 0s - loss: 4.3227 - mse: 4.3227 - val_loss: 5.0380 - val_mse: 5.0380\n",
      "Epoch 194/200\n",
      "5/5 - 0s - loss: 4.4857 - mse: 4.4857 - val_loss: 5.0243 - val_mse: 5.0243\n",
      "Epoch 195/200\n",
      "5/5 - 0s - loss: 4.4588 - mse: 4.4588 - val_loss: 5.0918 - val_mse: 5.0918\n",
      "Epoch 196/200\n",
      "5/5 - 0s - loss: 4.2715 - mse: 4.2715 - val_loss: 5.0233 - val_mse: 5.0233\n",
      "Epoch 197/200\n",
      "5/5 - 0s - loss: 4.4296 - mse: 4.4296 - val_loss: 5.1132 - val_mse: 5.1132\n",
      "Epoch 198/200\n",
      "5/5 - 0s - loss: 4.4758 - mse: 4.4758 - val_loss: 4.9686 - val_mse: 4.9686\n",
      "Epoch 199/200\n",
      "5/5 - 0s - loss: 4.4450 - mse: 4.4450 - val_loss: 5.0112 - val_mse: 5.0112\n",
      "Epoch 200/200\n",
      "5/5 - 0s - loss: 4.3895 - mse: 4.3895 - val_loss: 5.0524 - val_mse: 5.0524\n"
     ]
    },
    {
     "data": {
      "text/plain": [
       "<keras.callbacks.History at 0x1dfb8b56430>"
      ]
     },
     "execution_count": 18,
     "metadata": {},
     "output_type": "execute_result"
    }
   ],
   "source": [
    "history=model.fit(x_train, y_train,validation_split=0.2,epochs=200,verbose=2,batch_size=128)\n",
    "history  "
   ]
  },
  {
   "cell_type": "code",
   "execution_count": 19,
   "id": "9e921ad9",
   "metadata": {},
   "outputs": [
    {
     "name": "stdout",
     "output_type": "stream",
     "text": [
      "25/25 [==============================] - 0s 5ms/step - loss: 4.3797 - mse: 4.3797\n",
      "loss=  [4.379661560058594, 4.379661560058594]\n"
     ]
    }
   ],
   "source": [
    "loss=model.evaluate(x_train,y_train)\n",
    "print('loss= ',loss)"
   ]
  },
  {
   "cell_type": "code",
   "execution_count": 20,
   "id": "6bffcdd6",
   "metadata": {},
   "outputs": [
    {
     "name": "stdout",
     "output_type": "stream",
     "text": [
      "7/7 [==============================] - 0s 4ms/step - loss: 4.2223 - mse: 4.2223\n",
      "scores=  [4.222316741943359, 4.222316741943359]\n"
     ]
    }
   ],
   "source": [
    "scores=model.evaluate(x_test,y_test)\n",
    "print('scores= ',scores)"
   ]
  },
  {
   "cell_type": "code",
   "execution_count": 21,
   "id": "68514c10",
   "metadata": {},
   "outputs": [],
   "source": [
    "prediction=model.predict(x_test)"
   ]
  },
  {
   "cell_type": "code",
   "execution_count": 22,
   "id": "75ef1b21",
   "metadata": {},
   "outputs": [],
   "source": [
    "predt=model.predict(x_train)"
   ]
  },
  {
   "cell_type": "code",
   "execution_count": 23,
   "id": "195b73c0",
   "metadata": {},
   "outputs": [
    {
     "name": "stdout",
     "output_type": "stream",
     "text": [
      "[8.613696]\n"
     ]
    }
   ],
   "source": [
    "print(prediction[10])"
   ]
  },
  {
   "cell_type": "code",
   "execution_count": 24,
   "id": "f9b85127",
   "metadata": {},
   "outputs": [
    {
     "data": {
      "text/plain": [
       "10.8125"
      ]
     },
     "execution_count": 24,
     "metadata": {},
     "output_type": "execute_result"
    }
   ],
   "source": [
    "y_test.iloc[10]"
   ]
  },
  {
   "cell_type": "code",
   "execution_count": 25,
   "id": "84e46d2f",
   "metadata": {},
   "outputs": [
    {
     "data": {
      "image/png": "[encoded data removed]",
      "text/plain": [
       "<Figure size 432x288 with 1 Axes>"
      ]
     },
     "metadata": {
      "needs_background": "light"
     },
     "output_type": "display_data"
    }
   ],
   "source": [
    "plt.plot(history.history['loss'],label='loss')\n",
    "plt.plot(history.history['val_loss'],label='val_loss')\n",
    "plt.xlabel('Epoch')\n",
    "plt.ylabel('Error')\n",
    "plt.legend()\n",
    "plt.grid(True)"
   ]
  },
  {
   "cell_type": "code",
   "execution_count": 26,
   "id": "4f72f446",
   "metadata": {},
   "outputs": [],
   "source": [
    "from sklearn.metrics import r2_score\n",
    "from sklearn.metrics import mean_squared_error"
   ]
  },
  {
   "cell_type": "code",
   "execution_count": 27,
   "id": "677fce8f",
   "metadata": {},
   "outputs": [
    {
     "data": {
      "text/plain": [
       "4.222316671656011"
      ]
     },
     "execution_count": 27,
     "metadata": {},
     "output_type": "execute_result"
    }
   ],
   "source": [
    "mean_squared_error(prediction,y_test)"
   ]
  },
  {
   "cell_type": "code",
   "execution_count": 28,
   "id": "ab2d31d3",
   "metadata": {},
   "outputs": [
    {
     "data": {
      "text/plain": [
       "4.379661474098844"
      ]
     },
     "execution_count": 28,
     "metadata": {},
     "output_type": "execute_result"
    }
   ],
   "source": [
    "mean_squared_error(predt,y_train)"
   ]
  },
  {
   "cell_type": "code",
   "execution_count": 29,
   "id": "31df7d98",
   "metadata": {},
   "outputs": [
    {
     "data": {
      "text/plain": [
       "0.40604306904164067"
      ]
     },
     "execution_count": 29,
     "metadata": {},
     "output_type": "execute_result"
    }
   ],
   "source": [
    "r2_score(prediction,y_test)"
   ]
  },
  {
   "cell_type": "code",
   "execution_count": 30,
   "id": "6e45d5db",
   "metadata": {},
   "outputs": [
    {
     "data": {
      "text/plain": [
       "0.4107535092771949"
      ]
     },
     "execution_count": 30,
     "metadata": {},
     "output_type": "execute_result"
    }
   ],
   "source": [
    "r2_score(predt,y_train)"
   ]
  },
  {
   "cell_type": "code",
   "execution_count": null,
   "id": "3537498c",
   "metadata": {},
   "outputs": [],
   "source": []
  },
  {
   "cell_type": "code",
   "execution_count": 31,
   "id": "106ae371",
   "metadata": {},
   "outputs": [],
   "source": [
    "from sklearn import linear_model"
   ]
  },
  {
   "cell_type": "code",
   "execution_count": 33,
   "id": "1db959e8",
   "metadata": {},
   "outputs": [
    {
     "name": "stdout",
     "output_type": "stream",
     "text": [
      "Mean squared error from linear regression 4.3588642496813135\n"
     ]
    }
   ],
   "source": [
    "lr_model=linear_model.LinearRegression()\n",
    "lr_model.fit(x_train,y_train)\n",
    "y_pred_lr=lr_model.predict(x_test)\n",
    "mse_lr=mean_squared_error(y_test,y_pred_lr)\n",
    "print('Mean squared error from linear regression', mse_lr)"
   ]
  },
  {
   "cell_type": "code",
   "execution_count": null,
   "id": "98141c7b",
   "metadata": {},
   "outputs": [],
   "source": []
  },
  {
   "cell_type": "code",
   "execution_count": null,
   "id": "200cd5d1",
   "metadata": {},
   "outputs": [],
   "source": []
  },
  {
   "cell_type": "code",
   "execution_count": null,
   "id": "e05daa6b",
   "metadata": {},
   "outputs": [],
   "source": []
  }
 ],
 "metadata": {
  "kernelspec": {
   "display_name": "Python 3 (ipykernel)",
   "language": "python",
   "name": "python3"
  },
  "language_info": {
   "codemirror_mode": {
    "name": "ipython",
    "version": 3
   },
   "file_extension": ".py",
   "mimetype": "text/x-python",
   "name": "python",
   "nbconvert_exporter": "python",
   "pygments_lexer": "ipython3",
   "version": "3.9.18"
  }
 },
 "nbformat": 4,
 "nbformat_minor": 5
}
