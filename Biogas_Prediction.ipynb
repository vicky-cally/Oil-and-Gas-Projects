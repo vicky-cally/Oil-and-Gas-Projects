{
 "cells": [
  {
   "cell_type": "markdown",
   "id": "618c525e",
   "metadata": {},
   "source": [
    "#### Loading the libraries"
   ]
  },
  {
   "cell_type": "code",
   "execution_count": 1,
   "id": "da15d3df",
   "metadata": {},
   "outputs": [],
   "source": [
    "import pandas as pd\n",
    "import numpy as np\n",
    "from tensorflow import keras\n",
    "from tensorflow.keras.models import Sequential\n",
    "from tensorflow.keras.layers import Dense\n",
    "\n",
    "from sklearn import preprocessing\n",
    "from sklearn.model_selection import train_test_split\n",
    "from sklearn.preprocessing import StandardScaler\n",
    "import tensorflow as tf\n",
    "from tensorflow import keras\n",
    "from tensorflow.keras import layers\n",
    "\n",
    "import matplotlib.pyplot as plt\n",
    "import seaborn as sns\n",
    "\n",
    "from sklearn import svm\n",
    "from sklearn.svm import SVR\n",
    "from sklearn.metrics import mean_squared_error\n",
    "from sklearn.ensemble import RandomForestRegressor"
   ]
  },
  {
   "cell_type": "code",
   "execution_count": null,
   "id": "94948aac-8055-4356-b731-504d65e07749",
   "metadata": {},
   "outputs": [],
   "source": []
  },
  {
   "cell_type": "markdown",
   "id": "0317bde9",
   "metadata": {},
   "source": [
    "#### Loading the dataset"
   ]
  },
  {
   "cell_type": "code",
   "execution_count": 2,
   "id": "346052d3",
   "metadata": {},
   "outputs": [],
   "source": [
    "dataset=pd.read_excel('Biogas data_b.xlsx')\n",
    "df=dataset.copy()"
   ]
  },
  {
   "cell_type": "code",
   "execution_count": 3,
   "id": "6fa67607",
   "metadata": {},
   "outputs": [
    {
     "data": {
      "text/html": [
       "<div>\n",
       "<style scoped>\n",
       "    .dataframe tbody tr th:only-of-type {\n",
       "        vertical-align: middle;\n",
       "    }\n",
       "\n",
       "    .dataframe tbody tr th {\n",
       "        vertical-align: top;\n",
       "    }\n",
       "\n",
       "    .dataframe thead th {\n",
       "        text-align: right;\n",
       "    }\n",
       "</style>\n",
       "<table border=\"1\" class=\"dataframe\">\n",
       "  <thead>\n",
       "    <tr style=\"text-align: right;\">\n",
       "      <th></th>\n",
       "      <th>Temperature (o C)</th>\n",
       "      <th>pH</th>\n",
       "      <th>Retention time (days)</th>\n",
       "      <th>Total solids (mg/kg)</th>\n",
       "      <th>Volatile solids (mg/kg)</th>\n",
       "      <th>Actual biogas yield (10-4 m3/kg VS)</th>\n",
       "    </tr>\n",
       "  </thead>\n",
       "  <tbody>\n",
       "    <tr>\n",
       "      <th>0</th>\n",
       "      <td>30.02</td>\n",
       "      <td>7.90</td>\n",
       "      <td>20.03</td>\n",
       "      <td>5.94</td>\n",
       "      <td>4.01</td>\n",
       "      <td>1538.5</td>\n",
       "    </tr>\n",
       "    <tr>\n",
       "      <th>1</th>\n",
       "      <td>39.98</td>\n",
       "      <td>7.90</td>\n",
       "      <td>29.88</td>\n",
       "      <td>11.45</td>\n",
       "      <td>11.83</td>\n",
       "      <td>1530.4</td>\n",
       "    </tr>\n",
       "    <tr>\n",
       "      <th>2</th>\n",
       "      <td>30.43</td>\n",
       "      <td>7.99</td>\n",
       "      <td>20.05</td>\n",
       "      <td>6.64</td>\n",
       "      <td>4.11</td>\n",
       "      <td>1618.5</td>\n",
       "    </tr>\n",
       "    <tr>\n",
       "      <th>3</th>\n",
       "      <td>39.85</td>\n",
       "      <td>6.59</td>\n",
       "      <td>25.46</td>\n",
       "      <td>11.79</td>\n",
       "      <td>11.60</td>\n",
       "      <td>1508.3</td>\n",
       "    </tr>\n",
       "    <tr>\n",
       "      <th>4</th>\n",
       "      <td>39.98</td>\n",
       "      <td>6.53</td>\n",
       "      <td>29.57</td>\n",
       "      <td>11.98</td>\n",
       "      <td>7.08</td>\n",
       "      <td>1401.1</td>\n",
       "    </tr>\n",
       "    <tr>\n",
       "      <th>5</th>\n",
       "      <td>39.52</td>\n",
       "      <td>6.52</td>\n",
       "      <td>25.39</td>\n",
       "      <td>10.86</td>\n",
       "      <td>11.51</td>\n",
       "      <td>1720.1</td>\n",
       "    </tr>\n",
       "    <tr>\n",
       "      <th>6</th>\n",
       "      <td>40.00</td>\n",
       "      <td>7.72</td>\n",
       "      <td>29.99</td>\n",
       "      <td>11.03</td>\n",
       "      <td>10.89</td>\n",
       "      <td>1611.2</td>\n",
       "    </tr>\n",
       "    <tr>\n",
       "      <th>7</th>\n",
       "      <td>39.93</td>\n",
       "      <td>7.08</td>\n",
       "      <td>29.23</td>\n",
       "      <td>11.89</td>\n",
       "      <td>9.23</td>\n",
       "      <td>1770.2</td>\n",
       "    </tr>\n",
       "    <tr>\n",
       "      <th>8</th>\n",
       "      <td>39.68</td>\n",
       "      <td>6.68</td>\n",
       "      <td>29.68</td>\n",
       "      <td>9.99</td>\n",
       "      <td>11.24</td>\n",
       "      <td>1663.1</td>\n",
       "    </tr>\n",
       "    <tr>\n",
       "      <th>9</th>\n",
       "      <td>39.56</td>\n",
       "      <td>7.41</td>\n",
       "      <td>29.89</td>\n",
       "      <td>11.42</td>\n",
       "      <td>11.77</td>\n",
       "      <td>1671.2</td>\n",
       "    </tr>\n",
       "    <tr>\n",
       "      <th>10</th>\n",
       "      <td>39.77</td>\n",
       "      <td>6.74</td>\n",
       "      <td>29.92</td>\n",
       "      <td>8.40</td>\n",
       "      <td>11.45</td>\n",
       "      <td>1517.0</td>\n",
       "    </tr>\n",
       "    <tr>\n",
       "      <th>11</th>\n",
       "      <td>30.22</td>\n",
       "      <td>7.92</td>\n",
       "      <td>20.09</td>\n",
       "      <td>7.46</td>\n",
       "      <td>4.05</td>\n",
       "      <td>1625.2</td>\n",
       "    </tr>\n",
       "    <tr>\n",
       "      <th>12</th>\n",
       "      <td>39.17</td>\n",
       "      <td>6.68</td>\n",
       "      <td>26.24</td>\n",
       "      <td>10.69</td>\n",
       "      <td>11.97</td>\n",
       "      <td>1751.6</td>\n",
       "    </tr>\n",
       "    <tr>\n",
       "      <th>13</th>\n",
       "      <td>39.96</td>\n",
       "      <td>6.63</td>\n",
       "      <td>25.40</td>\n",
       "      <td>11.30</td>\n",
       "      <td>11.62</td>\n",
       "      <td>1690.1</td>\n",
       "    </tr>\n",
       "    <tr>\n",
       "      <th>14</th>\n",
       "      <td>39.97</td>\n",
       "      <td>6.99</td>\n",
       "      <td>29.35</td>\n",
       "      <td>11.91</td>\n",
       "      <td>9.24</td>\n",
       "      <td>1660.2</td>\n",
       "    </tr>\n",
       "    <tr>\n",
       "      <th>15</th>\n",
       "      <td>39.96</td>\n",
       "      <td>6.55</td>\n",
       "      <td>27.00</td>\n",
       "      <td>11.29</td>\n",
       "      <td>10.30</td>\n",
       "      <td>1704.5</td>\n",
       "    </tr>\n",
       "    <tr>\n",
       "      <th>16</th>\n",
       "      <td>39.21</td>\n",
       "      <td>6.74</td>\n",
       "      <td>27.19</td>\n",
       "      <td>11.70</td>\n",
       "      <td>11.23</td>\n",
       "      <td>1651.4</td>\n",
       "    </tr>\n",
       "    <tr>\n",
       "      <th>17</th>\n",
       "      <td>39.97</td>\n",
       "      <td>7.74</td>\n",
       "      <td>29.72</td>\n",
       "      <td>10.86</td>\n",
       "      <td>11.42</td>\n",
       "      <td>1682.0</td>\n",
       "    </tr>\n",
       "    <tr>\n",
       "      <th>18</th>\n",
       "      <td>40.00</td>\n",
       "      <td>7.70</td>\n",
       "      <td>29.65</td>\n",
       "      <td>11.89</td>\n",
       "      <td>11.58</td>\n",
       "      <td>1699.2</td>\n",
       "    </tr>\n",
       "    <tr>\n",
       "      <th>19</th>\n",
       "      <td>39.99</td>\n",
       "      <td>7.19</td>\n",
       "      <td>29.94</td>\n",
       "      <td>11.53</td>\n",
       "      <td>9.40</td>\n",
       "      <td>1740.3</td>\n",
       "    </tr>\n",
       "    <tr>\n",
       "      <th>20</th>\n",
       "      <td>39.95</td>\n",
       "      <td>7.42</td>\n",
       "      <td>29.84</td>\n",
       "      <td>10.21</td>\n",
       "      <td>10.96</td>\n",
       "      <td>1711.9</td>\n",
       "    </tr>\n",
       "    <tr>\n",
       "      <th>21</th>\n",
       "      <td>40.00</td>\n",
       "      <td>7.75</td>\n",
       "      <td>30.00</td>\n",
       "      <td>10.57</td>\n",
       "      <td>9.57</td>\n",
       "      <td>1692.2</td>\n",
       "    </tr>\n",
       "    <tr>\n",
       "      <th>22</th>\n",
       "      <td>40.00</td>\n",
       "      <td>8.00</td>\n",
       "      <td>28.83</td>\n",
       "      <td>10.84</td>\n",
       "      <td>4.00</td>\n",
       "      <td>1459.1</td>\n",
       "    </tr>\n",
       "    <tr>\n",
       "      <th>23</th>\n",
       "      <td>40.00</td>\n",
       "      <td>8.00</td>\n",
       "      <td>29.55</td>\n",
       "      <td>10.73</td>\n",
       "      <td>4.00</td>\n",
       "      <td>1582.1</td>\n",
       "    </tr>\n",
       "    <tr>\n",
       "      <th>24</th>\n",
       "      <td>30.00</td>\n",
       "      <td>8.00</td>\n",
       "      <td>20.00</td>\n",
       "      <td>7.95</td>\n",
       "      <td>5.56</td>\n",
       "      <td>1698.3</td>\n",
       "    </tr>\n",
       "    <tr>\n",
       "      <th>25</th>\n",
       "      <td>40.00</td>\n",
       "      <td>8.00</td>\n",
       "      <td>29.82</td>\n",
       "      <td>11.05</td>\n",
       "      <td>4.01</td>\n",
       "      <td>1540.1</td>\n",
       "    </tr>\n",
       "    <tr>\n",
       "      <th>26</th>\n",
       "      <td>40.00</td>\n",
       "      <td>8.00</td>\n",
       "      <td>29.53</td>\n",
       "      <td>11.26</td>\n",
       "      <td>5.38</td>\n",
       "      <td>1699.3</td>\n",
       "    </tr>\n",
       "    <tr>\n",
       "      <th>27</th>\n",
       "      <td>40.00</td>\n",
       "      <td>8.00</td>\n",
       "      <td>29.18</td>\n",
       "      <td>9.85</td>\n",
       "      <td>5.07</td>\n",
       "      <td>1613.3</td>\n",
       "    </tr>\n",
       "    <tr>\n",
       "      <th>28</th>\n",
       "      <td>30.00</td>\n",
       "      <td>7.53</td>\n",
       "      <td>20.00</td>\n",
       "      <td>6.58</td>\n",
       "      <td>4.00</td>\n",
       "      <td>1656.4</td>\n",
       "    </tr>\n",
       "    <tr>\n",
       "      <th>29</th>\n",
       "      <td>40.00</td>\n",
       "      <td>8.00</td>\n",
       "      <td>26.91</td>\n",
       "      <td>10.30</td>\n",
       "      <td>4.45</td>\n",
       "      <td>1656.2</td>\n",
       "    </tr>\n",
       "    <tr>\n",
       "      <th>30</th>\n",
       "      <td>38.00</td>\n",
       "      <td>7.82</td>\n",
       "      <td>28.99</td>\n",
       "      <td>10.03</td>\n",
       "      <td>10.19</td>\n",
       "      <td>1671.3</td>\n",
       "    </tr>\n",
       "    <tr>\n",
       "      <th>31</th>\n",
       "      <td>37.93</td>\n",
       "      <td>7.08</td>\n",
       "      <td>29.23</td>\n",
       "      <td>11.89</td>\n",
       "      <td>9.03</td>\n",
       "      <td>1537.3</td>\n",
       "    </tr>\n",
       "    <tr>\n",
       "      <th>32</th>\n",
       "      <td>38.68</td>\n",
       "      <td>6.58</td>\n",
       "      <td>28.68</td>\n",
       "      <td>9.29</td>\n",
       "      <td>10.24</td>\n",
       "      <td>1652.4</td>\n",
       "    </tr>\n",
       "    <tr>\n",
       "      <th>33</th>\n",
       "      <td>38.56</td>\n",
       "      <td>7.41</td>\n",
       "      <td>29.89</td>\n",
       "      <td>10.42</td>\n",
       "      <td>10.17</td>\n",
       "      <td>1599.2</td>\n",
       "    </tr>\n",
       "    <tr>\n",
       "      <th>34</th>\n",
       "      <td>37.77</td>\n",
       "      <td>6.74</td>\n",
       "      <td>29.92</td>\n",
       "      <td>8.40</td>\n",
       "      <td>11.45</td>\n",
       "      <td>1650.3</td>\n",
       "    </tr>\n",
       "    <tr>\n",
       "      <th>35</th>\n",
       "      <td>36.22</td>\n",
       "      <td>7.62</td>\n",
       "      <td>20.09</td>\n",
       "      <td>7.46</td>\n",
       "      <td>4.05</td>\n",
       "      <td>1617.5</td>\n",
       "    </tr>\n",
       "    <tr>\n",
       "      <th>36</th>\n",
       "      <td>39.17</td>\n",
       "      <td>6.58</td>\n",
       "      <td>26.24</td>\n",
       "      <td>10.69</td>\n",
       "      <td>10.97</td>\n",
       "      <td>1638.3</td>\n",
       "    </tr>\n",
       "    <tr>\n",
       "      <th>37</th>\n",
       "      <td>38.96</td>\n",
       "      <td>6.63</td>\n",
       "      <td>25.40</td>\n",
       "      <td>11.30</td>\n",
       "      <td>10.62</td>\n",
       "      <td>1553.3</td>\n",
       "    </tr>\n",
       "    <tr>\n",
       "      <th>38</th>\n",
       "      <td>38.97</td>\n",
       "      <td>6.69</td>\n",
       "      <td>29.65</td>\n",
       "      <td>10.91</td>\n",
       "      <td>9.24</td>\n",
       "      <td>1492.1</td>\n",
       "    </tr>\n",
       "    <tr>\n",
       "      <th>39</th>\n",
       "      <td>37.96</td>\n",
       "      <td>6.55</td>\n",
       "      <td>27.00</td>\n",
       "      <td>10.29</td>\n",
       "      <td>10.30</td>\n",
       "      <td>1602.1</td>\n",
       "    </tr>\n",
       "    <tr>\n",
       "      <th>40</th>\n",
       "      <td>39.21</td>\n",
       "      <td>6.75</td>\n",
       "      <td>27.19</td>\n",
       "      <td>11.70</td>\n",
       "      <td>10.23</td>\n",
       "      <td>1614.5</td>\n",
       "    </tr>\n",
       "    <tr>\n",
       "      <th>41</th>\n",
       "      <td>39.97</td>\n",
       "      <td>7.74</td>\n",
       "      <td>29.42</td>\n",
       "      <td>10.86</td>\n",
       "      <td>11.42</td>\n",
       "      <td>1634.3</td>\n",
       "    </tr>\n",
       "    <tr>\n",
       "      <th>42</th>\n",
       "      <td>40.00</td>\n",
       "      <td>7.71</td>\n",
       "      <td>29.45</td>\n",
       "      <td>11.89</td>\n",
       "      <td>10.58</td>\n",
       "      <td>1499.3</td>\n",
       "    </tr>\n",
       "    <tr>\n",
       "      <th>43</th>\n",
       "      <td>39.99</td>\n",
       "      <td>7.19</td>\n",
       "      <td>29.94</td>\n",
       "      <td>11.53</td>\n",
       "      <td>9.40</td>\n",
       "      <td>1557.2</td>\n",
       "    </tr>\n",
       "    <tr>\n",
       "      <th>44</th>\n",
       "      <td>38.95</td>\n",
       "      <td>7.45</td>\n",
       "      <td>29.64</td>\n",
       "      <td>10.21</td>\n",
       "      <td>10.96</td>\n",
       "      <td>1540.2</td>\n",
       "    </tr>\n",
       "    <tr>\n",
       "      <th>45</th>\n",
       "      <td>40.00</td>\n",
       "      <td>7.55</td>\n",
       "      <td>30.00</td>\n",
       "      <td>10.57</td>\n",
       "      <td>8.57</td>\n",
       "      <td>1238.3</td>\n",
       "    </tr>\n",
       "    <tr>\n",
       "      <th>46</th>\n",
       "      <td>38.00</td>\n",
       "      <td>8.00</td>\n",
       "      <td>29.08</td>\n",
       "      <td>9.85</td>\n",
       "      <td>6.07</td>\n",
       "      <td>1550.2</td>\n",
       "    </tr>\n",
       "    <tr>\n",
       "      <th>47</th>\n",
       "      <td>30.00</td>\n",
       "      <td>7.53</td>\n",
       "      <td>20.00</td>\n",
       "      <td>6.58</td>\n",
       "      <td>4.00</td>\n",
       "      <td>1559.5</td>\n",
       "    </tr>\n",
       "    <tr>\n",
       "      <th>48</th>\n",
       "      <td>37.00</td>\n",
       "      <td>8.00</td>\n",
       "      <td>26.91</td>\n",
       "      <td>10.30</td>\n",
       "      <td>5.45</td>\n",
       "      <td>1621.3</td>\n",
       "    </tr>\n",
       "    <tr>\n",
       "      <th>49</th>\n",
       "      <td>38.00</td>\n",
       "      <td>7.52</td>\n",
       "      <td>27.59</td>\n",
       "      <td>10.03</td>\n",
       "      <td>10.89</td>\n",
       "      <td>1451.9</td>\n",
       "    </tr>\n",
       "  </tbody>\n",
       "</table>\n",
       "</div>"
      ],
      "text/plain": [
       "    Temperature (o C)    pH  Retention time (days)  Total solids (mg/kg)  \\\n",
       "0               30.02  7.90                  20.03                  5.94   \n",
       "1               39.98  7.90                  29.88                 11.45   \n",
       "2               30.43  7.99                  20.05                  6.64   \n",
       "3               39.85  6.59                  25.46                 11.79   \n",
       "4               39.98  6.53                  29.57                 11.98   \n",
       "5               39.52  6.52                  25.39                 10.86   \n",
       "6               40.00  7.72                  29.99                 11.03   \n",
       "7               39.93  7.08                  29.23                 11.89   \n",
       "8               39.68  6.68                  29.68                  9.99   \n",
       "9               39.56  7.41                  29.89                 11.42   \n",
       "10              39.77  6.74                  29.92                  8.40   \n",
       "11              30.22  7.92                  20.09                  7.46   \n",
       "12              39.17  6.68                  26.24                 10.69   \n",
       "13              39.96  6.63                  25.40                 11.30   \n",
       "14              39.97  6.99                  29.35                 11.91   \n",
       "15              39.96  6.55                  27.00                 11.29   \n",
       "16              39.21  6.74                  27.19                 11.70   \n",
       "17              39.97  7.74                  29.72                 10.86   \n",
       "18              40.00  7.70                  29.65                 11.89   \n",
       "19              39.99  7.19                  29.94                 11.53   \n",
       "20              39.95  7.42                  29.84                 10.21   \n",
       "21              40.00  7.75                  30.00                 10.57   \n",
       "22              40.00  8.00                  28.83                 10.84   \n",
       "23              40.00  8.00                  29.55                 10.73   \n",
       "24              30.00  8.00                  20.00                  7.95   \n",
       "25              40.00  8.00                  29.82                 11.05   \n",
       "26              40.00  8.00                  29.53                 11.26   \n",
       "27              40.00  8.00                  29.18                  9.85   \n",
       "28              30.00  7.53                  20.00                  6.58   \n",
       "29              40.00  8.00                  26.91                 10.30   \n",
       "30              38.00  7.82                  28.99                 10.03   \n",
       "31              37.93  7.08                  29.23                 11.89   \n",
       "32              38.68  6.58                  28.68                  9.29   \n",
       "33              38.56  7.41                  29.89                 10.42   \n",
       "34              37.77  6.74                  29.92                  8.40   \n",
       "35              36.22  7.62                  20.09                  7.46   \n",
       "36              39.17  6.58                  26.24                 10.69   \n",
       "37              38.96  6.63                  25.40                 11.30   \n",
       "38              38.97  6.69                  29.65                 10.91   \n",
       "39              37.96  6.55                  27.00                 10.29   \n",
       "40              39.21  6.75                  27.19                 11.70   \n",
       "41              39.97  7.74                  29.42                 10.86   \n",
       "42              40.00  7.71                  29.45                 11.89   \n",
       "43              39.99  7.19                  29.94                 11.53   \n",
       "44              38.95  7.45                  29.64                 10.21   \n",
       "45              40.00  7.55                  30.00                 10.57   \n",
       "46              38.00  8.00                  29.08                  9.85   \n",
       "47              30.00  7.53                  20.00                  6.58   \n",
       "48              37.00  8.00                  26.91                 10.30   \n",
       "49              38.00  7.52                  27.59                 10.03   \n",
       "\n",
       "    Volatile solids (mg/kg)  Actual biogas yield (10-4 m3/kg VS)  \n",
       "0                      4.01                               1538.5  \n",
       "1                     11.83                               1530.4  \n",
       "2                      4.11                               1618.5  \n",
       "3                     11.60                               1508.3  \n",
       "4                      7.08                               1401.1  \n",
       "5                     11.51                               1720.1  \n",
       "6                     10.89                               1611.2  \n",
       "7                      9.23                               1770.2  \n",
       "8                     11.24                               1663.1  \n",
       "9                     11.77                               1671.2  \n",
       "10                    11.45                               1517.0  \n",
       "11                     4.05                               1625.2  \n",
       "12                    11.97                               1751.6  \n",
       "13                    11.62                               1690.1  \n",
       "14                     9.24                               1660.2  \n",
       "15                    10.30                               1704.5  \n",
       "16                    11.23                               1651.4  \n",
       "17                    11.42                               1682.0  \n",
       "18                    11.58                               1699.2  \n",
       "19                     9.40                               1740.3  \n",
       "20                    10.96                               1711.9  \n",
       "21                     9.57                               1692.2  \n",
       "22                     4.00                               1459.1  \n",
       "23                     4.00                               1582.1  \n",
       "24                     5.56                               1698.3  \n",
       "25                     4.01                               1540.1  \n",
       "26                     5.38                               1699.3  \n",
       "27                     5.07                               1613.3  \n",
       "28                     4.00                               1656.4  \n",
       "29                     4.45                               1656.2  \n",
       "30                    10.19                               1671.3  \n",
       "31                     9.03                               1537.3  \n",
       "32                    10.24                               1652.4  \n",
       "33                    10.17                               1599.2  \n",
       "34                    11.45                               1650.3  \n",
       "35                     4.05                               1617.5  \n",
       "36                    10.97                               1638.3  \n",
       "37                    10.62                               1553.3  \n",
       "38                     9.24                               1492.1  \n",
       "39                    10.30                               1602.1  \n",
       "40                    10.23                               1614.5  \n",
       "41                    11.42                               1634.3  \n",
       "42                    10.58                               1499.3  \n",
       "43                     9.40                               1557.2  \n",
       "44                    10.96                               1540.2  \n",
       "45                     8.57                               1238.3  \n",
       "46                     6.07                               1550.2  \n",
       "47                     4.00                               1559.5  \n",
       "48                     5.45                               1621.3  \n",
       "49                    10.89                               1451.9  "
      ]
     },
     "execution_count": 3,
     "metadata": {},
     "output_type": "execute_result"
    }
   ],
   "source": [
    "df"
   ]
  },
  {
   "cell_type": "markdown",
   "id": "29eae9ee",
   "metadata": {},
   "source": [
    "#### Statistical Description of the dataset"
   ]
  },
  {
   "cell_type": "code",
   "execution_count": 4,
   "id": "81e7bbfd",
   "metadata": {},
   "outputs": [
    {
     "data": {
      "text/html": [
       "<div>\n",
       "<style scoped>\n",
       "    .dataframe tbody tr th:only-of-type {\n",
       "        vertical-align: middle;\n",
       "    }\n",
       "\n",
       "    .dataframe tbody tr th {\n",
       "        vertical-align: top;\n",
       "    }\n",
       "\n",
       "    .dataframe thead th {\n",
       "        text-align: right;\n",
       "    }\n",
       "</style>\n",
       "<table border=\"1\" class=\"dataframe\">\n",
       "  <thead>\n",
       "    <tr style=\"text-align: right;\">\n",
       "      <th></th>\n",
       "      <th>Temperature (o C)</th>\n",
       "      <th>pH</th>\n",
       "      <th>Retention time (days)</th>\n",
       "      <th>Total solids (mg/kg)</th>\n",
       "      <th>Volatile solids (mg/kg)</th>\n",
       "      <th>Actual biogas yield (10-4 m3/kg VS)</th>\n",
       "    </tr>\n",
       "  </thead>\n",
       "  <tbody>\n",
       "    <tr>\n",
       "      <th>count</th>\n",
       "      <td>50.000000</td>\n",
       "      <td>50.000000</td>\n",
       "      <td>50.000000</td>\n",
       "      <td>50.000000</td>\n",
       "      <td>50.000000</td>\n",
       "      <td>50.000000</td>\n",
       "    </tr>\n",
       "    <tr>\n",
       "      <th>mean</th>\n",
       "      <td>38.209200</td>\n",
       "      <td>7.340800</td>\n",
       "      <td>27.432800</td>\n",
       "      <td>10.271200</td>\n",
       "      <td>8.727200</td>\n",
       "      <td>1606.870000</td>\n",
       "    </tr>\n",
       "    <tr>\n",
       "      <th>std</th>\n",
       "      <td>3.147712</td>\n",
       "      <td>0.553622</td>\n",
       "      <td>3.336951</td>\n",
       "      <td>1.597946</td>\n",
       "      <td>2.940883</td>\n",
       "      <td>98.373746</td>\n",
       "    </tr>\n",
       "    <tr>\n",
       "      <th>min</th>\n",
       "      <td>30.000000</td>\n",
       "      <td>6.520000</td>\n",
       "      <td>20.000000</td>\n",
       "      <td>5.940000</td>\n",
       "      <td>4.000000</td>\n",
       "      <td>1238.300000</td>\n",
       "    </tr>\n",
       "    <tr>\n",
       "      <th>25%</th>\n",
       "      <td>38.000000</td>\n",
       "      <td>6.740000</td>\n",
       "      <td>26.407500</td>\n",
       "      <td>10.000000</td>\n",
       "      <td>5.477500</td>\n",
       "      <td>1542.700000</td>\n",
       "    </tr>\n",
       "    <tr>\n",
       "      <th>50%</th>\n",
       "      <td>39.620000</td>\n",
       "      <td>7.485000</td>\n",
       "      <td>29.205000</td>\n",
       "      <td>10.710000</td>\n",
       "      <td>10.180000</td>\n",
       "      <td>1619.900000</td>\n",
       "    </tr>\n",
       "    <tr>\n",
       "      <th>75%</th>\n",
       "      <td>39.987500</td>\n",
       "      <td>7.880000</td>\n",
       "      <td>29.710000</td>\n",
       "      <td>11.390000</td>\n",
       "      <td>11.165000</td>\n",
       "      <td>1671.275000</td>\n",
       "    </tr>\n",
       "    <tr>\n",
       "      <th>max</th>\n",
       "      <td>40.000000</td>\n",
       "      <td>8.000000</td>\n",
       "      <td>30.000000</td>\n",
       "      <td>11.980000</td>\n",
       "      <td>11.970000</td>\n",
       "      <td>1770.200000</td>\n",
       "    </tr>\n",
       "  </tbody>\n",
       "</table>\n",
       "</div>"
      ],
      "text/plain": [
       "       Temperature (o C)         pH  Retention time (days)  \\\n",
       "count          50.000000  50.000000              50.000000   \n",
       "mean           38.209200   7.340800              27.432800   \n",
       "std             3.147712   0.553622               3.336951   \n",
       "min            30.000000   6.520000              20.000000   \n",
       "25%            38.000000   6.740000              26.407500   \n",
       "50%            39.620000   7.485000              29.205000   \n",
       "75%            39.987500   7.880000              29.710000   \n",
       "max            40.000000   8.000000              30.000000   \n",
       "\n",
       "       Total solids (mg/kg)  Volatile solids (mg/kg)  \\\n",
       "count             50.000000                50.000000   \n",
       "mean              10.271200                 8.727200   \n",
       "std                1.597946                 2.940883   \n",
       "min                5.940000                 4.000000   \n",
       "25%               10.000000                 5.477500   \n",
       "50%               10.710000                10.180000   \n",
       "75%               11.390000                11.165000   \n",
       "max               11.980000                11.970000   \n",
       "\n",
       "       Actual biogas yield (10-4 m3/kg VS)  \n",
       "count                            50.000000  \n",
       "mean                           1606.870000  \n",
       "std                              98.373746  \n",
       "min                            1238.300000  \n",
       "25%                            1542.700000  \n",
       "50%                            1619.900000  \n",
       "75%                            1671.275000  \n",
       "max                            1770.200000  "
      ]
     },
     "execution_count": 4,
     "metadata": {},
     "output_type": "execute_result"
    }
   ],
   "source": [
    "df.describe()"
   ]
  },
  {
   "cell_type": "code",
   "execution_count": 5,
   "id": "67aaba3c",
   "metadata": {},
   "outputs": [
    {
     "name": "stderr",
     "output_type": "stream",
     "text": [
      "C:\\users\\admin\\anaconda3\\lib\\site-packages\\seaborn\\_oldcore.py:1119: FutureWarning: use_inf_as_na option is deprecated and will be removed in a future version. Convert inf values to NaN before operating instead.\n",
      "  with pd.option_context('mode.use_inf_as_na', True):\n",
      "C:\\users\\admin\\anaconda3\\lib\\site-packages\\seaborn\\_oldcore.py:1075: FutureWarning: When grouping with a length-1 list-like, you will need to pass a length-1 tuple to get_group in a future version of pandas. Pass `(name,)` instead of `name` to silence this warning.\n",
      "  data_subset = grouped_data.get_group(pd_key)\n",
      "C:\\users\\admin\\anaconda3\\lib\\site-packages\\seaborn\\_oldcore.py:1075: FutureWarning: When grouping with a length-1 list-like, you will need to pass a length-1 tuple to get_group in a future version of pandas. Pass `(name,)` instead of `name` to silence this warning.\n",
      "  data_subset = grouped_data.get_group(pd_key)\n",
      "C:\\users\\admin\\anaconda3\\lib\\site-packages\\seaborn\\_oldcore.py:1119: FutureWarning: use_inf_as_na option is deprecated and will be removed in a future version. Convert inf values to NaN before operating instead.\n",
      "  with pd.option_context('mode.use_inf_as_na', True):\n",
      "C:\\users\\admin\\anaconda3\\lib\\site-packages\\seaborn\\_oldcore.py:1075: FutureWarning: When grouping with a length-1 list-like, you will need to pass a length-1 tuple to get_group in a future version of pandas. Pass `(name,)` instead of `name` to silence this warning.\n",
      "  data_subset = grouped_data.get_group(pd_key)\n",
      "C:\\users\\admin\\anaconda3\\lib\\site-packages\\seaborn\\_oldcore.py:1075: FutureWarning: When grouping with a length-1 list-like, you will need to pass a length-1 tuple to get_group in a future version of pandas. Pass `(name,)` instead of `name` to silence this warning.\n",
      "  data_subset = grouped_data.get_group(pd_key)\n",
      "C:\\users\\admin\\anaconda3\\lib\\site-packages\\seaborn\\_oldcore.py:1119: FutureWarning: use_inf_as_na option is deprecated and will be removed in a future version. Convert inf values to NaN before operating instead.\n",
      "  with pd.option_context('mode.use_inf_as_na', True):\n",
      "C:\\users\\admin\\anaconda3\\lib\\site-packages\\seaborn\\_oldcore.py:1075: FutureWarning: When grouping with a length-1 list-like, you will need to pass a length-1 tuple to get_group in a future version of pandas. Pass `(name,)` instead of `name` to silence this warning.\n",
      "  data_subset = grouped_data.get_group(pd_key)\n",
      "C:\\users\\admin\\anaconda3\\lib\\site-packages\\seaborn\\_oldcore.py:1075: FutureWarning: When grouping with a length-1 list-like, you will need to pass a length-1 tuple to get_group in a future version of pandas. Pass `(name,)` instead of `name` to silence this warning.\n",
      "  data_subset = grouped_data.get_group(pd_key)\n",
      "C:\\users\\admin\\anaconda3\\lib\\site-packages\\seaborn\\_oldcore.py:1119: FutureWarning: use_inf_as_na option is deprecated and will be removed in a future version. Convert inf values to NaN before operating instead.\n",
      "  with pd.option_context('mode.use_inf_as_na', True):\n",
      "C:\\users\\admin\\anaconda3\\lib\\site-packages\\seaborn\\_oldcore.py:1075: FutureWarning: When grouping with a length-1 list-like, you will need to pass a length-1 tuple to get_group in a future version of pandas. Pass `(name,)` instead of `name` to silence this warning.\n",
      "  data_subset = grouped_data.get_group(pd_key)\n",
      "C:\\users\\admin\\anaconda3\\lib\\site-packages\\seaborn\\_oldcore.py:1075: FutureWarning: When grouping with a length-1 list-like, you will need to pass a length-1 tuple to get_group in a future version of pandas. Pass `(name,)` instead of `name` to silence this warning.\n",
      "  data_subset = grouped_data.get_group(pd_key)\n",
      "C:\\users\\admin\\anaconda3\\lib\\site-packages\\seaborn\\_oldcore.py:1119: FutureWarning: use_inf_as_na option is deprecated and will be removed in a future version. Convert inf values to NaN before operating instead.\n",
      "  with pd.option_context('mode.use_inf_as_na', True):\n",
      "C:\\users\\admin\\anaconda3\\lib\\site-packages\\seaborn\\_oldcore.py:1075: FutureWarning: When grouping with a length-1 list-like, you will need to pass a length-1 tuple to get_group in a future version of pandas. Pass `(name,)` instead of `name` to silence this warning.\n",
      "  data_subset = grouped_data.get_group(pd_key)\n",
      "C:\\users\\admin\\anaconda3\\lib\\site-packages\\seaborn\\_oldcore.py:1075: FutureWarning: When grouping with a length-1 list-like, you will need to pass a length-1 tuple to get_group in a future version of pandas. Pass `(name,)` instead of `name` to silence this warning.\n",
      "  data_subset = grouped_data.get_group(pd_key)\n"
     ]
    },
    {
     "data": {
      "image/png": "[encoded data removed]",
      "text/plain": [
       "<Figure size 1510.49x1250 with 30 Axes>"
      ]
     },
     "metadata": {},
     "output_type": "display_data"
    }
   ],
   "source": [
    "sns.pairplot(df, hue ='Actual biogas yield (10-4 m3/kg VS)')\n",
    "plt.show()"
   ]
  },
  {
   "cell_type": "markdown",
   "id": "2ace6c46",
   "metadata": {},
   "source": [
    "#### Seperating the dataset into the input and output variables"
   ]
  },
  {
   "cell_type": "code",
   "execution_count": 6,
   "id": "9950eec7",
   "metadata": {},
   "outputs": [],
   "source": [
    "x=df.drop(['Actual biogas yield (10-4 m3/kg VS)'],axis=1)\n",
    "y=df['Actual biogas yield (10-4 m3/kg VS)']"
   ]
  },
  {
   "cell_type": "code",
   "execution_count": 7,
   "id": "b674e3d2",
   "metadata": {},
   "outputs": [
    {
     "data": {
      "text/plain": [
       "((50, 5), (50,))"
      ]
     },
     "execution_count": 7,
     "metadata": {},
     "output_type": "execute_result"
    }
   ],
   "source": [
    "x.shape,y.shape"
   ]
  },
  {
   "cell_type": "markdown",
   "id": "4256aca4",
   "metadata": {},
   "source": [
    "#### Data Splitting"
   ]
  },
  {
   "cell_type": "code",
   "execution_count": 8,
   "id": "8c60909a",
   "metadata": {},
   "outputs": [],
   "source": [
    "x_train, x_test, y_train, y_test = train_test_split(x,\n",
    "                                                    y,\n",
    "                                                    test_size=0.30)"
   ]
  },
  {
   "cell_type": "code",
   "execution_count": 9,
   "id": "8b273b38",
   "metadata": {},
   "outputs": [
    {
     "data": {
      "text/plain": [
       "((35, 5), (15,))"
      ]
     },
     "execution_count": 9,
     "metadata": {},
     "output_type": "execute_result"
    }
   ],
   "source": [
    "x_train.shape,y_test.shape"
   ]
  },
  {
   "cell_type": "markdown",
   "id": "7549d841",
   "metadata": {},
   "source": [
    "#### Data Normalization"
   ]
  },
  {
   "cell_type": "code",
   "execution_count": 10,
   "id": "365d1dee",
   "metadata": {},
   "outputs": [],
   "source": [
    "from sklearn.preprocessing import StandardScaler,MinMaxScaler\n",
    "scaler= MinMaxScaler()\n",
    "x_train=scaler.fit_transform(x_train)\n",
    "x_test=scaler.fit_transform(x_test)"
   ]
  },
  {
   "cell_type": "code",
   "execution_count": 11,
   "id": "488ce85f",
   "metadata": {},
   "outputs": [
    {
     "data": {
      "text/plain": [
       "(35, 1)"
      ]
     },
     "execution_count": 11,
     "metadata": {},
     "output_type": "execute_result"
    }
   ],
   "source": [
    "y_train=np.array(y_train)\n",
    "y_train=y_train.reshape(-1,1)\n",
    "y_train.shape"
   ]
  },
  {
   "cell_type": "code",
   "execution_count": 12,
   "id": "74a84099",
   "metadata": {},
   "outputs": [],
   "source": [
    "#y_test=np.array(y_test)\n",
    "#y_test=y_train.reshape(-1,1)\n",
    "#y_test.shape"
   ]
  },
  {
   "cell_type": "code",
   "execution_count": 13,
   "id": "09ed973a",
   "metadata": {},
   "outputs": [],
   "source": [
    "from sklearn import svm\n",
    "from sklearn.svm import SVR\n",
    "from sklearn.metrics import mean_squared_error"
   ]
  },
  {
   "cell_type": "code",
   "execution_count": 14,
   "id": "53d16016",
   "metadata": {},
   "outputs": [],
   "source": [
    "from sklearn.metrics import r2_score\n",
    "from sklearn.metrics import mean_squared_error"
   ]
  },
  {
   "cell_type": "code",
   "execution_count": 15,
   "id": "05936c5c",
   "metadata": {},
   "outputs": [],
   "source": [
    "from sklearn.ensemble import GradientBoostingRegressor"
   ]
  },
  {
   "cell_type": "code",
   "execution_count": 16,
   "id": "df1c9bab",
   "metadata": {},
   "outputs": [
    {
     "name": "stderr",
     "output_type": "stream",
     "text": [
      "C:\\users\\admin\\anaconda3\\lib\\site-packages\\sklearn\\ensemble\\_gb.py:424: DataConversionWarning: A column-vector y was passed when a 1d array was expected. Please change the shape of y to (n_samples, ), for example using ravel().\n",
      "  y = column_or_1d(y, warn=True)\n"
     ]
    },
    {
     "data": {
      "text/plain": [
       "0.9557850080674211"
      ]
     },
     "execution_count": 16,
     "metadata": {},
     "output_type": "execute_result"
    }
   ],
   "source": [
    "gb = GradientBoostingRegressor()           #max_features='auto',learning_rate=0.001,n_estimators=100,tol=1e-5)\n",
    "gb = gb.fit(x_train,y_train)\n",
    "gb.score(x_train,y_train)"
   ]
  },
  {
   "cell_type": "code",
   "execution_count": 17,
   "id": "22d949a7",
   "metadata": {},
   "outputs": [
    {
     "data": {
      "text/plain": [
       "{'alpha': 0.9,\n",
       " 'ccp_alpha': 0.0,\n",
       " 'criterion': 'friedman_mse',\n",
       " 'init': None,\n",
       " 'learning_rate': 0.1,\n",
       " 'loss': 'squared_error',\n",
       " 'max_depth': 3,\n",
       " 'max_features': None,\n",
       " 'max_leaf_nodes': None,\n",
       " 'min_impurity_decrease': 0.0,\n",
       " 'min_samples_leaf': 1,\n",
       " 'min_samples_split': 2,\n",
       " 'min_weight_fraction_leaf': 0.0,\n",
       " 'n_estimators': 100,\n",
       " 'n_iter_no_change': None,\n",
       " 'random_state': None,\n",
       " 'subsample': 1.0,\n",
       " 'tol': 0.0001,\n",
       " 'validation_fraction': 0.1,\n",
       " 'verbose': 0,\n",
       " 'warm_start': False}"
      ]
     },
     "execution_count": 17,
     "metadata": {},
     "output_type": "execute_result"
    }
   ],
   "source": [
    "gb.get_params()"
   ]
  },
  {
   "cell_type": "code",
   "execution_count": 18,
   "id": "b9a04e45",
   "metadata": {},
   "outputs": [],
   "source": [
    "prediction=gb.predict(x_test)\n",
    "predictiont=gb.predict(x_train)"
   ]
  },
  {
   "cell_type": "code",
   "execution_count": 19,
   "id": "65166575",
   "metadata": {},
   "outputs": [
    {
     "data": {
      "text/plain": [
       "((15,), (15,))"
      ]
     },
     "execution_count": 19,
     "metadata": {},
     "output_type": "execute_result"
    }
   ],
   "source": [
    "prediction.shape,y_test.shape"
   ]
  },
  {
   "cell_type": "code",
   "execution_count": 20,
   "id": "857b53fd",
   "metadata": {},
   "outputs": [],
   "source": [
    "mse=mean_squared_error(y_test,prediction)"
   ]
  },
  {
   "cell_type": "code",
   "execution_count": 21,
   "id": "c7637e81",
   "metadata": {},
   "outputs": [],
   "source": [
    "mse1=mean_squared_error(y_train,predictiont)"
   ]
  },
  {
   "cell_type": "code",
   "execution_count": 22,
   "id": "744ea2bf",
   "metadata": {},
   "outputs": [
    {
     "data": {
      "text/plain": [
       "-1.8297720463557146"
      ]
     },
     "execution_count": 22,
     "metadata": {},
     "output_type": "execute_result"
    }
   ],
   "source": [
    "r2_score(y_test,prediction)"
   ]
  },
  {
   "cell_type": "code",
   "execution_count": 23,
   "id": "db8b9866",
   "metadata": {},
   "outputs": [
    {
     "data": {
      "text/plain": [
       "0.9557850080674211"
      ]
     },
     "execution_count": 23,
     "metadata": {},
     "output_type": "execute_result"
    }
   ],
   "source": [
    "r2_score(y_train,predictiont)"
   ]
  },
  {
   "cell_type": "code",
   "execution_count": 24,
   "id": "f77eccac",
   "metadata": {},
   "outputs": [
    {
     "data": {
      "text/plain": [
       "118.44591931465176"
      ]
     },
     "execution_count": 24,
     "metadata": {},
     "output_type": "execute_result"
    }
   ],
   "source": [
    "import math\n",
    "rmse=math.sqrt(mse)\n",
    "rmse"
   ]
  },
  {
   "cell_type": "code",
   "execution_count": 25,
   "id": "d3d0e60b",
   "metadata": {},
   "outputs": [
    {
     "data": {
      "text/plain": [
       "22.230209658281066"
      ]
     },
     "execution_count": 25,
     "metadata": {},
     "output_type": "execute_result"
    }
   ],
   "source": [
    "rmse1=math.sqrt(mse1)\n",
    "rmse1"
   ]
  },
  {
   "cell_type": "code",
   "execution_count": 26,
   "id": "1bc3f600",
   "metadata": {},
   "outputs": [
    {
     "name": "stdout",
     "output_type": "stream",
     "text": [
      "1643.1416725970741\n",
      "1618.5\n"
     ]
    }
   ],
   "source": [
    "print(prediction[1])\n",
    "print(y_test.iloc[1])"
   ]
  },
  {
   "cell_type": "code",
   "execution_count": null,
   "id": "68745dfc",
   "metadata": {},
   "outputs": [],
   "source": []
  },
  {
   "cell_type": "code",
   "execution_count": null,
   "id": "7a838e10",
   "metadata": {},
   "outputs": [],
   "source": []
  },
  {
   "cell_type": "code",
   "execution_count": 27,
   "id": "8e189ebb",
   "metadata": {},
   "outputs": [],
   "source": [
    "from sklearn.ensemble import RandomForestRegressor"
   ]
  },
  {
   "cell_type": "code",
   "execution_count": 29,
   "id": "ff12a7b8",
   "metadata": {},
   "outputs": [
    {
     "name": "stderr",
     "output_type": "stream",
     "text": [
      "C:\\users\\admin\\anaconda3\\lib\\site-packages\\sklearn\\base.py:1151: DataConversionWarning: A column-vector y was passed when a 1d array was expected. Please change the shape of y to (n_samples,), for example using ravel().\n",
      "  return fit_method(estimator, *args, **kwargs)\n"
     ]
    },
    {
     "data": {
      "text/plain": [
       "{'bootstrap': True,\n",
       " 'ccp_alpha': 0.01,\n",
       " 'criterion': 'squared_error',\n",
       " 'max_depth': 200,\n",
       " 'max_features': 1.0,\n",
       " 'max_leaf_nodes': None,\n",
       " 'max_samples': None,\n",
       " 'min_impurity_decrease': 0.0,\n",
       " 'min_samples_leaf': 1,\n",
       " 'min_samples_split': 2,\n",
       " 'min_weight_fraction_leaf': 0.0,\n",
       " 'n_estimators': 100,\n",
       " 'n_jobs': None,\n",
       " 'oob_score': False,\n",
       " 'random_state': 30,\n",
       " 'verbose': 0,\n",
       " 'warm_start': False}"
      ]
     },
     "execution_count": 29,
     "metadata": {},
     "output_type": "execute_result"
    }
   ],
   "source": [
    "model=RandomForestRegressor(ccp_alpha=0.01,max_depth=200,random_state=30)\n",
    "                             \n",
    "model.fit(x_train,y_train)\n",
    "pred_rf=model.predict(x_test)\n",
    "predt_rf=model.predict(x_train)\n",
    "model.get_params()"
   ]
  },
  {
   "cell_type": "code",
   "execution_count": 30,
   "id": "20ca8720",
   "metadata": {},
   "outputs": [],
   "source": [
    "predictions=model.predict(x_test)\n",
    "predictiont=model.predict(x_train)"
   ]
  },
  {
   "cell_type": "markdown",
   "id": "80b6f7cc",
   "metadata": {},
   "source": [
    "#### Finding the root mean squared error and the coefficient of correlation"
   ]
  },
  {
   "cell_type": "code",
   "execution_count": 31,
   "id": "fcad85ae",
   "metadata": {},
   "outputs": [],
   "source": [
    "mse_rf=mean_squared_error(y_test,pred_rf)\n",
    "mse1_rf=mean_squared_error(y_train,predt_rf)"
   ]
  },
  {
   "cell_type": "code",
   "execution_count": 32,
   "id": "6aa7f4c4",
   "metadata": {},
   "outputs": [
    {
     "data": {
      "text/plain": [
       "110.17943316497234"
      ]
     },
     "execution_count": 32,
     "metadata": {},
     "output_type": "execute_result"
    }
   ],
   "source": [
    "import math\n",
    "rmse_rf=math.sqrt(mse_rf)\n",
    "rmse_rf"
   ]
  },
  {
   "cell_type": "code",
   "execution_count": 33,
   "id": "d147c3e2",
   "metadata": {},
   "outputs": [
    {
     "data": {
      "text/plain": [
       "48.55985426613822"
      ]
     },
     "execution_count": 33,
     "metadata": {},
     "output_type": "execute_result"
    }
   ],
   "source": [
    "import math\n",
    "rmse_rft=math.sqrt(mse1_rf)\n",
    "rmse_rft"
   ]
  },
  {
   "cell_type": "code",
   "execution_count": 34,
   "id": "ee52a12b",
   "metadata": {},
   "outputs": [
    {
     "name": "stdout",
     "output_type": "stream",
     "text": [
      "-1.4485688122498996\n",
      "0.789021994577856\n"
     ]
    }
   ],
   "source": [
    "print(r2_score(y_test,pred_rf))\n",
    "print(r2_score(y_train,predt_rf))"
   ]
  },
  {
   "cell_type": "code",
   "execution_count": null,
   "id": "bbf59f78",
   "metadata": {},
   "outputs": [],
   "source": []
  },
  {
   "cell_type": "code",
   "execution_count": 35,
   "id": "1f2d24bb",
   "metadata": {},
   "outputs": [
    {
     "name": "stdout",
     "output_type": "stream",
     "text": [
      "1646.092\n"
     ]
    }
   ],
   "source": [
    "print(predictions[1])"
   ]
  },
  {
   "cell_type": "code",
   "execution_count": 36,
   "id": "bfbb44c7",
   "metadata": {},
   "outputs": [
    {
     "data": {
      "text/plain": [
       "1618.5"
      ]
     },
     "execution_count": 36,
     "metadata": {},
     "output_type": "execute_result"
    }
   ],
   "source": [
    "y_test.iloc[1]"
   ]
  },
  {
   "cell_type": "code",
   "execution_count": null,
   "id": "3b42a7c1",
   "metadata": {},
   "outputs": [],
   "source": []
  },
  {
   "cell_type": "code",
   "execution_count": null,
   "id": "f8286009",
   "metadata": {},
   "outputs": [],
   "source": []
  },
  {
   "cell_type": "code",
   "execution_count": 37,
   "id": "e10e813e",
   "metadata": {},
   "outputs": [],
   "source": [
    "from sklearn import svm\n",
    "from sklearn.svm import SVR"
   ]
  },
  {
   "cell_type": "markdown",
   "id": "bc00df45",
   "metadata": {},
   "source": [
    "#### Building the SVM model"
   ]
  },
  {
   "cell_type": "code",
   "execution_count": 38,
   "id": "4802620a",
   "metadata": {},
   "outputs": [
    {
     "name": "stderr",
     "output_type": "stream",
     "text": [
      "C:\\users\\admin\\anaconda3\\lib\\site-packages\\sklearn\\utils\\validation.py:1184: DataConversionWarning: A column-vector y was passed when a 1d array was expected. Please change the shape of y to (n_samples, ), for example using ravel().\n",
      "  y = column_or_1d(y, warn=True)\n"
     ]
    },
    {
     "data": {
      "text/html": [
       "<style>#sk-container-id-1 {color: black;}#sk-container-id-1 pre{padding: 0;}#sk-container-id-1 div.sk-toggleable {background-color: white;}#sk-container-id-1 label.sk-toggleable__label {cursor: pointer;display: block;width: 100%;margin-bottom: 0;padding: 0.3em;box-sizing: border-box;text-align: center;}#sk-container-id-1 label.sk-toggleable__label-arrow:before {content: \"▸\";float: left;margin-right: 0.25em;color: #696969;}#sk-container-id-1 label.sk-toggleable__label-arrow:hover:before {color: black;}#sk-container-id-1 div.sk-estimator:hover label.sk-toggleable__label-arrow:before {color: black;}#sk-container-id-1 div.sk-toggleable__content {max-height: 0;max-width: 0;overflow: hidden;text-align: left;background-color: #f0f8ff;}#sk-container-id-1 div.sk-toggleable__content pre {margin: 0.2em;color: black;border-radius: 0.25em;background-color: #f0f8ff;}#sk-container-id-1 input.sk-toggleable__control:checked~div.sk-toggleable__content {max-height: 200px;max-width: 100%;overflow: auto;}#sk-container-id-1 input.sk-toggleable__control:checked~label.sk-toggleable__label-arrow:before {content: \"▾\";}#sk-container-id-1 div.sk-estimator input.sk-toggleable__control:checked~label.sk-toggleable__label {background-color: #d4ebff;}#sk-container-id-1 div.sk-label input.sk-toggleable__control:checked~label.sk-toggleable__label {background-color: #d4ebff;}#sk-container-id-1 input.sk-hidden--visually {border: 0;clip: rect(1px 1px 1px 1px);clip: rect(1px, 1px, 1px, 1px);height: 1px;margin: -1px;overflow: hidden;padding: 0;position: absolute;width: 1px;}#sk-container-id-1 div.sk-estimator {font-family: monospace;background-color: #f0f8ff;border: 1px dotted black;border-radius: 0.25em;box-sizing: border-box;margin-bottom: 0.5em;}#sk-container-id-1 div.sk-estimator:hover {background-color: #d4ebff;}#sk-container-id-1 div.sk-parallel-item::after {content: \"\";width: 100%;border-bottom: 1px solid gray;flex-grow: 1;}#sk-container-id-1 div.sk-label:hover label.sk-toggleable__label {background-color: #d4ebff;}#sk-container-id-1 div.sk-serial::before {content: \"\";position: absolute;border-left: 1px solid gray;box-sizing: border-box;top: 0;bottom: 0;left: 50%;z-index: 0;}#sk-container-id-1 div.sk-serial {display: flex;flex-direction: column;align-items: center;background-color: white;padding-right: 0.2em;padding-left: 0.2em;position: relative;}#sk-container-id-1 div.sk-item {position: relative;z-index: 1;}#sk-container-id-1 div.sk-parallel {display: flex;align-items: stretch;justify-content: center;background-color: white;position: relative;}#sk-container-id-1 div.sk-item::before, #sk-container-id-1 div.sk-parallel-item::before {content: \"\";position: absolute;border-left: 1px solid gray;box-sizing: border-box;top: 0;bottom: 0;left: 50%;z-index: -1;}#sk-container-id-1 div.sk-parallel-item {display: flex;flex-direction: column;z-index: 1;position: relative;background-color: white;}#sk-container-id-1 div.sk-parallel-item:first-child::after {align-self: flex-end;width: 50%;}#sk-container-id-1 div.sk-parallel-item:last-child::after {align-self: flex-start;width: 50%;}#sk-container-id-1 div.sk-parallel-item:only-child::after {width: 0;}#sk-container-id-1 div.sk-dashed-wrapped {border: 1px dashed gray;margin: 0 0.4em 0.5em 0.4em;box-sizing: border-box;padding-bottom: 0.4em;background-color: white;}#sk-container-id-1 div.sk-label label {font-family: monospace;font-weight: bold;display: inline-block;line-height: 1.2em;}#sk-container-id-1 div.sk-label-container {text-align: center;}#sk-container-id-1 div.sk-container {/* jupyter's `normalize.less` sets `[hidden] { display: none; }` but bootstrap.min.css set `[hidden] { display: none !important; }` so we also need the `!important` here to be able to override the default hidden behavior on the sphinx rendered scikit-learn.org. See: https://github.com/scikit-learn/scikit-learn/issues/21755 */display: inline-block !important;position: relative;}#sk-container-id-1 div.sk-text-repr-fallback {display: none;}</style><div id=\"sk-container-id-1\" class=\"sk-top-container\"><div class=\"sk-text-repr-fallback\"><pre>SVR(C=100, degree=5, kernel=&#x27;poly&#x27;, tol=0.0001)</pre><b>In a Jupyter environment, please rerun this cell to show the HTML representation or trust the notebook. <br />On GitHub, the HTML representation is unable to render, please try loading this page with nbviewer.org.</b></div><div class=\"sk-container\" hidden><div class=\"sk-item\"><div class=\"sk-estimator sk-toggleable\"><input class=\"sk-toggleable__control sk-hidden--visually\" id=\"sk-estimator-id-1\" type=\"checkbox\" checked><label for=\"sk-estimator-id-1\" class=\"sk-toggleable__label sk-toggleable__label-arrow\">SVR</label><div class=\"sk-toggleable__content\"><pre>SVR(C=100, degree=5, kernel=&#x27;poly&#x27;, tol=0.0001)</pre></div></div></div></div></div>"
      ],
      "text/plain": [
       "SVR(C=100, degree=5, kernel='poly', tol=0.0001)"
      ]
     },
     "execution_count": 38,
     "metadata": {},
     "output_type": "execute_result"
    }
   ],
   "source": [
    "vm=SVR(kernel='poly',gamma='scale',degree=5,epsilon= 0.1,tol=0.0001,C=100)         \n",
    "vm.fit(x_train,y_train)"
   ]
  },
  {
   "cell_type": "code",
   "execution_count": 39,
   "id": "97474c04",
   "metadata": {},
   "outputs": [
    {
     "data": {
      "text/plain": [
       "{'C': 100,\n",
       " 'cache_size': 200,\n",
       " 'coef0': 0.0,\n",
       " 'degree': 5,\n",
       " 'epsilon': 0.1,\n",
       " 'gamma': 'scale',\n",
       " 'kernel': 'poly',\n",
       " 'max_iter': -1,\n",
       " 'shrinking': True,\n",
       " 'tol': 0.0001,\n",
       " 'verbose': False}"
      ]
     },
     "execution_count": 39,
     "metadata": {},
     "output_type": "execute_result"
    }
   ],
   "source": [
    "vm.get_params()"
   ]
  },
  {
   "cell_type": "code",
   "execution_count": 40,
   "id": "20b63d0f",
   "metadata": {},
   "outputs": [],
   "source": [
    "ypred_vm=vm.predict(x_test)\n",
    "ypredt_vm=vm.predict(x_train)"
   ]
  },
  {
   "cell_type": "code",
   "execution_count": 41,
   "id": "232c65cf",
   "metadata": {},
   "outputs": [
    {
     "data": {
      "text/plain": [
       "-16.187147571418233"
      ]
     },
     "execution_count": 41,
     "metadata": {},
     "output_type": "execute_result"
    }
   ],
   "source": [
    "r2_score(y_test,ypred_vm)"
   ]
  },
  {
   "cell_type": "code",
   "execution_count": 42,
   "id": "589b04a6",
   "metadata": {},
   "outputs": [
    {
     "data": {
      "text/plain": [
       "0.6957962868055929"
      ]
     },
     "execution_count": 42,
     "metadata": {},
     "output_type": "execute_result"
    }
   ],
   "source": [
    "r2_score(y_train,ypredt_vm)"
   ]
  },
  {
   "cell_type": "code",
   "execution_count": 43,
   "id": "f905d1dc",
   "metadata": {},
   "outputs": [],
   "source": [
    "MSE=mean_squared_error(y_test,ypred_vm)"
   ]
  },
  {
   "cell_type": "code",
   "execution_count": 44,
   "id": "2914dab9",
   "metadata": {},
   "outputs": [],
   "source": [
    "MSE1=mean_squared_error(ypredt_vm,y_train)"
   ]
  },
  {
   "cell_type": "code",
   "execution_count": 45,
   "id": "08b34123",
   "metadata": {},
   "outputs": [
    {
     "data": {
      "text/plain": [
       "291.90818991883555"
      ]
     },
     "execution_count": 45,
     "metadata": {},
     "output_type": "execute_result"
    }
   ],
   "source": [
    "rms=math.sqrt(MSE)\n",
    "rms"
   ]
  },
  {
   "cell_type": "code",
   "execution_count": 46,
   "id": "74298674",
   "metadata": {},
   "outputs": [
    {
     "data": {
      "text/plain": [
       "58.30973115201991"
      ]
     },
     "execution_count": 46,
     "metadata": {},
     "output_type": "execute_result"
    }
   ],
   "source": [
    "rme=math.sqrt(MSE1)\n",
    "rme"
   ]
  },
  {
   "cell_type": "code",
   "execution_count": 47,
   "id": "2a8af26f",
   "metadata": {},
   "outputs": [
    {
     "name": "stdout",
     "output_type": "stream",
     "text": [
      "[1645.02453788 1654.4407296  1672.27882076 1569.12702475 1613.83420682]\n",
      "15    1704.5\n",
      "47    1559.5\n",
      "0     1538.5\n",
      "34    1650.3\n",
      "20    1711.9\n",
      "Name: Actual biogas yield (10-4 m3/kg VS), dtype: float64\n"
     ]
    }
   ],
   "source": [
    "print(prediction[10:20])\n",
    "print(y_test.iloc[10:20])"
   ]
  },
  {
   "cell_type": "code",
   "execution_count": null,
   "id": "1f33b929",
   "metadata": {},
   "outputs": [],
   "source": []
  },
  {
   "cell_type": "code",
   "execution_count": null,
   "id": "200ad282",
   "metadata": {},
   "outputs": [],
   "source": []
  },
  {
   "cell_type": "code",
   "execution_count": null,
   "id": "97ed34b9",
   "metadata": {},
   "outputs": [],
   "source": []
  },
  {
   "cell_type": "code",
   "execution_count": null,
   "id": "d6c07e9b",
   "metadata": {},
   "outputs": [],
   "source": []
  },
  {
   "cell_type": "code",
   "execution_count": null,
   "id": "5f47e8f9",
   "metadata": {},
   "outputs": [],
   "source": []
  },
  {
   "cell_type": "code",
   "execution_count": null,
   "id": "798b463e",
   "metadata": {},
   "outputs": [],
   "source": [
    "mae_vm=mean_absolute_error(y_test,ypred_vm)\n",
    "mae_vm"
   ]
  },
  {
   "cell_type": "code",
   "execution_count": null,
   "id": "4e05d8ec",
   "metadata": {},
   "outputs": [],
   "source": [
    "mae_vmt=mean_absolute_error(ypredt_vm,y_train)\n",
    "mae_vmt"
   ]
  },
  {
   "cell_type": "code",
   "execution_count": null,
   "id": "5c6c5d5a",
   "metadata": {},
   "outputs": [],
   "source": []
  },
  {
   "cell_type": "code",
   "execution_count": null,
   "id": "7f668413",
   "metadata": {},
   "outputs": [],
   "source": []
  },
  {
   "cell_type": "code",
   "execution_count": null,
   "id": "5019643c",
   "metadata": {},
   "outputs": [],
   "source": []
  },
  {
   "cell_type": "code",
   "execution_count": null,
   "id": "c99b873d",
   "metadata": {},
   "outputs": [],
   "source": [
    "from sklearn.tree import DecisionTreeRegressor"
   ]
  },
  {
   "cell_type": "code",
   "execution_count": null,
   "id": "e4d10c79",
   "metadata": {},
   "outputs": [],
   "source": [
    "dt=DecisionTreeRegressor(criterion='mse',max_depth=200,ccp_alpha=0.01,\n",
    "                           max_features='sqrt',splitter='best', \n",
    "                          random_state=0)                 \n",
    "dt.fit(x_train,y_train)     "
   ]
  },
  {
   "cell_type": "code",
   "execution_count": null,
   "id": "57453d7d",
   "metadata": {},
   "outputs": [],
   "source": [
    "dt.get_params()"
   ]
  },
  {
   "cell_type": "code",
   "execution_count": null,
   "id": "167693ba",
   "metadata": {},
   "outputs": [],
   "source": [
    "predictions_dt=dt.predict(x_test)\n",
    "predt_dt=dt.predict(x_train)"
   ]
  },
  {
   "cell_type": "code",
   "execution_count": null,
   "id": "cc853bec",
   "metadata": {},
   "outputs": [],
   "source": [
    "print('The Accuracy for the testing dataset is:',r2_score(y_test,predictions))\n",
    "print('The Accuracy for the training dataset is:',r2_score(y_train,predt_dt))"
   ]
  },
  {
   "cell_type": "code",
   "execution_count": null,
   "id": "d7d5a31b",
   "metadata": {},
   "outputs": [],
   "source": [
    "MSE_dt=mean_squared_error(y_test,predictions)\n",
    "MSE1_dt=mean_squared_error(y_train,predt_dt)"
   ]
  },
  {
   "cell_type": "code",
   "execution_count": null,
   "id": "798e01da",
   "metadata": {},
   "outputs": [],
   "source": [
    "rme_dt=math.sqrt(MSE_dt)\n",
    "rme1_dt=math.sqrt(MSE1_dt)"
   ]
  },
  {
   "cell_type": "code",
   "execution_count": null,
   "id": "a57d00a4",
   "metadata": {},
   "outputs": [],
   "source": [
    "print(rme_dt)\n",
    "print(rme1_dt)"
   ]
  },
  {
   "cell_type": "code",
   "execution_count": null,
   "id": "6fb3c7f9",
   "metadata": {},
   "outputs": [],
   "source": [
    "print(predictions[1:6])\n",
    "print(y_test.iloc[1:6])"
   ]
  },
  {
   "cell_type": "code",
   "execution_count": null,
   "id": "0514c5c0",
   "metadata": {},
   "outputs": [],
   "source": [
    "mae=mean_absolute_error(y_test,predictions)\n",
    "mae"
   ]
  },
  {
   "cell_type": "code",
   "execution_count": null,
   "id": "afcd276b",
   "metadata": {},
   "outputs": [],
   "source": [
    "mae1=mean_absolute_error(y_train,predt_dt)\n",
    "mae1"
   ]
  },
  {
   "cell_type": "code",
   "execution_count": null,
   "id": "6e1190b6",
   "metadata": {},
   "outputs": [],
   "source": []
  },
  {
   "cell_type": "code",
   "execution_count": null,
   "id": "e91db6e5",
   "metadata": {},
   "outputs": [],
   "source": []
  }
 ],
 "metadata": {
  "kernelspec": {
   "display_name": "Python 3 (ipykernel)",
   "language": "python",
   "name": "python3"
  },
  "language_info": {
   "codemirror_mode": {
    "name": "ipython",
    "version": 3
   },
   "file_extension": ".py",
   "mimetype": "text/x-python",
   "name": "python",
   "nbconvert_exporter": "python",
   "pygments_lexer": "ipython3",
   "version": "3.9.18"
  }
 },
 "nbformat": 4,
 "nbformat_minor": 5
}
