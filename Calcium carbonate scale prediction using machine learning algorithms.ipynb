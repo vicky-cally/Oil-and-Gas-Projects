{
 "cells": [
  {
   "cell_type": "markdown",
   "id": "5dca1c0e",
   "metadata": {},
   "source": [
    "## SCALE PREDICTION USING MACHINE LEARNING ALGORITHMS"
   ]
  },
  {
   "cell_type": "markdown",
   "id": "d76019a4",
   "metadata": {},
   "source": [
    "#### 1. LOADING THE LIBRARIES"
   ]
  },
  {
   "cell_type": "code",
   "execution_count": 1,
   "id": "0e9a078f",
   "metadata": {},
   "outputs": [],
   "source": [
    "import pandas as pd\n",
    "import numpy as np\n",
    "import tensorflow as tf\n",
    "from tensorflow import keras\n",
    "from tensorflow.keras.models import Sequential\n",
    "from tensorflow.keras.layers import Dense\n",
    "\n",
    "from sklearn import preprocessing\n",
    "from sklearn.model_selection import train_test_split\n",
    "from sklearn.preprocessing import MinMaxScaler,StandardScaler\n",
    "\n",
    "\n",
    "from tensorflow.keras import layers\n",
    "import matplotlib.pyplot as plt\n",
    "import seaborn as sns\n",
    "from sklearn import metrics\n",
    "from sklearn.metrics import accuracy_score,precision_score,recall_score,f1_score,confusion_matrix,log_loss\n",
    "\n",
    "\n",
    "from sklearn.linear_model import LogisticRegression\n",
    "from sklearn.tree import DecisionTreeClassifier\n",
    "from sklearn.ensemble import RandomForestClassifier"
   ]
  },
  {
   "cell_type": "markdown",
   "id": "2e6ef2f9",
   "metadata": {},
   "source": [
    "#### Loading the dataset into Jupyter notebook"
   ]
  },
  {
   "cell_type": "code",
   "execution_count": 2,
   "id": "97872b8a",
   "metadata": {},
   "outputs": [],
   "source": [
    "dataset=pd.read_excel('Scale Prediction Data Main1.xlsx')"
   ]
  },
  {
   "cell_type": "code",
   "execution_count": 3,
   "id": "dc0a965b",
   "metadata": {},
   "outputs": [
    {
     "data": {
      "text/html": [
       "<div>\n",
       "<style scoped>\n",
       "    .dataframe tbody tr th:only-of-type {\n",
       "        vertical-align: middle;\n",
       "    }\n",
       "\n",
       "    .dataframe tbody tr th {\n",
       "        vertical-align: top;\n",
       "    }\n",
       "\n",
       "    .dataframe thead th {\n",
       "        text-align: right;\n",
       "    }\n",
       "</style>\n",
       "<table border=\"1\" class=\"dataframe\">\n",
       "  <thead>\n",
       "    <tr style=\"text-align: right;\">\n",
       "      <th></th>\n",
       "      <th>Field</th>\n",
       "      <th>Well Number</th>\n",
       "      <th>Sample date</th>\n",
       "      <th>Na(ppm)</th>\n",
       "      <th>Ca(ppm)</th>\n",
       "      <th>Mg(ppm)</th>\n",
       "      <th>SO4(ppm)</th>\n",
       "      <th>HCO3(ppm)</th>\n",
       "      <th>TDS(ppm)</th>\n",
       "      <th>TDS(ppm).1</th>\n",
       "      <th>PH</th>\n",
       "      <th>Inspection date</th>\n",
       "      <th>Scale formation</th>\n",
       "      <th>Unnamed: 13</th>\n",
       "    </tr>\n",
       "  </thead>\n",
       "  <tbody>\n",
       "    <tr>\n",
       "      <th>0</th>\n",
       "      <td>A</td>\n",
       "      <td>2</td>\n",
       "      <td>2012-02-21</td>\n",
       "      <td>29900</td>\n",
       "      <td>9460</td>\n",
       "      <td>1190.0</td>\n",
       "      <td>569</td>\n",
       "      <td>172</td>\n",
       "      <td>107091</td>\n",
       "      <td>107091.0</td>\n",
       "      <td>7.0</td>\n",
       "      <td>2013-06-02</td>\n",
       "      <td>Scale formed</td>\n",
       "      <td>NaN</td>\n",
       "    </tr>\n",
       "    <tr>\n",
       "      <th>1</th>\n",
       "      <td>A</td>\n",
       "      <td>2</td>\n",
       "      <td>2011-02-27</td>\n",
       "      <td>30400</td>\n",
       "      <td>11200</td>\n",
       "      <td>1380.0</td>\n",
       "      <td>786</td>\n",
       "      <td>190</td>\n",
       "      <td>114056</td>\n",
       "      <td>114056.0</td>\n",
       "      <td>6.6</td>\n",
       "      <td>2013-06-02</td>\n",
       "      <td>Scale formed</td>\n",
       "      <td>NaN</td>\n",
       "    </tr>\n",
       "    <tr>\n",
       "      <th>2</th>\n",
       "      <td>A</td>\n",
       "      <td>2</td>\n",
       "      <td>2010-01-03</td>\n",
       "      <td>32800</td>\n",
       "      <td>11600</td>\n",
       "      <td>1440.0</td>\n",
       "      <td>365</td>\n",
       "      <td>209</td>\n",
       "      <td>121414</td>\n",
       "      <td>121414.0</td>\n",
       "      <td>6.9</td>\n",
       "      <td>2013-06-02</td>\n",
       "      <td>Scale formed</td>\n",
       "      <td>NaN</td>\n",
       "    </tr>\n",
       "    <tr>\n",
       "      <th>3</th>\n",
       "      <td>A</td>\n",
       "      <td>2</td>\n",
       "      <td>2007-09-11</td>\n",
       "      <td>4446</td>\n",
       "      <td>1450</td>\n",
       "      <td>226.0</td>\n",
       "      <td>932</td>\n",
       "      <td>509</td>\n",
       "      <td>16663</td>\n",
       "      <td>16663.0</td>\n",
       "      <td>7.5</td>\n",
       "      <td>2013-06-02</td>\n",
       "      <td>Scale formed</td>\n",
       "      <td>NaN</td>\n",
       "    </tr>\n",
       "    <tr>\n",
       "      <th>4</th>\n",
       "      <td>A</td>\n",
       "      <td>29</td>\n",
       "      <td>2013-04-28</td>\n",
       "      <td>36600</td>\n",
       "      <td>13400</td>\n",
       "      <td>1620.0</td>\n",
       "      <td>271</td>\n",
       "      <td>239</td>\n",
       "      <td>136630</td>\n",
       "      <td>136630.0</td>\n",
       "      <td>7.2</td>\n",
       "      <td>2015-05-27</td>\n",
       "      <td>Scale formed</td>\n",
       "      <td>NaN</td>\n",
       "    </tr>\n",
       "    <tr>\n",
       "      <th>...</th>\n",
       "      <td>...</td>\n",
       "      <td>...</td>\n",
       "      <td>...</td>\n",
       "      <td>...</td>\n",
       "      <td>...</td>\n",
       "      <td>...</td>\n",
       "      <td>...</td>\n",
       "      <td>...</td>\n",
       "      <td>...</td>\n",
       "      <td>...</td>\n",
       "      <td>...</td>\n",
       "      <td>...</td>\n",
       "      <td>...</td>\n",
       "      <td>...</td>\n",
       "    </tr>\n",
       "    <tr>\n",
       "      <th>499</th>\n",
       "      <td>B</td>\n",
       "      <td>555</td>\n",
       "      <td>2013-02-23</td>\n",
       "      <td>17600</td>\n",
       "      <td>10500</td>\n",
       "      <td>1350.0</td>\n",
       "      <td>76</td>\n",
       "      <td>756</td>\n",
       "      <td>79482</td>\n",
       "      <td>NaN</td>\n",
       "      <td>7.3</td>\n",
       "      <td>2014-08-12</td>\n",
       "      <td>Scale not formed</td>\n",
       "      <td>NaN</td>\n",
       "    </tr>\n",
       "    <tr>\n",
       "      <th>500</th>\n",
       "      <td>B</td>\n",
       "      <td>555</td>\n",
       "      <td>2011-02-20</td>\n",
       "      <td>21900</td>\n",
       "      <td>15100</td>\n",
       "      <td>1690.0</td>\n",
       "      <td>543</td>\n",
       "      <td>55</td>\n",
       "      <td>104288</td>\n",
       "      <td>NaN</td>\n",
       "      <td>6.1</td>\n",
       "      <td>2014-08-12</td>\n",
       "      <td>Scale not formed</td>\n",
       "      <td>NaN</td>\n",
       "    </tr>\n",
       "    <tr>\n",
       "      <th>501</th>\n",
       "      <td>B</td>\n",
       "      <td>555</td>\n",
       "      <td>2012-02-06</td>\n",
       "      <td>21000</td>\n",
       "      <td>12300</td>\n",
       "      <td>1450.0</td>\n",
       "      <td>379</td>\n",
       "      <td>420</td>\n",
       "      <td>93449</td>\n",
       "      <td>NaN</td>\n",
       "      <td>7.1</td>\n",
       "      <td>2014-08-12</td>\n",
       "      <td>Scale not formed</td>\n",
       "      <td>NaN</td>\n",
       "    </tr>\n",
       "    <tr>\n",
       "      <th>502</th>\n",
       "      <td>B</td>\n",
       "      <td>555</td>\n",
       "      <td>2009-02-15</td>\n",
       "      <td>33900</td>\n",
       "      <td>17100</td>\n",
       "      <td>2160.0</td>\n",
       "      <td>637</td>\n",
       "      <td>268</td>\n",
       "      <td>142265</td>\n",
       "      <td>NaN</td>\n",
       "      <td>6.5</td>\n",
       "      <td>2014-08-12</td>\n",
       "      <td>Scale not formed</td>\n",
       "      <td>NaN</td>\n",
       "    </tr>\n",
       "    <tr>\n",
       "      <th>503</th>\n",
       "      <td>B</td>\n",
       "      <td>555</td>\n",
       "      <td>2010-02-22</td>\n",
       "      <td>28200</td>\n",
       "      <td>16700</td>\n",
       "      <td>2090.0</td>\n",
       "      <td>234</td>\n",
       "      <td>289</td>\n",
       "      <td>126313</td>\n",
       "      <td>NaN</td>\n",
       "      <td>6.6</td>\n",
       "      <td>2014-08-12</td>\n",
       "      <td>Scale not formed</td>\n",
       "      <td>NaN</td>\n",
       "    </tr>\n",
       "  </tbody>\n",
       "</table>\n",
       "<p>504 rows × 14 columns</p>\n",
       "</div>"
      ],
      "text/plain": [
       "    Field  Well Number Sample date  Na(ppm)  Ca(ppm)  Mg(ppm)  SO4(ppm)  \\\n",
       "0       A            2  2012-02-21    29900     9460   1190.0       569   \n",
       "1       A            2  2011-02-27    30400    11200   1380.0       786   \n",
       "2       A            2  2010-01-03    32800    11600   1440.0       365   \n",
       "3       A            2  2007-09-11     4446     1450    226.0       932   \n",
       "4       A           29  2013-04-28    36600    13400   1620.0       271   \n",
       "..    ...          ...         ...      ...      ...      ...       ...   \n",
       "499     B          555  2013-02-23    17600    10500   1350.0        76   \n",
       "500     B          555  2011-02-20    21900    15100   1690.0       543   \n",
       "501     B          555  2012-02-06    21000    12300   1450.0       379   \n",
       "502     B          555  2009-02-15    33900    17100   2160.0       637   \n",
       "503     B          555  2010-02-22    28200    16700   2090.0       234   \n",
       "\n",
       "     HCO3(ppm)  TDS(ppm)  TDS(ppm).1   PH Inspection date   Scale formation  \\\n",
       "0          172    107091    107091.0  7.0      2013-06-02      Scale formed   \n",
       "1          190    114056    114056.0  6.6      2013-06-02      Scale formed   \n",
       "2          209    121414    121414.0  6.9      2013-06-02      Scale formed   \n",
       "3          509     16663     16663.0  7.5      2013-06-02      Scale formed   \n",
       "4          239    136630    136630.0  7.2      2015-05-27      Scale formed   \n",
       "..         ...       ...         ...  ...             ...               ...   \n",
       "499        756     79482         NaN  7.3      2014-08-12  Scale not formed   \n",
       "500         55    104288         NaN  6.1      2014-08-12  Scale not formed   \n",
       "501        420     93449         NaN  7.1      2014-08-12  Scale not formed   \n",
       "502        268    142265         NaN  6.5      2014-08-12  Scale not formed   \n",
       "503        289    126313         NaN  6.6      2014-08-12  Scale not formed   \n",
       "\n",
       "     Unnamed: 13  \n",
       "0            NaN  \n",
       "1            NaN  \n",
       "2            NaN  \n",
       "3            NaN  \n",
       "4            NaN  \n",
       "..           ...  \n",
       "499          NaN  \n",
       "500          NaN  \n",
       "501          NaN  \n",
       "502          NaN  \n",
       "503          NaN  \n",
       "\n",
       "[504 rows x 14 columns]"
      ]
     },
     "execution_count": 3,
     "metadata": {},
     "output_type": "execute_result"
    }
   ],
   "source": [
    "df=dataset.copy()\n",
    "df"
   ]
  },
  {
   "cell_type": "markdown",
   "id": "eb672ea7",
   "metadata": {},
   "source": [
    "#### 2. DATA PRE-PROCESSING"
   ]
  },
  {
   "cell_type": "markdown",
   "id": "31013ae3",
   "metadata": {},
   "source": [
    "#### Statistical Description of the data"
   ]
  },
  {
   "cell_type": "code",
   "execution_count": 4,
   "id": "0e78f99a",
   "metadata": {},
   "outputs": [
    {
     "data": {
      "text/html": [
       "<div>\n",
       "<style scoped>\n",
       "    .dataframe tbody tr th:only-of-type {\n",
       "        vertical-align: middle;\n",
       "    }\n",
       "\n",
       "    .dataframe tbody tr th {\n",
       "        vertical-align: top;\n",
       "    }\n",
       "\n",
       "    .dataframe thead th {\n",
       "        text-align: right;\n",
       "    }\n",
       "</style>\n",
       "<table border=\"1\" class=\"dataframe\">\n",
       "  <thead>\n",
       "    <tr style=\"text-align: right;\">\n",
       "      <th></th>\n",
       "      <th>Well Number</th>\n",
       "      <th>Na(ppm)</th>\n",
       "      <th>Ca(ppm)</th>\n",
       "      <th>Mg(ppm)</th>\n",
       "      <th>SO4(ppm)</th>\n",
       "      <th>HCO3(ppm)</th>\n",
       "      <th>TDS(ppm)</th>\n",
       "      <th>TDS(ppm).1</th>\n",
       "      <th>PH</th>\n",
       "      <th>Unnamed: 13</th>\n",
       "    </tr>\n",
       "  </thead>\n",
       "  <tbody>\n",
       "    <tr>\n",
       "      <th>count</th>\n",
       "      <td>504.000000</td>\n",
       "      <td>504.000000</td>\n",
       "      <td>504.000000</td>\n",
       "      <td>504.000000</td>\n",
       "      <td>504.000000</td>\n",
       "      <td>504.000000</td>\n",
       "      <td>504.000000</td>\n",
       "      <td>54.000000</td>\n",
       "      <td>504.000000</td>\n",
       "      <td>0.0</td>\n",
       "    </tr>\n",
       "    <tr>\n",
       "      <th>mean</th>\n",
       "      <td>362.517857</td>\n",
       "      <td>25109.121032</td>\n",
       "      <td>8988.458333</td>\n",
       "      <td>1246.758869</td>\n",
       "      <td>632.531746</td>\n",
       "      <td>330.962302</td>\n",
       "      <td>93690.575397</td>\n",
       "      <td>89316.833333</td>\n",
       "      <td>6.920040</td>\n",
       "      <td>NaN</td>\n",
       "    </tr>\n",
       "    <tr>\n",
       "      <th>std</th>\n",
       "      <td>141.984065</td>\n",
       "      <td>11883.379565</td>\n",
       "      <td>5258.164518</td>\n",
       "      <td>781.291146</td>\n",
       "      <td>447.072229</td>\n",
       "      <td>154.546591</td>\n",
       "      <td>44034.525981</td>\n",
       "      <td>50335.531523</td>\n",
       "      <td>0.595189</td>\n",
       "      <td>NaN</td>\n",
       "    </tr>\n",
       "    <tr>\n",
       "      <th>min</th>\n",
       "      <td>2.000000</td>\n",
       "      <td>51.000000</td>\n",
       "      <td>16.000000</td>\n",
       "      <td>0.770000</td>\n",
       "      <td>2.000000</td>\n",
       "      <td>26.000000</td>\n",
       "      <td>228.000000</td>\n",
       "      <td>15275.000000</td>\n",
       "      <td>0.500000</td>\n",
       "      <td>NaN</td>\n",
       "    </tr>\n",
       "    <tr>\n",
       "      <th>25%</th>\n",
       "      <td>258.000000</td>\n",
       "      <td>17275.000000</td>\n",
       "      <td>5180.000000</td>\n",
       "      <td>813.500000</td>\n",
       "      <td>395.750000</td>\n",
       "      <td>215.000000</td>\n",
       "      <td>62869.250000</td>\n",
       "      <td>44986.000000</td>\n",
       "      <td>6.600000</td>\n",
       "      <td>NaN</td>\n",
       "    </tr>\n",
       "    <tr>\n",
       "      <th>50%</th>\n",
       "      <td>390.500000</td>\n",
       "      <td>23200.000000</td>\n",
       "      <td>8075.000000</td>\n",
       "      <td>1155.000000</td>\n",
       "      <td>566.500000</td>\n",
       "      <td>313.500000</td>\n",
       "      <td>87552.000000</td>\n",
       "      <td>92932.500000</td>\n",
       "      <td>6.900000</td>\n",
       "      <td>NaN</td>\n",
       "    </tr>\n",
       "    <tr>\n",
       "      <th>75%</th>\n",
       "      <td>480.000000</td>\n",
       "      <td>31950.000000</td>\n",
       "      <td>11600.000000</td>\n",
       "      <td>1522.500000</td>\n",
       "      <td>731.000000</td>\n",
       "      <td>427.250000</td>\n",
       "      <td>116819.000000</td>\n",
       "      <td>134046.250000</td>\n",
       "      <td>7.200000</td>\n",
       "      <td>NaN</td>\n",
       "    </tr>\n",
       "    <tr>\n",
       "      <th>max</th>\n",
       "      <td>560.000000</td>\n",
       "      <td>76600.000000</td>\n",
       "      <td>34700.000000</td>\n",
       "      <td>11500.000000</td>\n",
       "      <td>4720.000000</td>\n",
       "      <td>1434.000000</td>\n",
       "      <td>235416.000000</td>\n",
       "      <td>190923.000000</td>\n",
       "      <td>8.400000</td>\n",
       "      <td>NaN</td>\n",
       "    </tr>\n",
       "  </tbody>\n",
       "</table>\n",
       "</div>"
      ],
      "text/plain": [
       "       Well Number       Na(ppm)       Ca(ppm)       Mg(ppm)     SO4(ppm)  \\\n",
       "count   504.000000    504.000000    504.000000    504.000000   504.000000   \n",
       "mean    362.517857  25109.121032   8988.458333   1246.758869   632.531746   \n",
       "std     141.984065  11883.379565   5258.164518    781.291146   447.072229   \n",
       "min       2.000000     51.000000     16.000000      0.770000     2.000000   \n",
       "25%     258.000000  17275.000000   5180.000000    813.500000   395.750000   \n",
       "50%     390.500000  23200.000000   8075.000000   1155.000000   566.500000   \n",
       "75%     480.000000  31950.000000  11600.000000   1522.500000   731.000000   \n",
       "max     560.000000  76600.000000  34700.000000  11500.000000  4720.000000   \n",
       "\n",
       "         HCO3(ppm)       TDS(ppm)     TDS(ppm).1          PH  Unnamed: 13  \n",
       "count   504.000000     504.000000      54.000000  504.000000          0.0  \n",
       "mean    330.962302   93690.575397   89316.833333    6.920040          NaN  \n",
       "std     154.546591   44034.525981   50335.531523    0.595189          NaN  \n",
       "min      26.000000     228.000000   15275.000000    0.500000          NaN  \n",
       "25%     215.000000   62869.250000   44986.000000    6.600000          NaN  \n",
       "50%     313.500000   87552.000000   92932.500000    6.900000          NaN  \n",
       "75%     427.250000  116819.000000  134046.250000    7.200000          NaN  \n",
       "max    1434.000000  235416.000000  190923.000000    8.400000          NaN  "
      ]
     },
     "execution_count": 4,
     "metadata": {},
     "output_type": "execute_result"
    }
   ],
   "source": [
    "df.describe()"
   ]
  },
  {
   "cell_type": "markdown",
   "id": "7b6aefa8",
   "metadata": {},
   "source": [
    "#### Dropping the null values"
   ]
  },
  {
   "cell_type": "code",
   "execution_count": 5,
   "id": "2e2732f8",
   "metadata": {},
   "outputs": [],
   "source": [
    "df=df.drop(['TDS(ppm).1','Unnamed: 13'],axis=1)"
   ]
  },
  {
   "cell_type": "markdown",
   "id": "6b5a32f8",
   "metadata": {},
   "source": [
    "#### After dropping the null values"
   ]
  },
  {
   "cell_type": "code",
   "execution_count": 6,
   "id": "6b059d73",
   "metadata": {},
   "outputs": [
    {
     "data": {
      "text/html": [
       "<div>\n",
       "<style scoped>\n",
       "    .dataframe tbody tr th:only-of-type {\n",
       "        vertical-align: middle;\n",
       "    }\n",
       "\n",
       "    .dataframe tbody tr th {\n",
       "        vertical-align: top;\n",
       "    }\n",
       "\n",
       "    .dataframe thead th {\n",
       "        text-align: right;\n",
       "    }\n",
       "</style>\n",
       "<table border=\"1\" class=\"dataframe\">\n",
       "  <thead>\n",
       "    <tr style=\"text-align: right;\">\n",
       "      <th></th>\n",
       "      <th>Field</th>\n",
       "      <th>Well Number</th>\n",
       "      <th>Sample date</th>\n",
       "      <th>Na(ppm)</th>\n",
       "      <th>Ca(ppm)</th>\n",
       "      <th>Mg(ppm)</th>\n",
       "      <th>SO4(ppm)</th>\n",
       "      <th>HCO3(ppm)</th>\n",
       "      <th>TDS(ppm)</th>\n",
       "      <th>PH</th>\n",
       "      <th>Inspection date</th>\n",
       "      <th>Scale formation</th>\n",
       "    </tr>\n",
       "  </thead>\n",
       "  <tbody>\n",
       "    <tr>\n",
       "      <th>0</th>\n",
       "      <td>A</td>\n",
       "      <td>2</td>\n",
       "      <td>2012-02-21</td>\n",
       "      <td>29900</td>\n",
       "      <td>9460</td>\n",
       "      <td>1190.0</td>\n",
       "      <td>569</td>\n",
       "      <td>172</td>\n",
       "      <td>107091</td>\n",
       "      <td>7.0</td>\n",
       "      <td>2013-06-02</td>\n",
       "      <td>Scale formed</td>\n",
       "    </tr>\n",
       "    <tr>\n",
       "      <th>1</th>\n",
       "      <td>A</td>\n",
       "      <td>2</td>\n",
       "      <td>2011-02-27</td>\n",
       "      <td>30400</td>\n",
       "      <td>11200</td>\n",
       "      <td>1380.0</td>\n",
       "      <td>786</td>\n",
       "      <td>190</td>\n",
       "      <td>114056</td>\n",
       "      <td>6.6</td>\n",
       "      <td>2013-06-02</td>\n",
       "      <td>Scale formed</td>\n",
       "    </tr>\n",
       "    <tr>\n",
       "      <th>2</th>\n",
       "      <td>A</td>\n",
       "      <td>2</td>\n",
       "      <td>2010-01-03</td>\n",
       "      <td>32800</td>\n",
       "      <td>11600</td>\n",
       "      <td>1440.0</td>\n",
       "      <td>365</td>\n",
       "      <td>209</td>\n",
       "      <td>121414</td>\n",
       "      <td>6.9</td>\n",
       "      <td>2013-06-02</td>\n",
       "      <td>Scale formed</td>\n",
       "    </tr>\n",
       "    <tr>\n",
       "      <th>3</th>\n",
       "      <td>A</td>\n",
       "      <td>2</td>\n",
       "      <td>2007-09-11</td>\n",
       "      <td>4446</td>\n",
       "      <td>1450</td>\n",
       "      <td>226.0</td>\n",
       "      <td>932</td>\n",
       "      <td>509</td>\n",
       "      <td>16663</td>\n",
       "      <td>7.5</td>\n",
       "      <td>2013-06-02</td>\n",
       "      <td>Scale formed</td>\n",
       "    </tr>\n",
       "    <tr>\n",
       "      <th>4</th>\n",
       "      <td>A</td>\n",
       "      <td>29</td>\n",
       "      <td>2013-04-28</td>\n",
       "      <td>36600</td>\n",
       "      <td>13400</td>\n",
       "      <td>1620.0</td>\n",
       "      <td>271</td>\n",
       "      <td>239</td>\n",
       "      <td>136630</td>\n",
       "      <td>7.2</td>\n",
       "      <td>2015-05-27</td>\n",
       "      <td>Scale formed</td>\n",
       "    </tr>\n",
       "    <tr>\n",
       "      <th>...</th>\n",
       "      <td>...</td>\n",
       "      <td>...</td>\n",
       "      <td>...</td>\n",
       "      <td>...</td>\n",
       "      <td>...</td>\n",
       "      <td>...</td>\n",
       "      <td>...</td>\n",
       "      <td>...</td>\n",
       "      <td>...</td>\n",
       "      <td>...</td>\n",
       "      <td>...</td>\n",
       "      <td>...</td>\n",
       "    </tr>\n",
       "    <tr>\n",
       "      <th>499</th>\n",
       "      <td>B</td>\n",
       "      <td>555</td>\n",
       "      <td>2013-02-23</td>\n",
       "      <td>17600</td>\n",
       "      <td>10500</td>\n",
       "      <td>1350.0</td>\n",
       "      <td>76</td>\n",
       "      <td>756</td>\n",
       "      <td>79482</td>\n",
       "      <td>7.3</td>\n",
       "      <td>2014-08-12</td>\n",
       "      <td>Scale not formed</td>\n",
       "    </tr>\n",
       "    <tr>\n",
       "      <th>500</th>\n",
       "      <td>B</td>\n",
       "      <td>555</td>\n",
       "      <td>2011-02-20</td>\n",
       "      <td>21900</td>\n",
       "      <td>15100</td>\n",
       "      <td>1690.0</td>\n",
       "      <td>543</td>\n",
       "      <td>55</td>\n",
       "      <td>104288</td>\n",
       "      <td>6.1</td>\n",
       "      <td>2014-08-12</td>\n",
       "      <td>Scale not formed</td>\n",
       "    </tr>\n",
       "    <tr>\n",
       "      <th>501</th>\n",
       "      <td>B</td>\n",
       "      <td>555</td>\n",
       "      <td>2012-02-06</td>\n",
       "      <td>21000</td>\n",
       "      <td>12300</td>\n",
       "      <td>1450.0</td>\n",
       "      <td>379</td>\n",
       "      <td>420</td>\n",
       "      <td>93449</td>\n",
       "      <td>7.1</td>\n",
       "      <td>2014-08-12</td>\n",
       "      <td>Scale not formed</td>\n",
       "    </tr>\n",
       "    <tr>\n",
       "      <th>502</th>\n",
       "      <td>B</td>\n",
       "      <td>555</td>\n",
       "      <td>2009-02-15</td>\n",
       "      <td>33900</td>\n",
       "      <td>17100</td>\n",
       "      <td>2160.0</td>\n",
       "      <td>637</td>\n",
       "      <td>268</td>\n",
       "      <td>142265</td>\n",
       "      <td>6.5</td>\n",
       "      <td>2014-08-12</td>\n",
       "      <td>Scale not formed</td>\n",
       "    </tr>\n",
       "    <tr>\n",
       "      <th>503</th>\n",
       "      <td>B</td>\n",
       "      <td>555</td>\n",
       "      <td>2010-02-22</td>\n",
       "      <td>28200</td>\n",
       "      <td>16700</td>\n",
       "      <td>2090.0</td>\n",
       "      <td>234</td>\n",
       "      <td>289</td>\n",
       "      <td>126313</td>\n",
       "      <td>6.6</td>\n",
       "      <td>2014-08-12</td>\n",
       "      <td>Scale not formed</td>\n",
       "    </tr>\n",
       "  </tbody>\n",
       "</table>\n",
       "<p>504 rows × 12 columns</p>\n",
       "</div>"
      ],
      "text/plain": [
       "    Field  Well Number Sample date  Na(ppm)  Ca(ppm)  Mg(ppm)  SO4(ppm)  \\\n",
       "0       A            2  2012-02-21    29900     9460   1190.0       569   \n",
       "1       A            2  2011-02-27    30400    11200   1380.0       786   \n",
       "2       A            2  2010-01-03    32800    11600   1440.0       365   \n",
       "3       A            2  2007-09-11     4446     1450    226.0       932   \n",
       "4       A           29  2013-04-28    36600    13400   1620.0       271   \n",
       "..    ...          ...         ...      ...      ...      ...       ...   \n",
       "499     B          555  2013-02-23    17600    10500   1350.0        76   \n",
       "500     B          555  2011-02-20    21900    15100   1690.0       543   \n",
       "501     B          555  2012-02-06    21000    12300   1450.0       379   \n",
       "502     B          555  2009-02-15    33900    17100   2160.0       637   \n",
       "503     B          555  2010-02-22    28200    16700   2090.0       234   \n",
       "\n",
       "     HCO3(ppm)  TDS(ppm)   PH Inspection date   Scale formation  \n",
       "0          172    107091  7.0      2013-06-02      Scale formed  \n",
       "1          190    114056  6.6      2013-06-02      Scale formed  \n",
       "2          209    121414  6.9      2013-06-02      Scale formed  \n",
       "3          509     16663  7.5      2013-06-02      Scale formed  \n",
       "4          239    136630  7.2      2015-05-27      Scale formed  \n",
       "..         ...       ...  ...             ...               ...  \n",
       "499        756     79482  7.3      2014-08-12  Scale not formed  \n",
       "500         55    104288  6.1      2014-08-12  Scale not formed  \n",
       "501        420     93449  7.1      2014-08-12  Scale not formed  \n",
       "502        268    142265  6.5      2014-08-12  Scale not formed  \n",
       "503        289    126313  6.6      2014-08-12  Scale not formed  \n",
       "\n",
       "[504 rows x 12 columns]"
      ]
     },
     "execution_count": 6,
     "metadata": {},
     "output_type": "execute_result"
    }
   ],
   "source": [
    "df"
   ]
  },
  {
   "cell_type": "markdown",
   "id": "949c147c",
   "metadata": {},
   "source": [
    "#### Statistical Description of the data after removing the null values"
   ]
  },
  {
   "cell_type": "code",
   "execution_count": 7,
   "id": "81963915",
   "metadata": {},
   "outputs": [
    {
     "data": {
      "text/html": [
       "<div>\n",
       "<style scoped>\n",
       "    .dataframe tbody tr th:only-of-type {\n",
       "        vertical-align: middle;\n",
       "    }\n",
       "\n",
       "    .dataframe tbody tr th {\n",
       "        vertical-align: top;\n",
       "    }\n",
       "\n",
       "    .dataframe thead th {\n",
       "        text-align: right;\n",
       "    }\n",
       "</style>\n",
       "<table border=\"1\" class=\"dataframe\">\n",
       "  <thead>\n",
       "    <tr style=\"text-align: right;\">\n",
       "      <th></th>\n",
       "      <th>Well Number</th>\n",
       "      <th>Na(ppm)</th>\n",
       "      <th>Ca(ppm)</th>\n",
       "      <th>Mg(ppm)</th>\n",
       "      <th>SO4(ppm)</th>\n",
       "      <th>HCO3(ppm)</th>\n",
       "      <th>TDS(ppm)</th>\n",
       "      <th>PH</th>\n",
       "    </tr>\n",
       "  </thead>\n",
       "  <tbody>\n",
       "    <tr>\n",
       "      <th>count</th>\n",
       "      <td>504.000000</td>\n",
       "      <td>504.000000</td>\n",
       "      <td>504.000000</td>\n",
       "      <td>504.000000</td>\n",
       "      <td>504.000000</td>\n",
       "      <td>504.000000</td>\n",
       "      <td>504.000000</td>\n",
       "      <td>504.000000</td>\n",
       "    </tr>\n",
       "    <tr>\n",
       "      <th>mean</th>\n",
       "      <td>362.517857</td>\n",
       "      <td>25109.121032</td>\n",
       "      <td>8988.458333</td>\n",
       "      <td>1246.758869</td>\n",
       "      <td>632.531746</td>\n",
       "      <td>330.962302</td>\n",
       "      <td>93690.575397</td>\n",
       "      <td>6.920040</td>\n",
       "    </tr>\n",
       "    <tr>\n",
       "      <th>std</th>\n",
       "      <td>141.984065</td>\n",
       "      <td>11883.379565</td>\n",
       "      <td>5258.164518</td>\n",
       "      <td>781.291146</td>\n",
       "      <td>447.072229</td>\n",
       "      <td>154.546591</td>\n",
       "      <td>44034.525981</td>\n",
       "      <td>0.595189</td>\n",
       "    </tr>\n",
       "    <tr>\n",
       "      <th>min</th>\n",
       "      <td>2.000000</td>\n",
       "      <td>51.000000</td>\n",
       "      <td>16.000000</td>\n",
       "      <td>0.770000</td>\n",
       "      <td>2.000000</td>\n",
       "      <td>26.000000</td>\n",
       "      <td>228.000000</td>\n",
       "      <td>0.500000</td>\n",
       "    </tr>\n",
       "    <tr>\n",
       "      <th>25%</th>\n",
       "      <td>258.000000</td>\n",
       "      <td>17275.000000</td>\n",
       "      <td>5180.000000</td>\n",
       "      <td>813.500000</td>\n",
       "      <td>395.750000</td>\n",
       "      <td>215.000000</td>\n",
       "      <td>62869.250000</td>\n",
       "      <td>6.600000</td>\n",
       "    </tr>\n",
       "    <tr>\n",
       "      <th>50%</th>\n",
       "      <td>390.500000</td>\n",
       "      <td>23200.000000</td>\n",
       "      <td>8075.000000</td>\n",
       "      <td>1155.000000</td>\n",
       "      <td>566.500000</td>\n",
       "      <td>313.500000</td>\n",
       "      <td>87552.000000</td>\n",
       "      <td>6.900000</td>\n",
       "    </tr>\n",
       "    <tr>\n",
       "      <th>75%</th>\n",
       "      <td>480.000000</td>\n",
       "      <td>31950.000000</td>\n",
       "      <td>11600.000000</td>\n",
       "      <td>1522.500000</td>\n",
       "      <td>731.000000</td>\n",
       "      <td>427.250000</td>\n",
       "      <td>116819.000000</td>\n",
       "      <td>7.200000</td>\n",
       "    </tr>\n",
       "    <tr>\n",
       "      <th>max</th>\n",
       "      <td>560.000000</td>\n",
       "      <td>76600.000000</td>\n",
       "      <td>34700.000000</td>\n",
       "      <td>11500.000000</td>\n",
       "      <td>4720.000000</td>\n",
       "      <td>1434.000000</td>\n",
       "      <td>235416.000000</td>\n",
       "      <td>8.400000</td>\n",
       "    </tr>\n",
       "  </tbody>\n",
       "</table>\n",
       "</div>"
      ],
      "text/plain": [
       "       Well Number       Na(ppm)       Ca(ppm)       Mg(ppm)     SO4(ppm)  \\\n",
       "count   504.000000    504.000000    504.000000    504.000000   504.000000   \n",
       "mean    362.517857  25109.121032   8988.458333   1246.758869   632.531746   \n",
       "std     141.984065  11883.379565   5258.164518    781.291146   447.072229   \n",
       "min       2.000000     51.000000     16.000000      0.770000     2.000000   \n",
       "25%     258.000000  17275.000000   5180.000000    813.500000   395.750000   \n",
       "50%     390.500000  23200.000000   8075.000000   1155.000000   566.500000   \n",
       "75%     480.000000  31950.000000  11600.000000   1522.500000   731.000000   \n",
       "max     560.000000  76600.000000  34700.000000  11500.000000  4720.000000   \n",
       "\n",
       "         HCO3(ppm)       TDS(ppm)          PH  \n",
       "count   504.000000     504.000000  504.000000  \n",
       "mean    330.962302   93690.575397    6.920040  \n",
       "std     154.546591   44034.525981    0.595189  \n",
       "min      26.000000     228.000000    0.500000  \n",
       "25%     215.000000   62869.250000    6.600000  \n",
       "50%     313.500000   87552.000000    6.900000  \n",
       "75%     427.250000  116819.000000    7.200000  \n",
       "max    1434.000000  235416.000000    8.400000  "
      ]
     },
     "execution_count": 7,
     "metadata": {},
     "output_type": "execute_result"
    }
   ],
   "source": [
    "df.describe()"
   ]
  },
  {
   "cell_type": "markdown",
   "id": "74549cb2",
   "metadata": {},
   "source": [
    "#### Assigning 1 and 0 to Scale formed and no scale formed respectively"
   ]
  },
  {
   "cell_type": "code",
   "execution_count": 8,
   "id": "1a0729dd",
   "metadata": {},
   "outputs": [],
   "source": [
    "for x in df.index:\n",
    "    if df.loc[x,'Scale formation'] =='Scale formed':\n",
    "        df.loc[x,'Scale formation']=1\n",
    "    else:\n",
    "        df.loc[x,'Scale formation']=0"
   ]
  },
  {
   "cell_type": "markdown",
   "id": "d800676e",
   "metadata": {},
   "source": [
    "#### Shuffling the data"
   ]
  },
  {
   "cell_type": "code",
   "execution_count": 9,
   "id": "a43a92c8",
   "metadata": {},
   "outputs": [
    {
     "data": {
      "text/html": [
       "<div>\n",
       "<style scoped>\n",
       "    .dataframe tbody tr th:only-of-type {\n",
       "        vertical-align: middle;\n",
       "    }\n",
       "\n",
       "    .dataframe tbody tr th {\n",
       "        vertical-align: top;\n",
       "    }\n",
       "\n",
       "    .dataframe thead th {\n",
       "        text-align: right;\n",
       "    }\n",
       "</style>\n",
       "<table border=\"1\" class=\"dataframe\">\n",
       "  <thead>\n",
       "    <tr style=\"text-align: right;\">\n",
       "      <th></th>\n",
       "      <th>Field</th>\n",
       "      <th>Well Number</th>\n",
       "      <th>Sample date</th>\n",
       "      <th>Na(ppm)</th>\n",
       "      <th>Ca(ppm)</th>\n",
       "      <th>Mg(ppm)</th>\n",
       "      <th>SO4(ppm)</th>\n",
       "      <th>HCO3(ppm)</th>\n",
       "      <th>TDS(ppm)</th>\n",
       "      <th>PH</th>\n",
       "      <th>Inspection date</th>\n",
       "      <th>Scale formation</th>\n",
       "    </tr>\n",
       "  </thead>\n",
       "  <tbody>\n",
       "    <tr>\n",
       "      <th>3</th>\n",
       "      <td>A</td>\n",
       "      <td>2</td>\n",
       "      <td>2007-09-11</td>\n",
       "      <td>4446</td>\n",
       "      <td>1450</td>\n",
       "      <td>226.0</td>\n",
       "      <td>932</td>\n",
       "      <td>509</td>\n",
       "      <td>16663</td>\n",
       "      <td>7.5</td>\n",
       "      <td>2013-06-02</td>\n",
       "      <td>1</td>\n",
       "    </tr>\n",
       "    <tr>\n",
       "      <th>369</th>\n",
       "      <td>B</td>\n",
       "      <td>389</td>\n",
       "      <td>2010-04-27</td>\n",
       "      <td>50200</td>\n",
       "      <td>16000</td>\n",
       "      <td>1610.0</td>\n",
       "      <td>522</td>\n",
       "      <td>107</td>\n",
       "      <td>178439</td>\n",
       "      <td>6.6</td>\n",
       "      <td>2014-11-23</td>\n",
       "      <td>0</td>\n",
       "    </tr>\n",
       "    <tr>\n",
       "      <th>497</th>\n",
       "      <td>B</td>\n",
       "      <td>543</td>\n",
       "      <td>2008-03-18</td>\n",
       "      <td>592</td>\n",
       "      <td>81</td>\n",
       "      <td>23.5</td>\n",
       "      <td>189</td>\n",
       "      <td>153</td>\n",
       "      <td>1936</td>\n",
       "      <td>7.9</td>\n",
       "      <td>2014-08-19</td>\n",
       "      <td>0</td>\n",
       "    </tr>\n",
       "    <tr>\n",
       "      <th>51</th>\n",
       "      <td>A</td>\n",
       "      <td>250</td>\n",
       "      <td>2011-11-22</td>\n",
       "      <td>30500</td>\n",
       "      <td>9070</td>\n",
       "      <td>1200.0</td>\n",
       "      <td>244</td>\n",
       "      <td>317</td>\n",
       "      <td>107631</td>\n",
       "      <td>6.9</td>\n",
       "      <td>2016-08-28</td>\n",
       "      <td>1</td>\n",
       "    </tr>\n",
       "    <tr>\n",
       "      <th>146</th>\n",
       "      <td>A</td>\n",
       "      <td>450</td>\n",
       "      <td>2010-03-10</td>\n",
       "      <td>27300</td>\n",
       "      <td>7900</td>\n",
       "      <td>1020.0</td>\n",
       "      <td>468</td>\n",
       "      <td>473</td>\n",
       "      <td>95661</td>\n",
       "      <td>7.3</td>\n",
       "      <td>2013-06-25</td>\n",
       "      <td>1</td>\n",
       "    </tr>\n",
       "    <tr>\n",
       "      <th>...</th>\n",
       "      <td>...</td>\n",
       "      <td>...</td>\n",
       "      <td>...</td>\n",
       "      <td>...</td>\n",
       "      <td>...</td>\n",
       "      <td>...</td>\n",
       "      <td>...</td>\n",
       "      <td>...</td>\n",
       "      <td>...</td>\n",
       "      <td>...</td>\n",
       "      <td>...</td>\n",
       "      <td>...</td>\n",
       "    </tr>\n",
       "    <tr>\n",
       "      <th>211</th>\n",
       "      <td>A</td>\n",
       "      <td>523</td>\n",
       "      <td>2011-02-20</td>\n",
       "      <td>13200</td>\n",
       "      <td>3700</td>\n",
       "      <td>469.0</td>\n",
       "      <td>862</td>\n",
       "      <td>580</td>\n",
       "      <td>46111</td>\n",
       "      <td>7.9</td>\n",
       "      <td>2013-07-16</td>\n",
       "      <td>1</td>\n",
       "    </tr>\n",
       "    <tr>\n",
       "      <th>107</th>\n",
       "      <td>A</td>\n",
       "      <td>391</td>\n",
       "      <td>2010-04-07</td>\n",
       "      <td>26000</td>\n",
       "      <td>6790</td>\n",
       "      <td>1160.0</td>\n",
       "      <td>461</td>\n",
       "      <td>253</td>\n",
       "      <td>89664</td>\n",
       "      <td>7.3</td>\n",
       "      <td>2016-12-24</td>\n",
       "      <td>1</td>\n",
       "    </tr>\n",
       "    <tr>\n",
       "      <th>330</th>\n",
       "      <td>B</td>\n",
       "      <td>311</td>\n",
       "      <td>2006-03-11</td>\n",
       "      <td>19100</td>\n",
       "      <td>5530</td>\n",
       "      <td>1170.0</td>\n",
       "      <td>995</td>\n",
       "      <td>428</td>\n",
       "      <td>68823</td>\n",
       "      <td>7.1</td>\n",
       "      <td>2014-03-11</td>\n",
       "      <td>1</td>\n",
       "    </tr>\n",
       "    <tr>\n",
       "      <th>148</th>\n",
       "      <td>A</td>\n",
       "      <td>450</td>\n",
       "      <td>2006-01-08</td>\n",
       "      <td>44000</td>\n",
       "      <td>16200</td>\n",
       "      <td>2030.0</td>\n",
       "      <td>524</td>\n",
       "      <td>89</td>\n",
       "      <td>164843</td>\n",
       "      <td>6.1</td>\n",
       "      <td>2013-06-25</td>\n",
       "      <td>1</td>\n",
       "    </tr>\n",
       "    <tr>\n",
       "      <th>22</th>\n",
       "      <td>A</td>\n",
       "      <td>204</td>\n",
       "      <td>2011-01-25</td>\n",
       "      <td>5959</td>\n",
       "      <td>2340</td>\n",
       "      <td>311.0</td>\n",
       "      <td>552</td>\n",
       "      <td>744</td>\n",
       "      <td>23306</td>\n",
       "      <td>7.0</td>\n",
       "      <td>2016-05-15</td>\n",
       "      <td>1</td>\n",
       "    </tr>\n",
       "  </tbody>\n",
       "</table>\n",
       "<p>504 rows × 12 columns</p>\n",
       "</div>"
      ],
      "text/plain": [
       "    Field  Well Number Sample date  Na(ppm)  Ca(ppm)  Mg(ppm)  SO4(ppm)  \\\n",
       "3       A            2  2007-09-11     4446     1450    226.0       932   \n",
       "369     B          389  2010-04-27    50200    16000   1610.0       522   \n",
       "497     B          543  2008-03-18      592       81     23.5       189   \n",
       "51      A          250  2011-11-22    30500     9070   1200.0       244   \n",
       "146     A          450  2010-03-10    27300     7900   1020.0       468   \n",
       "..    ...          ...         ...      ...      ...      ...       ...   \n",
       "211     A          523  2011-02-20    13200     3700    469.0       862   \n",
       "107     A          391  2010-04-07    26000     6790   1160.0       461   \n",
       "330     B          311  2006-03-11    19100     5530   1170.0       995   \n",
       "148     A          450  2006-01-08    44000    16200   2030.0       524   \n",
       "22      A          204  2011-01-25     5959     2340    311.0       552   \n",
       "\n",
       "     HCO3(ppm)  TDS(ppm)   PH Inspection date Scale formation  \n",
       "3          509     16663  7.5      2013-06-02               1  \n",
       "369        107    178439  6.6      2014-11-23               0  \n",
       "497        153      1936  7.9      2014-08-19               0  \n",
       "51         317    107631  6.9      2016-08-28               1  \n",
       "146        473     95661  7.3      2013-06-25               1  \n",
       "..         ...       ...  ...             ...             ...  \n",
       "211        580     46111  7.9      2013-07-16               1  \n",
       "107        253     89664  7.3      2016-12-24               1  \n",
       "330        428     68823  7.1      2014-03-11               1  \n",
       "148         89    164843  6.1      2013-06-25               1  \n",
       "22         744     23306  7.0      2016-05-15               1  \n",
       "\n",
       "[504 rows x 12 columns]"
      ]
     },
     "execution_count": 9,
     "metadata": {},
     "output_type": "execute_result"
    }
   ],
   "source": [
    "df=df.sample(frac=1)\n",
    "df"
   ]
  },
  {
   "cell_type": "code",
   "execution_count": 10,
   "id": "ed5170ef",
   "metadata": {},
   "outputs": [
    {
     "data": {
      "text/html": [
       "<div>\n",
       "<style scoped>\n",
       "    .dataframe tbody tr th:only-of-type {\n",
       "        vertical-align: middle;\n",
       "    }\n",
       "\n",
       "    .dataframe tbody tr th {\n",
       "        vertical-align: top;\n",
       "    }\n",
       "\n",
       "    .dataframe thead th {\n",
       "        text-align: right;\n",
       "    }\n",
       "</style>\n",
       "<table border=\"1\" class=\"dataframe\">\n",
       "  <thead>\n",
       "    <tr style=\"text-align: right;\">\n",
       "      <th></th>\n",
       "      <th>Well Number</th>\n",
       "      <th>Na(ppm)</th>\n",
       "      <th>Ca(ppm)</th>\n",
       "      <th>Mg(ppm)</th>\n",
       "      <th>SO4(ppm)</th>\n",
       "      <th>HCO3(ppm)</th>\n",
       "      <th>TDS(ppm)</th>\n",
       "      <th>PH</th>\n",
       "    </tr>\n",
       "  </thead>\n",
       "  <tbody>\n",
       "    <tr>\n",
       "      <th>count</th>\n",
       "      <td>504.000000</td>\n",
       "      <td>504.000000</td>\n",
       "      <td>504.000000</td>\n",
       "      <td>504.000000</td>\n",
       "      <td>504.000000</td>\n",
       "      <td>504.000000</td>\n",
       "      <td>504.000000</td>\n",
       "      <td>504.000000</td>\n",
       "    </tr>\n",
       "    <tr>\n",
       "      <th>mean</th>\n",
       "      <td>362.517857</td>\n",
       "      <td>25109.121032</td>\n",
       "      <td>8988.458333</td>\n",
       "      <td>1246.758869</td>\n",
       "      <td>632.531746</td>\n",
       "      <td>330.962302</td>\n",
       "      <td>93690.575397</td>\n",
       "      <td>6.920040</td>\n",
       "    </tr>\n",
       "    <tr>\n",
       "      <th>std</th>\n",
       "      <td>141.984065</td>\n",
       "      <td>11883.379565</td>\n",
       "      <td>5258.164518</td>\n",
       "      <td>781.291146</td>\n",
       "      <td>447.072229</td>\n",
       "      <td>154.546591</td>\n",
       "      <td>44034.525981</td>\n",
       "      <td>0.595189</td>\n",
       "    </tr>\n",
       "    <tr>\n",
       "      <th>min</th>\n",
       "      <td>2.000000</td>\n",
       "      <td>51.000000</td>\n",
       "      <td>16.000000</td>\n",
       "      <td>0.770000</td>\n",
       "      <td>2.000000</td>\n",
       "      <td>26.000000</td>\n",
       "      <td>228.000000</td>\n",
       "      <td>0.500000</td>\n",
       "    </tr>\n",
       "    <tr>\n",
       "      <th>25%</th>\n",
       "      <td>258.000000</td>\n",
       "      <td>17275.000000</td>\n",
       "      <td>5180.000000</td>\n",
       "      <td>813.500000</td>\n",
       "      <td>395.750000</td>\n",
       "      <td>215.000000</td>\n",
       "      <td>62869.250000</td>\n",
       "      <td>6.600000</td>\n",
       "    </tr>\n",
       "    <tr>\n",
       "      <th>50%</th>\n",
       "      <td>390.500000</td>\n",
       "      <td>23200.000000</td>\n",
       "      <td>8075.000000</td>\n",
       "      <td>1155.000000</td>\n",
       "      <td>566.500000</td>\n",
       "      <td>313.500000</td>\n",
       "      <td>87552.000000</td>\n",
       "      <td>6.900000</td>\n",
       "    </tr>\n",
       "    <tr>\n",
       "      <th>75%</th>\n",
       "      <td>480.000000</td>\n",
       "      <td>31950.000000</td>\n",
       "      <td>11600.000000</td>\n",
       "      <td>1522.500000</td>\n",
       "      <td>731.000000</td>\n",
       "      <td>427.250000</td>\n",
       "      <td>116819.000000</td>\n",
       "      <td>7.200000</td>\n",
       "    </tr>\n",
       "    <tr>\n",
       "      <th>max</th>\n",
       "      <td>560.000000</td>\n",
       "      <td>76600.000000</td>\n",
       "      <td>34700.000000</td>\n",
       "      <td>11500.000000</td>\n",
       "      <td>4720.000000</td>\n",
       "      <td>1434.000000</td>\n",
       "      <td>235416.000000</td>\n",
       "      <td>8.400000</td>\n",
       "    </tr>\n",
       "  </tbody>\n",
       "</table>\n",
       "</div>"
      ],
      "text/plain": [
       "       Well Number       Na(ppm)       Ca(ppm)       Mg(ppm)     SO4(ppm)  \\\n",
       "count   504.000000    504.000000    504.000000    504.000000   504.000000   \n",
       "mean    362.517857  25109.121032   8988.458333   1246.758869   632.531746   \n",
       "std     141.984065  11883.379565   5258.164518    781.291146   447.072229   \n",
       "min       2.000000     51.000000     16.000000      0.770000     2.000000   \n",
       "25%     258.000000  17275.000000   5180.000000    813.500000   395.750000   \n",
       "50%     390.500000  23200.000000   8075.000000   1155.000000   566.500000   \n",
       "75%     480.000000  31950.000000  11600.000000   1522.500000   731.000000   \n",
       "max     560.000000  76600.000000  34700.000000  11500.000000  4720.000000   \n",
       "\n",
       "         HCO3(ppm)       TDS(ppm)          PH  \n",
       "count   504.000000     504.000000  504.000000  \n",
       "mean    330.962302   93690.575397    6.920040  \n",
       "std     154.546591   44034.525981    0.595189  \n",
       "min      26.000000     228.000000    0.500000  \n",
       "25%     215.000000   62869.250000    6.600000  \n",
       "50%     313.500000   87552.000000    6.900000  \n",
       "75%     427.250000  116819.000000    7.200000  \n",
       "max    1434.000000  235416.000000    8.400000  "
      ]
     },
     "execution_count": 10,
     "metadata": {},
     "output_type": "execute_result"
    }
   ],
   "source": [
    "df.describe()"
   ]
  },
  {
   "cell_type": "markdown",
   "id": "06be634a",
   "metadata": {},
   "source": [
    "#### Checking the shape"
   ]
  },
  {
   "cell_type": "code",
   "execution_count": 11,
   "id": "596ea56b",
   "metadata": {},
   "outputs": [
    {
     "data": {
      "text/plain": [
       "(504, 12)"
      ]
     },
     "execution_count": 11,
     "metadata": {},
     "output_type": "execute_result"
    }
   ],
   "source": [
    "df.shape"
   ]
  },
  {
   "cell_type": "markdown",
   "id": "5139c44a",
   "metadata": {},
   "source": [
    "#### checking if there are outliers"
   ]
  },
  {
   "cell_type": "code",
   "execution_count": 12,
   "id": "30a4b07c",
   "metadata": {},
   "outputs": [
    {
     "name": "stderr",
     "output_type": "stream",
     "text": [
      "<ipython-input-12-13a99fd654e9>:2: MatplotlibDeprecationWarning: Auto-removal of overlapping axes is deprecated since 3.6 and will be removed two minor releases later; explicitly call ax.remove() as needed.\n",
      "  plt.subplot(4,4,1)\n"
     ]
    },
    {
     "data": {
      "image/png": "[encoded data removed]",
      "text/plain": [
       "<Figure size 1440x1080 with 7 Axes>"
      ]
     },
     "metadata": {
      "needs_background": "light"
     },
     "output_type": "display_data"
    }
   ],
   "source": [
    "figure=plt.subplots(figsize=(20,15))\n",
    "plt.subplot(4,4,1)\n",
    "sns.boxplot(x=df['Na(ppm)'],data=df)\n",
    "\n",
    "plt.subplot(4,4,2)\n",
    "sns.boxplot(x=df['Ca(ppm)'],data=df)\n",
    "\n",
    "plt.subplot(4,4,3)\n",
    "sns.boxplot(x=df['Mg(ppm)'],data=df)\n",
    "\n",
    "plt.subplot(4,4,4)\n",
    "sns.boxplot(x=df['SO4(ppm)'],data=df)\n",
    "\n",
    "plt.subplot(4,4,5)\n",
    "sns.boxplot(x=df['HCO3(ppm)'],data=df)\n",
    "\n",
    "plt.subplot(4,4,6)\n",
    "sns.boxplot(x=df['TDS(ppm)'],data=df)\n",
    "\n",
    "plt.subplot(4,4,7)\n",
    "sns.boxplot(x=df['PH'],data=df)\n",
    "\n",
    "plt.show()"
   ]
  },
  {
   "cell_type": "markdown",
   "id": "3584a328",
   "metadata": {},
   "source": [
    "#### Removing the outliers"
   ]
  },
  {
   "cell_type": "code",
   "execution_count": 13,
   "id": "5bb8d42d",
   "metadata": {},
   "outputs": [],
   "source": [
    "df['Na(ppm)']=df['Na(ppm)'].clip(lower=df['Na(ppm)'].quantile(0.05),upper=df['Na(ppm)'].quantile(0.95))\n",
    "df['Ca(ppm)']=df['Ca(ppm)'].clip(lower=df['Ca(ppm)'].quantile(0.05),upper=df['Ca(ppm)'].quantile(0.95))\n",
    "df['Mg(ppm)']=df['Mg(ppm)'].clip(lower=df['Mg(ppm)'].quantile(0.05),upper=df['Mg(ppm)'].quantile(0.95))\n",
    "df['SO4(ppm)']=df['SO4(ppm)'].clip(lower=df['SO4(ppm)'].quantile(0.05),upper=df['SO4(ppm)'].quantile(0.95))\n",
    "df['HCO3(ppm)']=df['HCO3(ppm)'].clip(lower=df['HCO3(ppm)'].quantile(0.05),upper=df['HCO3(ppm)'].quantile(0.95))\n",
    "df['TDS(ppm)']=df['TDS(ppm)'].clip(lower=df['TDS(ppm)'].quantile(0.05),upper=df['TDS(ppm)'].quantile(0.95))\n",
    "df['PH']=df['PH'].clip(lower=df['PH'].quantile(0.05),upper=df['PH'].quantile(0.95))"
   ]
  },
  {
   "cell_type": "code",
   "execution_count": 14,
   "id": "3cb875a0",
   "metadata": {},
   "outputs": [
    {
     "name": "stderr",
     "output_type": "stream",
     "text": [
      "<ipython-input-14-e919daa83f64>:2: MatplotlibDeprecationWarning: Auto-removal of overlapping axes is deprecated since 3.6 and will be removed two minor releases later; explicitly call ax.remove() as needed.\n",
      "  plt.subplot(4,4,1)\n"
     ]
    },
    {
     "data": {
      "image/png": "[encoded data removed]",
      "text/plain": [
       "<Figure size 1440x1080 with 6 Axes>"
      ]
     },
     "metadata": {
      "needs_background": "light"
     },
     "output_type": "display_data"
    }
   ],
   "source": [
    "figure=plt.subplots(figsize=(20,15))\n",
    "plt.subplot(4,4,1)\n",
    "sns.boxplot(x=df['Na(ppm)'],data=df)\n",
    "\n",
    "plt.subplot(4,4,2)\n",
    "sns.boxplot(x=df['Ca(ppm)'],data=df)\n",
    "\n",
    "plt.subplot(4,4,3)\n",
    "sns.boxplot(x=df['Mg(ppm)'],data=df)\n",
    "\n",
    "plt.subplot(4,4,4)\n",
    "sns.boxplot(x=df['SO4(ppm)'],data=df)\n",
    "\n",
    "plt.subplot(4,4,5)\n",
    "sns.boxplot(x=df['HCO3(ppm)'],data=df)\n",
    "\n",
    "\n",
    "plt.subplot(4,4,6)\n",
    "sns.boxplot(x=df['PH'],data=df)\n",
    "\n",
    "plt.show()"
   ]
  },
  {
   "cell_type": "code",
   "execution_count": null,
   "id": "e2e17f5d",
   "metadata": {},
   "outputs": [],
   "source": []
  },
  {
   "cell_type": "code",
   "execution_count": null,
   "id": "1688209f",
   "metadata": {},
   "outputs": [],
   "source": []
  },
  {
   "cell_type": "markdown",
   "id": "f2628a3b",
   "metadata": {},
   "source": [
    "#### 3.DATA VISUALISATION"
   ]
  },
  {
   "cell_type": "code",
   "execution_count": 15,
   "id": "519a5eaa",
   "metadata": {},
   "outputs": [
    {
     "data": {
      "text/plain": [
       "<AxesSubplot: xlabel='Scale formation', ylabel='count'>"
      ]
     },
     "execution_count": 15,
     "metadata": {},
     "output_type": "execute_result"
    },
    {
     "data": {
      "image/png": "[encoded data removed]",
      "text/plain": [
       "<Figure size 432x288 with 1 Axes>"
      ]
     },
     "metadata": {
      "needs_background": "light"
     },
     "output_type": "display_data"
    }
   ],
   "source": [
    "sns.countplot(x=df['Scale formation'],data=df)"
   ]
  },
  {
   "cell_type": "code",
   "execution_count": 16,
   "id": "f88b83db",
   "metadata": {},
   "outputs": [],
   "source": [
    "dg=df.drop(['Well Number'],axis=1)"
   ]
  },
  {
   "cell_type": "code",
   "execution_count": 17,
   "id": "25db107d",
   "metadata": {},
   "outputs": [
    {
     "data": {
      "image/png": "[encoded data removed]",
      "text/plain": [
       "<Figure size 590.5x504 with 56 Axes>"
      ]
     },
     "metadata": {
      "needs_background": "light"
     },
     "output_type": "display_data"
    }
   ],
   "source": [
    "sns.pairplot(dg, hue ='Scale formation',height=1)\n",
    "plt.show()"
   ]
  },
  {
   "cell_type": "markdown",
   "id": "a716b381",
   "metadata": {},
   "source": [
    "#### 4.SPLITTING INTO INPUT AND OUTPUT VARIABLES"
   ]
  },
  {
   "cell_type": "code",
   "execution_count": 18,
   "id": "5df78ab9",
   "metadata": {},
   "outputs": [],
   "source": [
    "x=df.drop(['Field','Well Number','Sample date','Inspection date','Scale formation'],axis=1)\n",
    "y=df['Scale formation']"
   ]
  },
  {
   "cell_type": "markdown",
   "id": "118a7a14",
   "metadata": {},
   "source": [
    "#### 5.SPLITTING INTO TRAINING AND TESTING DATA SET"
   ]
  },
  {
   "cell_type": "code",
   "execution_count": 19,
   "id": "9761efe5",
   "metadata": {},
   "outputs": [],
   "source": [
    "xtrain,xtest,ytrain,ytest=train_test_split(x,y,test_size=0.2,random_state=0)"
   ]
  },
  {
   "cell_type": "code",
   "execution_count": 20,
   "id": "2c162014",
   "metadata": {},
   "outputs": [
    {
     "data": {
      "text/html": [
       "<div>\n",
       "<style scoped>\n",
       "    .dataframe tbody tr th:only-of-type {\n",
       "        vertical-align: middle;\n",
       "    }\n",
       "\n",
       "    .dataframe tbody tr th {\n",
       "        vertical-align: top;\n",
       "    }\n",
       "\n",
       "    .dataframe thead th {\n",
       "        text-align: right;\n",
       "    }\n",
       "</style>\n",
       "<table border=\"1\" class=\"dataframe\">\n",
       "  <thead>\n",
       "    <tr style=\"text-align: right;\">\n",
       "      <th></th>\n",
       "      <th>Na(ppm)</th>\n",
       "      <th>Ca(ppm)</th>\n",
       "      <th>Mg(ppm)</th>\n",
       "      <th>SO4(ppm)</th>\n",
       "      <th>HCO3(ppm)</th>\n",
       "      <th>TDS(ppm)</th>\n",
       "      <th>PH</th>\n",
       "    </tr>\n",
       "  </thead>\n",
       "  <tbody>\n",
       "    <tr>\n",
       "      <th>443</th>\n",
       "      <td>30000.0</td>\n",
       "      <td>9040</td>\n",
       "      <td>1490.0</td>\n",
       "      <td>428.0</td>\n",
       "      <td>419.0</td>\n",
       "      <td>107477.0</td>\n",
       "      <td>6.8</td>\n",
       "    </tr>\n",
       "    <tr>\n",
       "      <th>480</th>\n",
       "      <td>18200.0</td>\n",
       "      <td>10400</td>\n",
       "      <td>1390.0</td>\n",
       "      <td>350.0</td>\n",
       "      <td>156.0</td>\n",
       "      <td>80696.0</td>\n",
       "      <td>6.5</td>\n",
       "    </tr>\n",
       "    <tr>\n",
       "      <th>32</th>\n",
       "      <td>29300.0</td>\n",
       "      <td>8660</td>\n",
       "      <td>1160.0</td>\n",
       "      <td>315.0</td>\n",
       "      <td>188.0</td>\n",
       "      <td>103223.0</td>\n",
       "      <td>7.3</td>\n",
       "    </tr>\n",
       "    <tr>\n",
       "      <th>285</th>\n",
       "      <td>31200.0</td>\n",
       "      <td>11200</td>\n",
       "      <td>1420.0</td>\n",
       "      <td>569.0</td>\n",
       "      <td>555.0</td>\n",
       "      <td>116344.0</td>\n",
       "      <td>7.1</td>\n",
       "    </tr>\n",
       "    <tr>\n",
       "      <th>156</th>\n",
       "      <td>22800.0</td>\n",
       "      <td>8040</td>\n",
       "      <td>1080.0</td>\n",
       "      <td>349.0</td>\n",
       "      <td>300.0</td>\n",
       "      <td>84669.0</td>\n",
       "      <td>7.5</td>\n",
       "    </tr>\n",
       "    <tr>\n",
       "      <th>...</th>\n",
       "      <td>...</td>\n",
       "      <td>...</td>\n",
       "      <td>...</td>\n",
       "      <td>...</td>\n",
       "      <td>...</td>\n",
       "      <td>...</td>\n",
       "      <td>...</td>\n",
       "    </tr>\n",
       "    <tr>\n",
       "      <th>259</th>\n",
       "      <td>27200.0</td>\n",
       "      <td>14300</td>\n",
       "      <td>1900.0</td>\n",
       "      <td>421.0</td>\n",
       "      <td>336.0</td>\n",
       "      <td>116457.0</td>\n",
       "      <td>6.8</td>\n",
       "    </tr>\n",
       "    <tr>\n",
       "      <th>288</th>\n",
       "      <td>12900.0</td>\n",
       "      <td>3840</td>\n",
       "      <td>631.0</td>\n",
       "      <td>834.0</td>\n",
       "      <td>528.0</td>\n",
       "      <td>46333.0</td>\n",
       "      <td>7.2</td>\n",
       "    </tr>\n",
       "    <tr>\n",
       "      <th>17</th>\n",
       "      <td>42700.0</td>\n",
       "      <td>11800</td>\n",
       "      <td>1730.0</td>\n",
       "      <td>682.0</td>\n",
       "      <td>218.0</td>\n",
       "      <td>148230.0</td>\n",
       "      <td>6.6</td>\n",
       "    </tr>\n",
       "    <tr>\n",
       "      <th>158</th>\n",
       "      <td>36700.0</td>\n",
       "      <td>10300</td>\n",
       "      <td>1340.0</td>\n",
       "      <td>223.3</td>\n",
       "      <td>350.0</td>\n",
       "      <td>127309.0</td>\n",
       "      <td>7.0</td>\n",
       "    </tr>\n",
       "    <tr>\n",
       "      <th>334</th>\n",
       "      <td>8844.0</td>\n",
       "      <td>3250</td>\n",
       "      <td>434.0</td>\n",
       "      <td>408.0</td>\n",
       "      <td>422.0</td>\n",
       "      <td>33478.0</td>\n",
       "      <td>7.7</td>\n",
       "    </tr>\n",
       "  </tbody>\n",
       "</table>\n",
       "<p>403 rows × 7 columns</p>\n",
       "</div>"
      ],
      "text/plain": [
       "     Na(ppm)  Ca(ppm)  Mg(ppm)  SO4(ppm)  HCO3(ppm)  TDS(ppm)   PH\n",
       "443  30000.0     9040   1490.0     428.0      419.0  107477.0  6.8\n",
       "480  18200.0    10400   1390.0     350.0      156.0   80696.0  6.5\n",
       "32   29300.0     8660   1160.0     315.0      188.0  103223.0  7.3\n",
       "285  31200.0    11200   1420.0     569.0      555.0  116344.0  7.1\n",
       "156  22800.0     8040   1080.0     349.0      300.0   84669.0  7.5\n",
       "..       ...      ...      ...       ...        ...       ...  ...\n",
       "259  27200.0    14300   1900.0     421.0      336.0  116457.0  6.8\n",
       "288  12900.0     3840    631.0     834.0      528.0   46333.0  7.2\n",
       "17   42700.0    11800   1730.0     682.0      218.0  148230.0  6.6\n",
       "158  36700.0    10300   1340.0     223.3      350.0  127309.0  7.0\n",
       "334   8844.0     3250    434.0     408.0      422.0   33478.0  7.7\n",
       "\n",
       "[403 rows x 7 columns]"
      ]
     },
     "execution_count": 20,
     "metadata": {},
     "output_type": "execute_result"
    }
   ],
   "source": [
    "xtrain"
   ]
  },
  {
   "cell_type": "code",
   "execution_count": 21,
   "id": "3b406af1",
   "metadata": {},
   "outputs": [
    {
     "data": {
      "image/png": "[encoded data removed]",
      "text/plain": [
       "<Figure size 360x720 with 2 Axes>"
      ]
     },
     "metadata": {
      "needs_background": "light"
     },
     "output_type": "display_data"
    }
   ],
   "source": [
    "plt.figure(figsize=(5,10))\n",
    "corr=xtrain.corr()\n",
    "sns.heatmap(corr,annot=True,cmap=plt.cm.CMRmap_r)\n",
    "plt.show()"
   ]
  },
  {
   "cell_type": "code",
   "execution_count": null,
   "id": "7bf9dacd",
   "metadata": {},
   "outputs": [],
   "source": []
  },
  {
   "cell_type": "code",
   "execution_count": null,
   "id": "ef8cf31f",
   "metadata": {},
   "outputs": [],
   "source": []
  },
  {
   "cell_type": "code",
   "execution_count": null,
   "id": "7544acd4",
   "metadata": {},
   "outputs": [],
   "source": []
  },
  {
   "cell_type": "code",
   "execution_count": null,
   "id": "66827d8c",
   "metadata": {},
   "outputs": [],
   "source": []
  },
  {
   "cell_type": "code",
   "execution_count": null,
   "id": "c62d0437",
   "metadata": {},
   "outputs": [],
   "source": []
  },
  {
   "cell_type": "markdown",
   "id": "0bd2e02c",
   "metadata": {},
   "source": [
    "#### 6.STANDARDIZATION"
   ]
  },
  {
   "cell_type": "code",
   "execution_count": 22,
   "id": "d69d4a7f",
   "metadata": {},
   "outputs": [],
   "source": [
    "Scaler=StandardScaler()\n",
    "xtrain=Scaler.fit_transform(xtrain)\n",
    "\n",
    "xtest=Scaler.transform(xtest)"
   ]
  },
  {
   "cell_type": "code",
   "execution_count": 23,
   "id": "6bc53164",
   "metadata": {},
   "outputs": [
    {
     "data": {
      "text/plain": [
       "((403, 7), (101, 7), (403,), (101,))"
      ]
     },
     "execution_count": 23,
     "metadata": {},
     "output_type": "execute_result"
    }
   ],
   "source": [
    "xtrain.shape,xtest.shape,ytrain.shape,ytest.shape"
   ]
  },
  {
   "cell_type": "code",
   "execution_count": 24,
   "id": "4425b7f4",
   "metadata": {},
   "outputs": [
    {
     "data": {
      "text/plain": [
       "(403, 1)"
      ]
     },
     "execution_count": 24,
     "metadata": {},
     "output_type": "execute_result"
    }
   ],
   "source": [
    "ytrain=np.array(ytrain)\n",
    "ytrain=ytrain.reshape(-1,1)\n",
    "ytrain.shape"
   ]
  },
  {
   "cell_type": "code",
   "execution_count": 25,
   "id": "aa9b7717",
   "metadata": {},
   "outputs": [
    {
     "name": "stderr",
     "output_type": "stream",
     "text": [
      "C:\\Users\\LENOVO\\anaconda3\\lib\\site-packages\\sklearn\\utils\\validation.py:63: DataConversionWarning: A column-vector y was passed when a 1d array was expected. Please change the shape of y to (n_samples, ), for example using ravel().\n",
      "  return f(*args, **kwargs)\n"
     ]
    }
   ],
   "source": [
    "from sklearn.preprocessing import LabelEncoder\n",
    "label_data = LabelEncoder()\n",
    "y_train = label_data.fit_transform(ytrain)\n",
    "y_test=label_data.fit_transform(ytest)"
   ]
  },
  {
   "cell_type": "code",
   "execution_count": 26,
   "id": "eaebe8ae",
   "metadata": {},
   "outputs": [
    {
     "data": {
      "text/plain": [
       "((403,), (101,))"
      ]
     },
     "execution_count": 26,
     "metadata": {},
     "output_type": "execute_result"
    }
   ],
   "source": [
    "y_train.shape,y_test.shape"
   ]
  },
  {
   "cell_type": "markdown",
   "id": "03500f36",
   "metadata": {},
   "source": [
    "#### 7. BUILDING THE MODEL WITH DIFFERENT ML ALGORITHMS"
   ]
  },
  {
   "cell_type": "markdown",
   "id": "fd6ccd6f",
   "metadata": {},
   "source": [
    "#### I. LOGISTIC REGRESSION"
   ]
  },
  {
   "cell_type": "code",
   "execution_count": 27,
   "id": "7f5653cd",
   "metadata": {},
   "outputs": [
    {
     "data": {
      "text/plain": [
       "LogisticRegression(C=10, solver='liblinear', tol=1e-06)"
      ]
     },
     "execution_count": 27,
     "metadata": {},
     "output_type": "execute_result"
    }
   ],
   "source": [
    "lr=LogisticRegression(C=10,tol=0.000001,solver='liblinear',penalty='l2',max_iter= 100)\n",
    "lr.fit(xtrain,y_train)"
   ]
  },
  {
   "cell_type": "code",
   "execution_count": 28,
   "id": "27448e60",
   "metadata": {},
   "outputs": [
    {
     "data": {
      "text/plain": [
       "{'C': 10,\n",
       " 'class_weight': None,\n",
       " 'dual': False,\n",
       " 'fit_intercept': True,\n",
       " 'intercept_scaling': 1,\n",
       " 'l1_ratio': None,\n",
       " 'max_iter': 100,\n",
       " 'multi_class': 'auto',\n",
       " 'n_jobs': None,\n",
       " 'penalty': 'l2',\n",
       " 'random_state': None,\n",
       " 'solver': 'liblinear',\n",
       " 'tol': 1e-06,\n",
       " 'verbose': 0,\n",
       " 'warm_start': False}"
      ]
     },
     "execution_count": 28,
     "metadata": {},
     "output_type": "execute_result"
    }
   ],
   "source": [
    "lr.get_params()"
   ]
  },
  {
   "cell_type": "code",
   "execution_count": 29,
   "id": "9bf42d1c",
   "metadata": {},
   "outputs": [],
   "source": [
    "predictions=lr.predict(xtest)\n",
    "predt=lr.predict(xtrain)"
   ]
  },
  {
   "cell_type": "code",
   "execution_count": 30,
   "id": "d0e27619",
   "metadata": {},
   "outputs": [
    {
     "name": "stdout",
     "output_type": "stream",
     "text": [
      "The Accuracy for the testing set is :  0.6732673267326733\n",
      "The Accuracy for the training set is :  0.7766749379652605\n"
     ]
    }
   ],
   "source": [
    "print(f'The Accuracy for the testing set is : ',lr.score(xtest,y_test))\n",
    "print(f'The Accuracy for the training set is : ',lr.score(xtrain,y_train))"
   ]
  },
  {
   "cell_type": "code",
   "execution_count": 31,
   "id": "e39ced99",
   "metadata": {},
   "outputs": [
    {
     "name": "stdout",
     "output_type": "stream",
     "text": [
      "Accuracy:67.33%\n",
      "Precision:63.24%\n",
      "Recall:67.33%\n",
      "F1-score:61.89%\n"
     ]
    }
   ],
   "source": [
    "accuracy=accuracy_score(y_test,predictions.round())\n",
    "precision=precision_score(y_test,predictions.round(),average='weighted')\n",
    "recall=recall_score(y_test,predictions.round(),average='weighted')\n",
    "f1score=f1_score(y_test,predictions.round(),average='weighted')\n",
    "\n",
    "print('Accuracy:%.2f%%' %(accuracy*100.0))\n",
    "print('Precision:%.2f%%' %(precision*100.0))\n",
    "print('Recall:%.2f%%' %(recall*100.0))\n",
    "print('F1-score:%.2f%%' %(f1score*100.0))"
   ]
  },
  {
   "cell_type": "code",
   "execution_count": 32,
   "id": "83aec969",
   "metadata": {},
   "outputs": [
    {
     "name": "stdout",
     "output_type": "stream",
     "text": [
      "[1 1 1 1 1]\n"
     ]
    }
   ],
   "source": [
    "print(predictions[21:26].round())"
   ]
  },
  {
   "cell_type": "code",
   "execution_count": 33,
   "id": "f68a38f7",
   "metadata": {},
   "outputs": [
    {
     "data": {
      "text/plain": [
       "array([[ 6, 27],\n",
       "       [ 6, 62]], dtype=int64)"
      ]
     },
     "execution_count": 33,
     "metadata": {},
     "output_type": "execute_result"
    }
   ],
   "source": [
    "cm_lr=confusion_matrix(y_test,predictions)\n",
    "cm_lr"
   ]
  },
  {
   "cell_type": "code",
   "execution_count": 34,
   "id": "e9bb8e3d",
   "metadata": {},
   "outputs": [
    {
     "data": {
      "image/png": "[encoded data removed]",
      "text/plain": [
       "<Figure size 432x288 with 2 Axes>"
      ]
     },
     "metadata": {
      "needs_background": "light"
     },
     "output_type": "display_data"
    }
   ],
   "source": [
    "sns.heatmap(cm_lr,annot=True,fmt='d',cmap='Blues')   \n",
    "plt.title(\"Scale Formation Using Logistic Regression Confusion Matrix  \")\n",
    " \n",
    "plt.xlabel('Actual values')\n",
    "plt.ylabel('Predicted values')\n",
    "plt.show()"
   ]
  },
  {
   "cell_type": "code",
   "execution_count": 35,
   "id": "cd43781c",
   "metadata": {},
   "outputs": [
    {
     "data": {
      "image/png": "[encoded data removed]",
      "text/plain": [
       "<Figure size 432x288 with 1 Axes>"
      ]
     },
     "metadata": {
      "needs_background": "light"
     },
     "output_type": "display_data"
    }
   ],
   "source": [
    "fpr, tpr, _ = metrics.roc_curve(y_test,  predictions)\n",
    "\n",
    "#create ROC curve\n",
    "plt.plot(fpr,tpr)\n",
    "plt.ylabel('True Positive Rate')\n",
    "plt.xlabel('False Positive Rate')\n",
    "plt.show()"
   ]
  },
  {
   "cell_type": "code",
   "execution_count": 36,
   "id": "d0125626",
   "metadata": {},
   "outputs": [],
   "source": [
    "#xtest.insert(loc=1, column=\"Predicted values_lr\", value=predictions)\n",
    "#blind"
   ]
  },
  {
   "cell_type": "code",
   "execution_count": 37,
   "id": "f18e856e",
   "metadata": {},
   "outputs": [
    {
     "data": {
      "text/plain": [
       "7.523297806543026"
      ]
     },
     "execution_count": 37,
     "metadata": {},
     "output_type": "execute_result"
    }
   ],
   "source": [
    "log_loss(y_test,predictions,eps=1e-10)"
   ]
  },
  {
   "cell_type": "code",
   "execution_count": null,
   "id": "bb51249f",
   "metadata": {},
   "outputs": [],
   "source": []
  },
  {
   "cell_type": "markdown",
   "id": "0691e9f0",
   "metadata": {},
   "source": [
    "#### II. DECISION TREE"
   ]
  },
  {
   "cell_type": "code",
   "execution_count": 38,
   "id": "eae1e0e4",
   "metadata": {},
   "outputs": [
    {
     "data": {
      "text/plain": [
       "DecisionTreeClassifier(max_depth=100, random_state=42)"
      ]
     },
     "execution_count": 38,
     "metadata": {},
     "output_type": "execute_result"
    }
   ],
   "source": [
    "dt=DecisionTreeClassifier(criterion='gini',max_depth=100,ccp_alpha=0.0,\n",
    "                           max_features=None,splitter='best', \n",
    "                          random_state=42\n",
    "                           )\n",
    "dt.fit(xtrain,y_train)     "
   ]
  },
  {
   "cell_type": "code",
   "execution_count": 39,
   "id": "5201f629",
   "metadata": {},
   "outputs": [
    {
     "data": {
      "text/plain": [
       "{'ccp_alpha': 0.0,\n",
       " 'class_weight': None,\n",
       " 'criterion': 'gini',\n",
       " 'max_depth': 100,\n",
       " 'max_features': None,\n",
       " 'max_leaf_nodes': None,\n",
       " 'min_impurity_decrease': 0.0,\n",
       " 'min_impurity_split': None,\n",
       " 'min_samples_leaf': 1,\n",
       " 'min_samples_split': 2,\n",
       " 'min_weight_fraction_leaf': 0.0,\n",
       " 'random_state': 42,\n",
       " 'splitter': 'best'}"
      ]
     },
     "execution_count": 39,
     "metadata": {},
     "output_type": "execute_result"
    }
   ],
   "source": [
    "dt.get_params()"
   ]
  },
  {
   "cell_type": "code",
   "execution_count": 40,
   "id": "c62d8eca",
   "metadata": {},
   "outputs": [],
   "source": [
    "predictions_dt=dt.predict(xtest)\n",
    "predt_dt=dt.predict(xtrain)"
   ]
  },
  {
   "cell_type": "code",
   "execution_count": 41,
   "id": "ad42520b",
   "metadata": {},
   "outputs": [
    {
     "name": "stdout",
     "output_type": "stream",
     "text": [
      "The Accuracy for the testing set is :  0.6534653465346535\n",
      "The Accuracy for the training set is :  1.0\n"
     ]
    }
   ],
   "source": [
    "print(f'The Accuracy for the testing set is : ',dt.score(xtest,y_test))\n",
    "print(f'The Accuracy for the training set is : ',dt.score(xtrain,y_train))"
   ]
  },
  {
   "cell_type": "code",
   "execution_count": 42,
   "id": "ced344d5",
   "metadata": {},
   "outputs": [
    {
     "name": "stdout",
     "output_type": "stream",
     "text": [
      "Accuracy:65.35%\n",
      "Precision:63.56%\n",
      "Recall:65.35%\n",
      "F1-score:64.14%\n"
     ]
    }
   ],
   "source": [
    "accuracy=accuracy_score(y_test,predictions_dt.round())\n",
    "precision=precision_score(y_test,predictions_dt.round(),average='weighted')\n",
    "recall=recall_score(y_test,predictions_dt.round(),average='weighted')\n",
    "f1score=f1_score(y_test,predictions_dt.round(),average='weighted')\n",
    "\n",
    "print('Accuracy:%.2f%%' %(accuracy*100.0))\n",
    "print('Precision:%.2f%%' %(precision*100.0))\n",
    "print('Recall:%.2f%%' %(recall*100.0))\n",
    "print('F1-score:%.2f%%' %(f1score*100.0))"
   ]
  },
  {
   "cell_type": "code",
   "execution_count": 43,
   "id": "bccf3b36",
   "metadata": {},
   "outputs": [
    {
     "name": "stdout",
     "output_type": "stream",
     "text": [
      "[1 0 1 1 0]\n"
     ]
    }
   ],
   "source": [
    "print(predictions_dt[85:90].round())"
   ]
  },
  {
   "cell_type": "code",
   "execution_count": 44,
   "id": "1869a924",
   "metadata": {},
   "outputs": [
    {
     "data": {
      "text/plain": [
       "array([[12, 21],\n",
       "       [14, 54]], dtype=int64)"
      ]
     },
     "execution_count": 44,
     "metadata": {},
     "output_type": "execute_result"
    }
   ],
   "source": [
    "cm_dt=confusion_matrix(y_test,predictions_dt)\n",
    "cm_dt"
   ]
  },
  {
   "cell_type": "code",
   "execution_count": 45,
   "id": "bb516cf3",
   "metadata": {},
   "outputs": [
    {
     "data": {
      "image/png": "[encoded data removed]",
      "text/plain": [
       "<Figure size 432x288 with 2 Axes>"
      ]
     },
     "metadata": {
      "needs_background": "light"
     },
     "output_type": "display_data"
    }
   ],
   "source": [
    "sns.heatmap(cm_dt,annot=True,fmt='d',cmap='Blues')   #cmap=ListedColormap(['green', 'yellow', 'red'])\n",
    "plt.title(\"Scale Formation Using Decision trees Confusion Matrix \")\n",
    " \n",
    "plt.xlabel('Actual values')\n",
    "plt.ylabel('Predicted values')\n",
    "plt.show()"
   ]
  },
  {
   "cell_type": "code",
   "execution_count": 46,
   "id": "62953857",
   "metadata": {},
   "outputs": [
    {
     "data": {
      "image/png": "[encoded data removed]",
      "text/plain": [
       "<Figure size 432x288 with 1 Axes>"
      ]
     },
     "metadata": {
      "needs_background": "light"
     },
     "output_type": "display_data"
    }
   ],
   "source": [
    "fpr, tpr, _ = metrics.roc_curve(y_test, predictions_dt)\n",
    "\n",
    "#create ROC curve\n",
    "plt.plot(fpr,tpr)\n",
    "plt.ylabel('True Positive Rate')\n",
    "plt.xlabel('False Positive Rate')\n",
    "plt.show()"
   ]
  },
  {
   "cell_type": "code",
   "execution_count": 47,
   "id": "686244d7",
   "metadata": {},
   "outputs": [
    {
     "data": {
      "text/plain": [
       "11.969049162058495"
      ]
     },
     "execution_count": 47,
     "metadata": {},
     "output_type": "execute_result"
    }
   ],
   "source": [
    "log_loss(y_test,predictions_dt,eps=1e-15)"
   ]
  },
  {
   "cell_type": "code",
   "execution_count": null,
   "id": "18dd35e0",
   "metadata": {},
   "outputs": [],
   "source": []
  },
  {
   "cell_type": "markdown",
   "id": "691c3a76",
   "metadata": {},
   "source": [
    "#### III. RANDOM FOREST"
   ]
  },
  {
   "cell_type": "code",
   "execution_count": 48,
   "id": "b731a898",
   "metadata": {},
   "outputs": [],
   "source": [
    "model=RandomForestClassifier(criterion='gini',max_depth=100,\n",
    "                             n_estimators=10,ccp_alpha= 0.01,random_state=30)\n",
    "model.fit(xtrain,y_train)\n",
    "y_pred_rf=model.predict(xtest)\n",
    "ypred=model.predict(xtrain)\n"
   ]
  },
  {
   "cell_type": "code",
   "execution_count": 49,
   "id": "16ad6df5",
   "metadata": {},
   "outputs": [
    {
     "data": {
      "text/plain": [
       "{'bootstrap': True,\n",
       " 'ccp_alpha': 0.01,\n",
       " 'class_weight': None,\n",
       " 'criterion': 'gini',\n",
       " 'max_depth': 100,\n",
       " 'max_features': 'auto',\n",
       " 'max_leaf_nodes': None,\n",
       " 'max_samples': None,\n",
       " 'min_impurity_decrease': 0.0,\n",
       " 'min_impurity_split': None,\n",
       " 'min_samples_leaf': 1,\n",
       " 'min_samples_split': 2,\n",
       " 'min_weight_fraction_leaf': 0.0,\n",
       " 'n_estimators': 10,\n",
       " 'n_jobs': None,\n",
       " 'oob_score': False,\n",
       " 'random_state': 30,\n",
       " 'verbose': 0,\n",
       " 'warm_start': False}"
      ]
     },
     "execution_count": 49,
     "metadata": {},
     "output_type": "execute_result"
    }
   ],
   "source": [
    "model.get_params()"
   ]
  },
  {
   "cell_type": "code",
   "execution_count": 50,
   "id": "4c3c239f",
   "metadata": {},
   "outputs": [
    {
     "name": "stdout",
     "output_type": "stream",
     "text": [
      "The Accuracy for the testing set is :  0.7029702970297029\n",
      "The Accuracy for the training set is :  0.826302729528536\n"
     ]
    }
   ],
   "source": [
    "print(f'The Accuracy for the testing set is : ',model.score(xtest,y_test))\n",
    "print(f'The Accuracy for the training set is : ',model.score(xtrain,y_train))"
   ]
  },
  {
   "cell_type": "code",
   "execution_count": 51,
   "id": "e670fec6",
   "metadata": {},
   "outputs": [
    {
     "name": "stdout",
     "output_type": "stream",
     "text": [
      "Accuracy:70.30%\n",
      "Precision:68.14%\n",
      "Recall:70.30%\n",
      "F1-score:66.46%\n"
     ]
    }
   ],
   "source": [
    "accuracy=accuracy_score(y_test,y_pred_rf.round())\n",
    "precision=precision_score(y_test,y_pred_rf.round(),average='weighted')\n",
    "recall=recall_score(y_test,y_pred_rf.round(),average='weighted')\n",
    "f1score=f1_score(y_test,y_pred_rf.round(),average='weighted')\n",
    "\n",
    "print('Accuracy:%.2f%%' %(accuracy*100.0))\n",
    "print('Precision:%.2f%%' %(precision*100.0))\n",
    "print('Recall:%.2f%%' %(recall*100.0))\n",
    "print('F1-score:%.2f%%' %(f1score*100.0))"
   ]
  },
  {
   "cell_type": "code",
   "execution_count": 52,
   "id": "a48b4d9b",
   "metadata": {},
   "outputs": [
    {
     "name": "stdout",
     "output_type": "stream",
     "text": [
      "[1 1 1 1 1]\n"
     ]
    }
   ],
   "source": [
    "print(y_pred_rf[85:90].round())"
   ]
  },
  {
   "cell_type": "code",
   "execution_count": null,
   "id": "b2ef3e42",
   "metadata": {},
   "outputs": [],
   "source": []
  },
  {
   "cell_type": "code",
   "execution_count": 53,
   "id": "565febbb",
   "metadata": {},
   "outputs": [
    {
     "data": {
      "text/plain": [
       "array([[ 9, 24],\n",
       "       [ 6, 62]], dtype=int64)"
      ]
     },
     "execution_count": 53,
     "metadata": {},
     "output_type": "execute_result"
    }
   ],
   "source": [
    "cm_rf=confusion_matrix(y_test,y_pred_rf)\n",
    "cm_rf"
   ]
  },
  {
   "cell_type": "code",
   "execution_count": 54,
   "id": "6c711762",
   "metadata": {},
   "outputs": [
    {
     "data": {
      "image/png": "[encoded data removed]",
      "text/plain": [
       "<Figure size 432x288 with 2 Axes>"
      ]
     },
     "metadata": {
      "needs_background": "light"
     },
     "output_type": "display_data"
    }
   ],
   "source": [
    "sns.heatmap(cm_rf,annot=True,fmt='d',cmap='Blues')   #cmap=ListedColormap(['green', 'yellow', 'red'])\n",
    "plt.title(\"Scale Formation Using Random forest Confusion Matrix \")\n",
    " \n",
    "plt.xlabel('Actual values')\n",
    "plt.ylabel('Predicted values')\n",
    "plt.show()"
   ]
  },
  {
   "cell_type": "code",
   "execution_count": 55,
   "id": "80eff865",
   "metadata": {},
   "outputs": [
    {
     "data": {
      "text/plain": [
       "10.259232496887575"
      ]
     },
     "execution_count": 55,
     "metadata": {},
     "output_type": "execute_result"
    }
   ],
   "source": [
    "log_loss(y_test,y_pred_rf,eps=1e-15)"
   ]
  },
  {
   "cell_type": "code",
   "execution_count": null,
   "id": "a456bce4",
   "metadata": {},
   "outputs": [],
   "source": []
  },
  {
   "cell_type": "markdown",
   "id": "4c7bea4f",
   "metadata": {},
   "source": [
    "#### IV. ARTIFICIAL NEURAL NETWORK"
   ]
  },
  {
   "cell_type": "code",
   "execution_count": 56,
   "id": "857d9cfb",
   "metadata": {},
   "outputs": [],
   "source": [
    "model=keras.Sequential(\n",
    "[keras.layers.Dense(units=128,input_dim=xtrain.shape[1],activation='relu',name='input_layer'),\n",
    " keras.layers.BatchNormalization(),\n",
    " \n",
    " \n",
    "keras.layers.Dense(units=64,activation='relu',name='layer2'),\n",
    " keras.layers.BatchNormalization(),\n",
    " \n",
    "keras.layers.Dense(units=16,activation='relu',name='layer3'),\n",
    " keras.layers.BatchNormalization(),\n",
    " \n",
    " \n",
    "keras.layers.Dense(units=8,activation='relu',name='layer4'),\n",
    " keras.layers.BatchNormalization(),\n",
    " \n",
    "keras.layers.Dense(units=4,activation='relu',name='layer5'),\n",
    " keras.layers.BatchNormalization(),\n",
    " \n",
    "keras.layers.Dense(units=1,activation='sigmoid',name='output_layer')]      \n",
    ")"
   ]
  },
  {
   "cell_type": "code",
   "execution_count": 57,
   "id": "a089a0e4",
   "metadata": {},
   "outputs": [],
   "source": [
    "# COMPILING THE MODEL\n",
    "model.compile(loss='binary_crossentropy',optimizer='adam',metrics=['accuracy'])"
   ]
  },
  {
   "cell_type": "code",
   "execution_count": 58,
   "id": "d505a9eb",
   "metadata": {},
   "outputs": [
    {
     "name": "stdout",
     "output_type": "stream",
     "text": [
      "Model: \"sequential\"\n",
      "_________________________________________________________________\n",
      "Layer (type)                 Output Shape              Param #   \n",
      "=================================================================\n",
      "input_layer (Dense)          (None, 128)               1024      \n",
      "_________________________________________________________________\n",
      "batch_normalization (BatchNo (None, 128)               512       \n",
      "_________________________________________________________________\n",
      "layer2 (Dense)               (None, 64)                8256      \n",
      "_________________________________________________________________\n",
      "batch_normalization_1 (Batch (None, 64)                256       \n",
      "_________________________________________________________________\n",
      "layer3 (Dense)               (None, 16)                1040      \n",
      "_________________________________________________________________\n",
      "batch_normalization_2 (Batch (None, 16)                64        \n",
      "_________________________________________________________________\n",
      "layer4 (Dense)               (None, 8)                 136       \n",
      "_________________________________________________________________\n",
      "batch_normalization_3 (Batch (None, 8)                 32        \n",
      "_________________________________________________________________\n",
      "layer5 (Dense)               (None, 4)                 36        \n",
      "_________________________________________________________________\n",
      "batch_normalization_4 (Batch (None, 4)                 16        \n",
      "_________________________________________________________________\n",
      "output_layer (Dense)         (None, 1)                 5         \n",
      "=================================================================\n",
      "Total params: 11,377\n",
      "Trainable params: 10,937\n",
      "Non-trainable params: 440\n",
      "_________________________________________________________________\n"
     ]
    }
   ],
   "source": [
    "model.summary()"
   ]
  },
  {
   "cell_type": "code",
   "execution_count": 59,
   "id": "745668bf",
   "metadata": {},
   "outputs": [
    {
     "name": "stdout",
     "output_type": "stream",
     "text": [
      "Epoch 1/250\n",
      "3/3 [==============================] - 9s 362ms/step - loss: 0.8375 - accuracy: 0.5280 - val_loss: 0.6670 - val_accuracy: 0.7531\n",
      "Epoch 2/250\n",
      "3/3 [==============================] - 0s 24ms/step - loss: 0.7259 - accuracy: 0.6149 - val_loss: 0.6674 - val_accuracy: 0.7654\n",
      "Epoch 3/250\n",
      "3/3 [==============================] - 0s 23ms/step - loss: 0.6562 - accuracy: 0.6584 - val_loss: 0.6676 - val_accuracy: 0.7654\n",
      "Epoch 4/250\n",
      "3/3 [==============================] - 0s 23ms/step - loss: 0.6312 - accuracy: 0.6832 - val_loss: 0.6667 - val_accuracy: 0.7654\n",
      "Epoch 5/250\n",
      "3/3 [==============================] - 0s 23ms/step - loss: 0.5775 - accuracy: 0.7360 - val_loss: 0.6664 - val_accuracy: 0.7778\n",
      "Epoch 6/250\n",
      "3/3 [==============================] - 0s 24ms/step - loss: 0.5472 - accuracy: 0.7702 - val_loss: 0.6675 - val_accuracy: 0.7654\n",
      "Epoch 7/250\n",
      "3/3 [==============================] - 0s 23ms/step - loss: 0.5267 - accuracy: 0.7826 - val_loss: 0.6689 - val_accuracy: 0.7284\n",
      "Epoch 8/250\n",
      "3/3 [==============================] - 0s 24ms/step - loss: 0.4976 - accuracy: 0.8106 - val_loss: 0.6699 - val_accuracy: 0.6790\n",
      "Epoch 9/250\n",
      "3/3 [==============================] - 0s 24ms/step - loss: 0.4855 - accuracy: 0.8416 - val_loss: 0.6703 - val_accuracy: 0.6790\n",
      "Epoch 10/250\n",
      "3/3 [==============================] - 0s 24ms/step - loss: 0.4840 - accuracy: 0.8168 - val_loss: 0.6705 - val_accuracy: 0.6914\n",
      "Epoch 11/250\n",
      "3/3 [==============================] - 0s 24ms/step - loss: 0.4657 - accuracy: 0.8665 - val_loss: 0.6700 - val_accuracy: 0.6543\n",
      "Epoch 12/250\n",
      "3/3 [==============================] - 0s 23ms/step - loss: 0.4593 - accuracy: 0.8478 - val_loss: 0.6694 - val_accuracy: 0.6667\n",
      "Epoch 13/250\n",
      "3/3 [==============================] - 0s 24ms/step - loss: 0.4358 - accuracy: 0.8820 - val_loss: 0.6673 - val_accuracy: 0.6790\n",
      "Epoch 14/250\n",
      "3/3 [==============================] - 0s 26ms/step - loss: 0.4202 - accuracy: 0.8758 - val_loss: 0.6649 - val_accuracy: 0.6790\n",
      "Epoch 15/250\n",
      "3/3 [==============================] - 0s 24ms/step - loss: 0.4118 - accuracy: 0.8913 - val_loss: 0.6634 - val_accuracy: 0.6543\n",
      "Epoch 16/250\n",
      "3/3 [==============================] - 0s 23ms/step - loss: 0.4106 - accuracy: 0.8758 - val_loss: 0.6594 - val_accuracy: 0.6543\n",
      "Epoch 17/250\n",
      "3/3 [==============================] - 0s 23ms/step - loss: 0.3853 - accuracy: 0.9037 - val_loss: 0.6562 - val_accuracy: 0.7037\n",
      "Epoch 18/250\n",
      "3/3 [==============================] - 0s 24ms/step - loss: 0.3859 - accuracy: 0.9068 - val_loss: 0.6545 - val_accuracy: 0.6914\n",
      "Epoch 19/250\n",
      "3/3 [==============================] - 0s 24ms/step - loss: 0.3656 - accuracy: 0.9286 - val_loss: 0.6541 - val_accuracy: 0.6914\n",
      "Epoch 20/250\n",
      "3/3 [==============================] - 0s 23ms/step - loss: 0.3590 - accuracy: 0.9379 - val_loss: 0.6522 - val_accuracy: 0.7037\n",
      "Epoch 21/250\n",
      "3/3 [==============================] - 0s 23ms/step - loss: 0.3484 - accuracy: 0.9224 - val_loss: 0.6499 - val_accuracy: 0.6790\n",
      "Epoch 22/250\n",
      "3/3 [==============================] - 0s 23ms/step - loss: 0.3377 - accuracy: 0.9348 - val_loss: 0.6471 - val_accuracy: 0.6667\n",
      "Epoch 23/250\n",
      "3/3 [==============================] - 0s 25ms/step - loss: 0.3309 - accuracy: 0.9348 - val_loss: 0.6445 - val_accuracy: 0.6790\n",
      "Epoch 24/250\n",
      "3/3 [==============================] - 0s 24ms/step - loss: 0.3280 - accuracy: 0.9317 - val_loss: 0.6436 - val_accuracy: 0.6914\n",
      "Epoch 25/250\n",
      "3/3 [==============================] - 0s 25ms/step - loss: 0.3187 - accuracy: 0.9410 - val_loss: 0.6433 - val_accuracy: 0.6914\n",
      "Epoch 26/250\n",
      "3/3 [==============================] - 0s 24ms/step - loss: 0.3265 - accuracy: 0.9348 - val_loss: 0.6424 - val_accuracy: 0.6914\n",
      "Epoch 27/250\n",
      "3/3 [==============================] - 0s 24ms/step - loss: 0.3092 - accuracy: 0.9534 - val_loss: 0.6393 - val_accuracy: 0.6790\n",
      "Epoch 28/250\n",
      "3/3 [==============================] - 0s 29ms/step - loss: 0.2931 - accuracy: 0.9596 - val_loss: 0.6384 - val_accuracy: 0.6790\n",
      "Epoch 29/250\n",
      "3/3 [==============================] - 0s 24ms/step - loss: 0.3119 - accuracy: 0.9410 - val_loss: 0.6377 - val_accuracy: 0.6790\n",
      "Epoch 30/250\n",
      "3/3 [==============================] - 0s 25ms/step - loss: 0.2943 - accuracy: 0.9534 - val_loss: 0.6392 - val_accuracy: 0.6790\n",
      "Epoch 31/250\n",
      "3/3 [==============================] - 0s 24ms/step - loss: 0.2980 - accuracy: 0.9472 - val_loss: 0.6420 - val_accuracy: 0.6667\n",
      "Epoch 32/250\n",
      "3/3 [==============================] - 0s 29ms/step - loss: 0.2759 - accuracy: 0.9596 - val_loss: 0.6446 - val_accuracy: 0.6296\n",
      "Epoch 33/250\n",
      "3/3 [==============================] - 0s 27ms/step - loss: 0.2787 - accuracy: 0.9534 - val_loss: 0.6464 - val_accuracy: 0.6173\n",
      "Epoch 34/250\n",
      "3/3 [==============================] - 0s 25ms/step - loss: 0.2694 - accuracy: 0.9503 - val_loss: 0.6488 - val_accuracy: 0.6296\n",
      "Epoch 35/250\n",
      "3/3 [==============================] - 0s 24ms/step - loss: 0.2779 - accuracy: 0.9441 - val_loss: 0.6502 - val_accuracy: 0.6173\n",
      "Epoch 36/250\n",
      "3/3 [==============================] - 0s 25ms/step - loss: 0.2692 - accuracy: 0.9534 - val_loss: 0.6507 - val_accuracy: 0.6049\n",
      "Epoch 37/250\n",
      "3/3 [==============================] - 0s 26ms/step - loss: 0.2781 - accuracy: 0.9441 - val_loss: 0.6553 - val_accuracy: 0.5679\n",
      "Epoch 38/250\n",
      "3/3 [==============================] - 0s 24ms/step - loss: 0.2611 - accuracy: 0.9565 - val_loss: 0.6568 - val_accuracy: 0.5802\n",
      "Epoch 39/250\n",
      "3/3 [==============================] - 0s 25ms/step - loss: 0.2516 - accuracy: 0.9596 - val_loss: 0.6585 - val_accuracy: 0.5802\n",
      "Epoch 40/250\n",
      "3/3 [==============================] - 0s 26ms/step - loss: 0.2510 - accuracy: 0.9565 - val_loss: 0.6606 - val_accuracy: 0.5802\n",
      "Epoch 41/250\n",
      "3/3 [==============================] - 0s 24ms/step - loss: 0.2648 - accuracy: 0.9472 - val_loss: 0.6632 - val_accuracy: 0.5802\n",
      "Epoch 42/250\n",
      "3/3 [==============================] - 0s 31ms/step - loss: 0.2349 - accuracy: 0.9627 - val_loss: 0.6674 - val_accuracy: 0.5679\n",
      "Epoch 43/250\n",
      "3/3 [==============================] - 0s 31ms/step - loss: 0.2524 - accuracy: 0.9503 - val_loss: 0.6721 - val_accuracy: 0.5679\n",
      "Epoch 44/250\n",
      "3/3 [==============================] - 0s 26ms/step - loss: 0.2705 - accuracy: 0.9410 - val_loss: 0.6768 - val_accuracy: 0.5802\n",
      "Epoch 45/250\n",
      "3/3 [==============================] - 0s 26ms/step - loss: 0.2351 - accuracy: 0.9658 - val_loss: 0.6882 - val_accuracy: 0.5556\n",
      "Epoch 46/250\n",
      "3/3 [==============================] - 0s 30ms/step - loss: 0.2437 - accuracy: 0.9596 - val_loss: 0.7033 - val_accuracy: 0.5309\n",
      "Epoch 47/250\n",
      "3/3 [==============================] - 0s 28ms/step - loss: 0.2265 - accuracy: 0.9658 - val_loss: 0.7144 - val_accuracy: 0.5432\n",
      "Epoch 48/250\n",
      "3/3 [==============================] - 0s 24ms/step - loss: 0.2277 - accuracy: 0.9689 - val_loss: 0.7249 - val_accuracy: 0.5185\n",
      "Epoch 49/250\n",
      "3/3 [==============================] - 0s 24ms/step - loss: 0.2265 - accuracy: 0.9534 - val_loss: 0.7297 - val_accuracy: 0.4938\n",
      "Epoch 50/250\n",
      "3/3 [==============================] - 0s 23ms/step - loss: 0.2053 - accuracy: 0.9720 - val_loss: 0.7253 - val_accuracy: 0.4938\n",
      "Epoch 51/250\n",
      "3/3 [==============================] - 0s 25ms/step - loss: 0.2037 - accuracy: 0.9752 - val_loss: 0.7327 - val_accuracy: 0.4938\n",
      "Epoch 52/250\n",
      "3/3 [==============================] - 0s 24ms/step - loss: 0.2106 - accuracy: 0.9658 - val_loss: 0.7400 - val_accuracy: 0.4938\n",
      "Epoch 53/250\n",
      "3/3 [==============================] - 0s 26ms/step - loss: 0.1997 - accuracy: 0.9689 - val_loss: 0.7442 - val_accuracy: 0.4815\n",
      "Epoch 54/250\n",
      "3/3 [==============================] - 0s 23ms/step - loss: 0.1948 - accuracy: 0.9689 - val_loss: 0.7453 - val_accuracy: 0.4938\n",
      "Epoch 55/250\n",
      "3/3 [==============================] - 0s 24ms/step - loss: 0.1968 - accuracy: 0.9720 - val_loss: 0.7484 - val_accuracy: 0.5062\n",
      "Epoch 56/250\n",
      "3/3 [==============================] - 0s 23ms/step - loss: 0.2003 - accuracy: 0.9658 - val_loss: 0.7491 - val_accuracy: 0.4938\n",
      "Epoch 57/250\n",
      "3/3 [==============================] - 0s 24ms/step - loss: 0.2141 - accuracy: 0.9627 - val_loss: 0.7621 - val_accuracy: 0.5185\n",
      "Epoch 58/250\n",
      "3/3 [==============================] - 0s 22ms/step - loss: 0.2042 - accuracy: 0.9658 - val_loss: 0.7698 - val_accuracy: 0.4938\n",
      "Epoch 59/250\n"
     ]
    },
    {
     "name": "stdout",
     "output_type": "stream",
     "text": [
      "3/3 [==============================] - 0s 23ms/step - loss: 0.2060 - accuracy: 0.9534 - val_loss: 0.7730 - val_accuracy: 0.4938\n",
      "Epoch 60/250\n",
      "3/3 [==============================] - 0s 23ms/step - loss: 0.2115 - accuracy: 0.9565 - val_loss: 0.7741 - val_accuracy: 0.4938\n",
      "Epoch 61/250\n",
      "3/3 [==============================] - 0s 23ms/step - loss: 0.1942 - accuracy: 0.9627 - val_loss: 0.7758 - val_accuracy: 0.4815\n",
      "Epoch 62/250\n",
      "3/3 [==============================] - 0s 25ms/step - loss: 0.1876 - accuracy: 0.9627 - val_loss: 0.7724 - val_accuracy: 0.4815\n",
      "Epoch 63/250\n",
      "3/3 [==============================] - 0s 23ms/step - loss: 0.1888 - accuracy: 0.9534 - val_loss: 0.7782 - val_accuracy: 0.4938\n",
      "Epoch 64/250\n",
      "3/3 [==============================] - 0s 23ms/step - loss: 0.2000 - accuracy: 0.9596 - val_loss: 0.7859 - val_accuracy: 0.4815\n",
      "Epoch 65/250\n",
      "3/3 [==============================] - 0s 24ms/step - loss: 0.1985 - accuracy: 0.9534 - val_loss: 0.7841 - val_accuracy: 0.4815\n",
      "Epoch 66/250\n",
      "3/3 [==============================] - 0s 26ms/step - loss: 0.1795 - accuracy: 0.9658 - val_loss: 0.7691 - val_accuracy: 0.5062\n",
      "Epoch 67/250\n",
      "3/3 [==============================] - 0s 23ms/step - loss: 0.1751 - accuracy: 0.9658 - val_loss: 0.7644 - val_accuracy: 0.5062\n",
      "Epoch 68/250\n",
      "3/3 [==============================] - 0s 24ms/step - loss: 0.1709 - accuracy: 0.9658 - val_loss: 0.7703 - val_accuracy: 0.4938\n",
      "Epoch 69/250\n",
      "3/3 [==============================] - 0s 23ms/step - loss: 0.1734 - accuracy: 0.9689 - val_loss: 0.7657 - val_accuracy: 0.4938\n",
      "Epoch 70/250\n",
      "3/3 [==============================] - 0s 25ms/step - loss: 0.1699 - accuracy: 0.9689 - val_loss: 0.7739 - val_accuracy: 0.4938\n",
      "Epoch 71/250\n",
      "3/3 [==============================] - 0s 23ms/step - loss: 0.1555 - accuracy: 0.9689 - val_loss: 0.7790 - val_accuracy: 0.4938\n",
      "Epoch 72/250\n",
      "3/3 [==============================] - 0s 23ms/step - loss: 0.1775 - accuracy: 0.9534 - val_loss: 0.8010 - val_accuracy: 0.4691\n",
      "Epoch 73/250\n",
      "3/3 [==============================] - 0s 24ms/step - loss: 0.1490 - accuracy: 0.9752 - val_loss: 0.8002 - val_accuracy: 0.4938\n",
      "Epoch 74/250\n",
      "3/3 [==============================] - 0s 23ms/step - loss: 0.1487 - accuracy: 0.9752 - val_loss: 0.7684 - val_accuracy: 0.4938\n",
      "Epoch 75/250\n",
      "3/3 [==============================] - 0s 24ms/step - loss: 0.1544 - accuracy: 0.9720 - val_loss: 0.7474 - val_accuracy: 0.4691\n",
      "Epoch 76/250\n",
      "3/3 [==============================] - 0s 22ms/step - loss: 0.1365 - accuracy: 0.9845 - val_loss: 0.7654 - val_accuracy: 0.4444\n",
      "Epoch 77/250\n",
      "3/3 [==============================] - 0s 23ms/step - loss: 0.1445 - accuracy: 0.9783 - val_loss: 0.8020 - val_accuracy: 0.4568\n",
      "Epoch 78/250\n",
      "3/3 [==============================] - 0s 23ms/step - loss: 0.1596 - accuracy: 0.9627 - val_loss: 0.8242 - val_accuracy: 0.4691\n",
      "Epoch 79/250\n",
      "3/3 [==============================] - 0s 23ms/step - loss: 0.1269 - accuracy: 0.9814 - val_loss: 0.8245 - val_accuracy: 0.4815\n",
      "Epoch 80/250\n",
      "3/3 [==============================] - 0s 23ms/step - loss: 0.1356 - accuracy: 0.9845 - val_loss: 0.8184 - val_accuracy: 0.5062\n",
      "Epoch 81/250\n",
      "3/3 [==============================] - 0s 27ms/step - loss: 0.1381 - accuracy: 0.9814 - val_loss: 0.8358 - val_accuracy: 0.4815\n",
      "Epoch 82/250\n",
      "3/3 [==============================] - 0s 24ms/step - loss: 0.1349 - accuracy: 0.9783 - val_loss: 0.8255 - val_accuracy: 0.4938\n",
      "Epoch 83/250\n",
      "3/3 [==============================] - 0s 23ms/step - loss: 0.1268 - accuracy: 0.9814 - val_loss: 0.8049 - val_accuracy: 0.5309\n",
      "Epoch 84/250\n",
      "3/3 [==============================] - 0s 25ms/step - loss: 0.1448 - accuracy: 0.9658 - val_loss: 0.7797 - val_accuracy: 0.5556\n",
      "Epoch 85/250\n",
      "3/3 [==============================] - 0s 28ms/step - loss: 0.1177 - accuracy: 0.9845 - val_loss: 0.7607 - val_accuracy: 0.5679\n",
      "Epoch 86/250\n",
      "3/3 [==============================] - 0s 23ms/step - loss: 0.1345 - accuracy: 0.9720 - val_loss: 0.7871 - val_accuracy: 0.5556\n",
      "Epoch 87/250\n",
      "3/3 [==============================] - 0s 22ms/step - loss: 0.1160 - accuracy: 0.9783 - val_loss: 0.8111 - val_accuracy: 0.5679\n",
      "Epoch 88/250\n",
      "3/3 [==============================] - 0s 23ms/step - loss: 0.1338 - accuracy: 0.9658 - val_loss: 0.7761 - val_accuracy: 0.5679\n",
      "Epoch 89/250\n",
      "3/3 [==============================] - 0s 22ms/step - loss: 0.1130 - accuracy: 0.9783 - val_loss: 0.7317 - val_accuracy: 0.6173\n",
      "Epoch 90/250\n",
      "3/3 [==============================] - 0s 22ms/step - loss: 0.1009 - accuracy: 0.9907 - val_loss: 0.7192 - val_accuracy: 0.6049\n",
      "Epoch 91/250\n",
      "3/3 [==============================] - 0s 24ms/step - loss: 0.1206 - accuracy: 0.9783 - val_loss: 0.7209 - val_accuracy: 0.6173\n",
      "Epoch 92/250\n",
      "3/3 [==============================] - 0s 25ms/step - loss: 0.0981 - accuracy: 0.9845 - val_loss: 0.6874 - val_accuracy: 0.6296\n",
      "Epoch 93/250\n",
      "3/3 [==============================] - 0s 23ms/step - loss: 0.1033 - accuracy: 0.9876 - val_loss: 0.6579 - val_accuracy: 0.6667\n",
      "Epoch 94/250\n",
      "3/3 [==============================] - 0s 23ms/step - loss: 0.1105 - accuracy: 0.9783 - val_loss: 0.6620 - val_accuracy: 0.6667\n",
      "Epoch 95/250\n",
      "3/3 [==============================] - 0s 23ms/step - loss: 0.1031 - accuracy: 0.9814 - val_loss: 0.6806 - val_accuracy: 0.6543\n",
      "Epoch 96/250\n",
      "3/3 [==============================] - 0s 25ms/step - loss: 0.1117 - accuracy: 0.9814 - val_loss: 0.6625 - val_accuracy: 0.6543\n",
      "Epoch 97/250\n",
      "3/3 [==============================] - 0s 23ms/step - loss: 0.0954 - accuracy: 0.9845 - val_loss: 0.6327 - val_accuracy: 0.6667\n",
      "Epoch 98/250\n",
      "3/3 [==============================] - 0s 23ms/step - loss: 0.0839 - accuracy: 0.9969 - val_loss: 0.6664 - val_accuracy: 0.6296\n",
      "Epoch 99/250\n",
      "3/3 [==============================] - 0s 23ms/step - loss: 0.0919 - accuracy: 0.9814 - val_loss: 0.7109 - val_accuracy: 0.6173\n",
      "Epoch 100/250\n",
      "3/3 [==============================] - 0s 24ms/step - loss: 0.0986 - accuracy: 0.9814 - val_loss: 0.7237 - val_accuracy: 0.6420\n",
      "Epoch 101/250\n",
      "3/3 [==============================] - 0s 23ms/step - loss: 0.0912 - accuracy: 0.9876 - val_loss: 0.6909 - val_accuracy: 0.6543\n",
      "Epoch 102/250\n",
      "3/3 [==============================] - 0s 35ms/step - loss: 0.0735 - accuracy: 0.9969 - val_loss: 0.6839 - val_accuracy: 0.6420\n",
      "Epoch 103/250\n",
      "3/3 [==============================] - 0s 24ms/step - loss: 0.0805 - accuracy: 0.9938 - val_loss: 0.6907 - val_accuracy: 0.6420\n",
      "Epoch 104/250\n",
      "3/3 [==============================] - 0s 24ms/step - loss: 0.0817 - accuracy: 0.9938 - val_loss: 0.6971 - val_accuracy: 0.6543\n",
      "Epoch 105/250\n",
      "3/3 [==============================] - 0s 23ms/step - loss: 0.0783 - accuracy: 1.0000 - val_loss: 0.6950 - val_accuracy: 0.6667\n",
      "Epoch 106/250\n",
      "3/3 [==============================] - 0s 24ms/step - loss: 0.0759 - accuracy: 0.9907 - val_loss: 0.6970 - val_accuracy: 0.6667\n",
      "Epoch 107/250\n",
      "3/3 [==============================] - ETA: 0s - loss: 0.0663 - accuracy: 0.99 - 0s 23ms/step - loss: 0.0754 - accuracy: 0.9938 - val_loss: 0.7009 - val_accuracy: 0.6667\n",
      "Epoch 108/250\n",
      "3/3 [==============================] - 0s 23ms/step - loss: 0.0714 - accuracy: 0.9969 - val_loss: 0.7002 - val_accuracy: 0.6667\n",
      "Epoch 109/250\n",
      "3/3 [==============================] - 0s 23ms/step - loss: 0.0577 - accuracy: 1.0000 - val_loss: 0.6764 - val_accuracy: 0.6790\n",
      "Epoch 110/250\n",
      "3/3 [==============================] - 0s 24ms/step - loss: 0.0782 - accuracy: 0.9845 - val_loss: 0.6504 - val_accuracy: 0.6914\n",
      "Epoch 111/250\n",
      "3/3 [==============================] - 0s 23ms/step - loss: 0.0704 - accuracy: 0.9938 - val_loss: 0.6386 - val_accuracy: 0.7037\n",
      "Epoch 112/250\n",
      "3/3 [==============================] - 0s 23ms/step - loss: 0.0870 - accuracy: 0.9876 - val_loss: 0.6568 - val_accuracy: 0.6667\n",
      "Epoch 113/250\n",
      "3/3 [==============================] - 0s 24ms/step - loss: 0.0748 - accuracy: 0.9938 - val_loss: 0.6660 - val_accuracy: 0.6914\n",
      "Epoch 114/250\n",
      "3/3 [==============================] - 0s 23ms/step - loss: 0.0641 - accuracy: 0.9969 - val_loss: 0.6576 - val_accuracy: 0.7160\n",
      "Epoch 115/250\n",
      "3/3 [==============================] - 0s 24ms/step - loss: 0.0639 - accuracy: 0.9938 - val_loss: 0.6470 - val_accuracy: 0.7160\n",
      "Epoch 116/250\n",
      "3/3 [==============================] - 0s 23ms/step - loss: 0.0584 - accuracy: 1.0000 - val_loss: 0.6401 - val_accuracy: 0.7407\n"
     ]
    },
    {
     "name": "stdout",
     "output_type": "stream",
     "text": [
      "Epoch 117/250\n",
      "3/3 [==============================] - 0s 23ms/step - loss: 0.0572 - accuracy: 0.9969 - val_loss: 0.6306 - val_accuracy: 0.7407\n",
      "Epoch 118/250\n",
      "3/3 [==============================] - 0s 23ms/step - loss: 0.0534 - accuracy: 1.0000 - val_loss: 0.6224 - val_accuracy: 0.7284\n",
      "Epoch 119/250\n",
      "3/3 [==============================] - 0s 23ms/step - loss: 0.0544 - accuracy: 0.9938 - val_loss: 0.6187 - val_accuracy: 0.7160\n",
      "Epoch 120/250\n",
      "3/3 [==============================] - 0s 31ms/step - loss: 0.0606 - accuracy: 0.9938 - val_loss: 0.6189 - val_accuracy: 0.7407\n",
      "Epoch 121/250\n",
      "3/3 [==============================] - 0s 23ms/step - loss: 0.0625 - accuracy: 0.9938 - val_loss: 0.6264 - val_accuracy: 0.7407\n",
      "Epoch 122/250\n",
      "3/3 [==============================] - 0s 23ms/step - loss: 0.0572 - accuracy: 0.9938 - val_loss: 0.6358 - val_accuracy: 0.7284\n",
      "Epoch 123/250\n",
      "3/3 [==============================] - 0s 22ms/step - loss: 0.0526 - accuracy: 0.9969 - val_loss: 0.6430 - val_accuracy: 0.7531\n",
      "Epoch 124/250\n",
      "3/3 [==============================] - 0s 23ms/step - loss: 0.0613 - accuracy: 0.9876 - val_loss: 0.6396 - val_accuracy: 0.7531\n",
      "Epoch 125/250\n",
      "3/3 [==============================] - 0s 23ms/step - loss: 0.0610 - accuracy: 0.9907 - val_loss: 0.6257 - val_accuracy: 0.7284\n",
      "Epoch 126/250\n",
      "3/3 [==============================] - 0s 22ms/step - loss: 0.0589 - accuracy: 0.9938 - val_loss: 0.6315 - val_accuracy: 0.7284\n",
      "Epoch 127/250\n",
      "3/3 [==============================] - 0s 24ms/step - loss: 0.0659 - accuracy: 0.9876 - val_loss: 0.6400 - val_accuracy: 0.7160\n",
      "Epoch 128/250\n",
      "3/3 [==============================] - 0s 23ms/step - loss: 0.0798 - accuracy: 0.9845 - val_loss: 0.6707 - val_accuracy: 0.7160\n",
      "Epoch 129/250\n",
      "3/3 [==============================] - 0s 23ms/step - loss: 0.0570 - accuracy: 0.9969 - val_loss: 0.6977 - val_accuracy: 0.7160\n",
      "Epoch 130/250\n",
      "3/3 [==============================] - 0s 23ms/step - loss: 0.0551 - accuracy: 0.9969 - val_loss: 0.7101 - val_accuracy: 0.7037\n",
      "Epoch 131/250\n",
      "3/3 [==============================] - 0s 23ms/step - loss: 0.0569 - accuracy: 0.9907 - val_loss: 0.7012 - val_accuracy: 0.7160\n",
      "Epoch 132/250\n",
      "3/3 [==============================] - 0s 23ms/step - loss: 0.0675 - accuracy: 0.9876 - val_loss: 0.7331 - val_accuracy: 0.6914\n",
      "Epoch 133/250\n",
      "3/3 [==============================] - 0s 23ms/step - loss: 0.0538 - accuracy: 1.0000 - val_loss: 0.7806 - val_accuracy: 0.7037\n",
      "Epoch 134/250\n",
      "3/3 [==============================] - 0s 23ms/step - loss: 0.0633 - accuracy: 0.9845 - val_loss: 0.7749 - val_accuracy: 0.6914\n",
      "Epoch 135/250\n",
      "3/3 [==============================] - 0s 23ms/step - loss: 0.0578 - accuracy: 0.9969 - val_loss: 0.7543 - val_accuracy: 0.7160\n",
      "Epoch 136/250\n",
      "3/3 [==============================] - 0s 22ms/step - loss: 0.0437 - accuracy: 0.9969 - val_loss: 0.6729 - val_accuracy: 0.7407\n",
      "Epoch 137/250\n",
      "3/3 [==============================] - 0s 23ms/step - loss: 0.0465 - accuracy: 0.9938 - val_loss: 0.6307 - val_accuracy: 0.7531\n",
      "Epoch 138/250\n",
      "3/3 [==============================] - 0s 23ms/step - loss: 0.0535 - accuracy: 0.9969 - val_loss: 0.6451 - val_accuracy: 0.7407\n",
      "Epoch 139/250\n",
      "3/3 [==============================] - 0s 23ms/step - loss: 0.0502 - accuracy: 0.9938 - val_loss: 0.6810 - val_accuracy: 0.7531\n",
      "Epoch 140/250\n",
      "3/3 [==============================] - 0s 24ms/step - loss: 0.0590 - accuracy: 0.9907 - val_loss: 0.7348 - val_accuracy: 0.7407\n",
      "Epoch 141/250\n",
      "3/3 [==============================] - 0s 23ms/step - loss: 0.0456 - accuracy: 0.9938 - val_loss: 0.7470 - val_accuracy: 0.7160\n",
      "Epoch 142/250\n",
      "3/3 [==============================] - 0s 23ms/step - loss: 0.0510 - accuracy: 0.9907 - val_loss: 0.7629 - val_accuracy: 0.7037\n",
      "Epoch 143/250\n",
      "3/3 [==============================] - 0s 22ms/step - loss: 0.0513 - accuracy: 0.9907 - val_loss: 0.7841 - val_accuracy: 0.7037\n",
      "Epoch 144/250\n",
      "3/3 [==============================] - 0s 23ms/step - loss: 0.0461 - accuracy: 0.9938 - val_loss: 0.7969 - val_accuracy: 0.7407\n",
      "Epoch 145/250\n",
      "3/3 [==============================] - 0s 23ms/step - loss: 0.0441 - accuracy: 0.9969 - val_loss: 0.7448 - val_accuracy: 0.7531\n",
      "Epoch 146/250\n",
      "3/3 [==============================] - 0s 23ms/step - loss: 0.0407 - accuracy: 1.0000 - val_loss: 0.7116 - val_accuracy: 0.7654\n",
      "Epoch 147/250\n",
      "3/3 [==============================] - 0s 32ms/step - loss: 0.0450 - accuracy: 0.9969 - val_loss: 0.7004 - val_accuracy: 0.7531\n",
      "Epoch 148/250\n",
      "3/3 [==============================] - 0s 26ms/step - loss: 0.0517 - accuracy: 0.9938 - val_loss: 0.7115 - val_accuracy: 0.7284\n",
      "Epoch 149/250\n",
      "3/3 [==============================] - 0s 23ms/step - loss: 0.0456 - accuracy: 0.9969 - val_loss: 0.7194 - val_accuracy: 0.7531\n",
      "Epoch 150/250\n",
      "3/3 [==============================] - 0s 23ms/step - loss: 0.0402 - accuracy: 1.0000 - val_loss: 0.7377 - val_accuracy: 0.7654\n",
      "Epoch 151/250\n",
      "3/3 [==============================] - 0s 23ms/step - loss: 0.0409 - accuracy: 1.0000 - val_loss: 0.7582 - val_accuracy: 0.7531\n",
      "Epoch 152/250\n",
      "3/3 [==============================] - 0s 22ms/step - loss: 0.0462 - accuracy: 0.9938 - val_loss: 0.7988 - val_accuracy: 0.7654\n",
      "Epoch 153/250\n",
      "3/3 [==============================] - 0s 23ms/step - loss: 0.0376 - accuracy: 0.9969 - val_loss: 0.8197 - val_accuracy: 0.7531\n",
      "Epoch 154/250\n",
      "3/3 [==============================] - 0s 23ms/step - loss: 0.0350 - accuracy: 1.0000 - val_loss: 0.8171 - val_accuracy: 0.7531\n",
      "Epoch 155/250\n",
      "3/3 [==============================] - 0s 23ms/step - loss: 0.0612 - accuracy: 0.9907 - val_loss: 0.8062 - val_accuracy: 0.7654\n",
      "Epoch 156/250\n",
      "3/3 [==============================] - 0s 23ms/step - loss: 0.0458 - accuracy: 0.9938 - val_loss: 0.7389 - val_accuracy: 0.7654\n",
      "Epoch 157/250\n",
      "3/3 [==============================] - 0s 23ms/step - loss: 0.0486 - accuracy: 0.9907 - val_loss: 0.7289 - val_accuracy: 0.7654\n",
      "Epoch 158/250\n",
      "3/3 [==============================] - 0s 23ms/step - loss: 0.0515 - accuracy: 0.9938 - val_loss: 0.7786 - val_accuracy: 0.7160\n",
      "Epoch 159/250\n",
      "3/3 [==============================] - 0s 23ms/step - loss: 0.0754 - accuracy: 0.9876 - val_loss: 0.7818 - val_accuracy: 0.7531\n",
      "Epoch 160/250\n",
      "3/3 [==============================] - 0s 23ms/step - loss: 0.0469 - accuracy: 0.9907 - val_loss: 0.7397 - val_accuracy: 0.7284\n",
      "Epoch 161/250\n",
      "3/3 [==============================] - 0s 24ms/step - loss: 0.0450 - accuracy: 0.9938 - val_loss: 0.6991 - val_accuracy: 0.7654\n",
      "Epoch 162/250\n",
      "3/3 [==============================] - 0s 23ms/step - loss: 0.0414 - accuracy: 1.0000 - val_loss: 0.7286 - val_accuracy: 0.7407\n",
      "Epoch 163/250\n",
      "3/3 [==============================] - 0s 23ms/step - loss: 0.0530 - accuracy: 0.9907 - val_loss: 0.7726 - val_accuracy: 0.7037\n",
      "Epoch 164/250\n",
      "3/3 [==============================] - 0s 25ms/step - loss: 0.0511 - accuracy: 0.9907 - val_loss: 0.8349 - val_accuracy: 0.7407\n",
      "Epoch 165/250\n",
      "3/3 [==============================] - 0s 23ms/step - loss: 0.0447 - accuracy: 0.9938 - val_loss: 0.8129 - val_accuracy: 0.7407\n",
      "Epoch 166/250\n",
      "3/3 [==============================] - 0s 23ms/step - loss: 0.0431 - accuracy: 0.9969 - val_loss: 0.7686 - val_accuracy: 0.7778\n",
      "Epoch 167/250\n",
      "3/3 [==============================] - 0s 23ms/step - loss: 0.0408 - accuracy: 1.0000 - val_loss: 0.7315 - val_accuracy: 0.7654\n",
      "Epoch 168/250\n",
      "3/3 [==============================] - 0s 23ms/step - loss: 0.0469 - accuracy: 0.9969 - val_loss: 0.7399 - val_accuracy: 0.7654\n",
      "Epoch 169/250\n",
      "3/3 [==============================] - 0s 23ms/step - loss: 0.0381 - accuracy: 0.9969 - val_loss: 0.7496 - val_accuracy: 0.7654\n",
      "Epoch 170/250\n",
      "3/3 [==============================] - 0s 23ms/step - loss: 0.0354 - accuracy: 1.0000 - val_loss: 0.7690 - val_accuracy: 0.7160\n",
      "Epoch 171/250\n",
      "3/3 [==============================] - 0s 24ms/step - loss: 0.0426 - accuracy: 0.9938 - val_loss: 0.8089 - val_accuracy: 0.7284\n",
      "Epoch 172/250\n",
      "3/3 [==============================] - 0s 23ms/step - loss: 0.0346 - accuracy: 0.9969 - val_loss: 0.8619 - val_accuracy: 0.7284\n",
      "Epoch 173/250\n",
      "3/3 [==============================] - 0s 23ms/step - loss: 0.0538 - accuracy: 0.9907 - val_loss: 0.8556 - val_accuracy: 0.7407\n",
      "Epoch 174/250\n",
      "3/3 [==============================] - 0s 23ms/step - loss: 0.0324 - accuracy: 0.9938 - val_loss: 0.8318 - val_accuracy: 0.7160\n"
     ]
    },
    {
     "name": "stdout",
     "output_type": "stream",
     "text": [
      "Epoch 175/250\n",
      "3/3 [==============================] - 0s 23ms/step - loss: 0.0510 - accuracy: 0.9907 - val_loss: 0.8458 - val_accuracy: 0.7160\n",
      "Epoch 176/250\n",
      "3/3 [==============================] - 0s 23ms/step - loss: 0.0383 - accuracy: 0.9907 - val_loss: 0.8283 - val_accuracy: 0.7284\n",
      "Epoch 177/250\n",
      "3/3 [==============================] - 0s 24ms/step - loss: 0.0405 - accuracy: 0.9938 - val_loss: 0.7641 - val_accuracy: 0.7407\n",
      "Epoch 178/250\n",
      "3/3 [==============================] - 0s 25ms/step - loss: 0.0576 - accuracy: 0.9876 - val_loss: 0.7084 - val_accuracy: 0.7778\n",
      "Epoch 179/250\n",
      "3/3 [==============================] - 0s 23ms/step - loss: 0.0394 - accuracy: 0.9938 - val_loss: 0.6912 - val_accuracy: 0.7901\n",
      "Epoch 180/250\n",
      "3/3 [==============================] - 0s 27ms/step - loss: 0.0598 - accuracy: 0.9876 - val_loss: 0.7202 - val_accuracy: 0.7531\n",
      "Epoch 181/250\n",
      "3/3 [==============================] - 0s 26ms/step - loss: 0.0314 - accuracy: 0.9969 - val_loss: 0.7628 - val_accuracy: 0.7531\n",
      "Epoch 182/250\n",
      "3/3 [==============================] - 0s 24ms/step - loss: 0.0391 - accuracy: 0.9969 - val_loss: 0.8144 - val_accuracy: 0.7654\n",
      "Epoch 183/250\n",
      "3/3 [==============================] - 0s 25ms/step - loss: 0.0447 - accuracy: 0.9938 - val_loss: 0.8704 - val_accuracy: 0.7531\n",
      "Epoch 184/250\n",
      "3/3 [==============================] - 0s 25ms/step - loss: 0.0410 - accuracy: 0.9907 - val_loss: 0.9030 - val_accuracy: 0.7531\n",
      "Epoch 185/250\n",
      "3/3 [==============================] - 0s 23ms/step - loss: 0.0484 - accuracy: 0.9845 - val_loss: 0.8658 - val_accuracy: 0.7531\n",
      "Epoch 186/250\n",
      "3/3 [==============================] - 0s 26ms/step - loss: 0.0544 - accuracy: 0.9938 - val_loss: 0.8549 - val_accuracy: 0.7901\n",
      "Epoch 187/250\n",
      "3/3 [==============================] - 0s 25ms/step - loss: 0.0379 - accuracy: 0.9969 - val_loss: 0.8439 - val_accuracy: 0.7778\n",
      "Epoch 188/250\n",
      "3/3 [==============================] - 0s 24ms/step - loss: 0.0443 - accuracy: 0.9876 - val_loss: 0.8489 - val_accuracy: 0.7778\n",
      "Epoch 189/250\n",
      "3/3 [==============================] - 0s 25ms/step - loss: 0.0273 - accuracy: 1.0000 - val_loss: 0.8745 - val_accuracy: 0.7284\n",
      "Epoch 190/250\n",
      "3/3 [==============================] - 0s 24ms/step - loss: 0.0523 - accuracy: 0.9876 - val_loss: 0.8546 - val_accuracy: 0.7407\n",
      "Epoch 191/250\n",
      "3/3 [==============================] - 0s 24ms/step - loss: 0.0457 - accuracy: 0.9907 - val_loss: 0.8680 - val_accuracy: 0.7654\n",
      "Epoch 192/250\n",
      "3/3 [==============================] - 0s 24ms/step - loss: 0.0683 - accuracy: 0.9752 - val_loss: 0.8608 - val_accuracy: 0.7531\n",
      "Epoch 193/250\n",
      "3/3 [==============================] - 0s 24ms/step - loss: 0.0333 - accuracy: 0.9969 - val_loss: 0.7970 - val_accuracy: 0.7778\n",
      "Epoch 194/250\n",
      "3/3 [==============================] - 0s 24ms/step - loss: 0.0336 - accuracy: 0.9969 - val_loss: 0.8483 - val_accuracy: 0.7407\n",
      "Epoch 195/250\n",
      "3/3 [==============================] - 0s 25ms/step - loss: 0.0367 - accuracy: 1.0000 - val_loss: 0.9149 - val_accuracy: 0.7284\n",
      "Epoch 196/250\n",
      "3/3 [==============================] - 0s 22ms/step - loss: 0.0411 - accuracy: 0.9907 - val_loss: 0.8937 - val_accuracy: 0.7160\n",
      "Epoch 197/250\n",
      "3/3 [==============================] - 0s 24ms/step - loss: 0.0268 - accuracy: 1.0000 - val_loss: 0.9315 - val_accuracy: 0.7160\n",
      "Epoch 198/250\n",
      "3/3 [==============================] - 0s 24ms/step - loss: 0.0522 - accuracy: 0.9907 - val_loss: 0.9708 - val_accuracy: 0.7284\n",
      "Epoch 199/250\n",
      "3/3 [==============================] - 0s 26ms/step - loss: 0.0267 - accuracy: 1.0000 - val_loss: 0.9576 - val_accuracy: 0.7531\n",
      "Epoch 200/250\n",
      "3/3 [==============================] - 0s 26ms/step - loss: 0.0622 - accuracy: 0.9845 - val_loss: 0.9480 - val_accuracy: 0.7654\n",
      "Epoch 201/250\n",
      "3/3 [==============================] - 0s 33ms/step - loss: 0.0608 - accuracy: 0.9876 - val_loss: 1.0218 - val_accuracy: 0.7531\n",
      "Epoch 202/250\n",
      "3/3 [==============================] - 0s 24ms/step - loss: 0.0249 - accuracy: 1.0000 - val_loss: 1.0679 - val_accuracy: 0.7407\n",
      "Epoch 203/250\n",
      "3/3 [==============================] - 0s 23ms/step - loss: 0.0992 - accuracy: 0.9658 - val_loss: 0.9534 - val_accuracy: 0.7654\n",
      "Epoch 204/250\n",
      "3/3 [==============================] - 0s 25ms/step - loss: 0.0486 - accuracy: 0.9938 - val_loss: 0.8420 - val_accuracy: 0.7531\n",
      "Epoch 205/250\n",
      "3/3 [==============================] - 0s 27ms/step - loss: 0.0489 - accuracy: 0.9876 - val_loss: 0.8530 - val_accuracy: 0.7901\n",
      "Epoch 206/250\n",
      "3/3 [==============================] - 0s 26ms/step - loss: 0.0529 - accuracy: 0.9876 - val_loss: 0.7757 - val_accuracy: 0.8025\n",
      "Epoch 207/250\n",
      "3/3 [==============================] - 0s 25ms/step - loss: 0.0559 - accuracy: 0.9876 - val_loss: 0.8218 - val_accuracy: 0.7778\n",
      "Epoch 208/250\n",
      "3/3 [==============================] - 0s 23ms/step - loss: 0.0472 - accuracy: 0.9845 - val_loss: 0.8681 - val_accuracy: 0.7654\n",
      "Epoch 209/250\n",
      "3/3 [==============================] - 0s 23ms/step - loss: 0.0333 - accuracy: 0.9938 - val_loss: 0.8580 - val_accuracy: 0.7531\n",
      "Epoch 210/250\n",
      "3/3 [==============================] - 0s 24ms/step - loss: 0.0399 - accuracy: 0.9907 - val_loss: 0.8910 - val_accuracy: 0.7531\n",
      "Epoch 211/250\n",
      "3/3 [==============================] - 0s 25ms/step - loss: 0.0290 - accuracy: 0.9938 - val_loss: 0.9165 - val_accuracy: 0.7531\n",
      "Epoch 212/250\n",
      "3/3 [==============================] - 0s 25ms/step - loss: 0.0242 - accuracy: 1.0000 - val_loss: 0.9299 - val_accuracy: 0.7284\n",
      "Epoch 213/250\n",
      "3/3 [==============================] - 0s 24ms/step - loss: 0.0409 - accuracy: 0.9938 - val_loss: 0.9602 - val_accuracy: 0.7160\n",
      "Epoch 214/250\n",
      "3/3 [==============================] - 0s 23ms/step - loss: 0.0314 - accuracy: 0.9938 - val_loss: 0.9702 - val_accuracy: 0.7407\n",
      "Epoch 215/250\n",
      "3/3 [==============================] - 0s 23ms/step - loss: 0.0341 - accuracy: 0.9907 - val_loss: 0.9638 - val_accuracy: 0.7407\n",
      "Epoch 216/250\n",
      "3/3 [==============================] - 0s 25ms/step - loss: 0.0559 - accuracy: 0.9876 - val_loss: 0.9851 - val_accuracy: 0.7531\n",
      "Epoch 217/250\n",
      "3/3 [==============================] - 0s 31ms/step - loss: 0.0407 - accuracy: 0.9907 - val_loss: 0.9552 - val_accuracy: 0.7407\n",
      "Epoch 218/250\n",
      "3/3 [==============================] - 0s 30ms/step - loss: 0.0461 - accuracy: 0.9876 - val_loss: 0.9092 - val_accuracy: 0.7284\n",
      "Epoch 219/250\n",
      "3/3 [==============================] - 0s 23ms/step - loss: 0.0465 - accuracy: 0.9876 - val_loss: 0.8698 - val_accuracy: 0.7284\n",
      "Epoch 220/250\n",
      "3/3 [==============================] - 0s 26ms/step - loss: 0.0654 - accuracy: 0.9783 - val_loss: 0.9224 - val_accuracy: 0.7407\n",
      "Epoch 221/250\n",
      "3/3 [==============================] - 0s 25ms/step - loss: 0.0405 - accuracy: 0.9907 - val_loss: 0.9707 - val_accuracy: 0.7654\n",
      "Epoch 222/250\n",
      "3/3 [==============================] - 0s 32ms/step - loss: 0.0380 - accuracy: 0.9907 - val_loss: 1.0173 - val_accuracy: 0.7284\n",
      "Epoch 223/250\n",
      "3/3 [==============================] - 0s 27ms/step - loss: 0.0420 - accuracy: 0.9876 - val_loss: 1.0390 - val_accuracy: 0.7407\n",
      "Epoch 224/250\n",
      "3/3 [==============================] - 0s 35ms/step - loss: 0.0280 - accuracy: 0.9969 - val_loss: 1.0209 - val_accuracy: 0.7531\n",
      "Epoch 225/250\n",
      "3/3 [==============================] - 0s 33ms/step - loss: 0.0401 - accuracy: 0.9907 - val_loss: 1.0022 - val_accuracy: 0.7284\n",
      "Epoch 226/250\n",
      "3/3 [==============================] - 0s 26ms/step - loss: 0.0463 - accuracy: 0.9876 - val_loss: 0.9454 - val_accuracy: 0.7407\n",
      "Epoch 227/250\n",
      "3/3 [==============================] - 0s 31ms/step - loss: 0.0341 - accuracy: 0.9969 - val_loss: 0.9186 - val_accuracy: 0.7407\n",
      "Epoch 228/250\n",
      "3/3 [==============================] - 0s 35ms/step - loss: 0.0531 - accuracy: 0.9876 - val_loss: 0.9010 - val_accuracy: 0.7407\n",
      "Epoch 229/250\n",
      "3/3 [==============================] - 0s 34ms/step - loss: 0.0237 - accuracy: 1.0000 - val_loss: 0.9287 - val_accuracy: 0.7531\n",
      "Epoch 230/250\n",
      "3/3 [==============================] - 0s 35ms/step - loss: 0.0435 - accuracy: 0.9876 - val_loss: 0.9573 - val_accuracy: 0.7531\n",
      "Epoch 231/250\n",
      "3/3 [==============================] - 0s 34ms/step - loss: 0.0356 - accuracy: 0.9938 - val_loss: 0.9946 - val_accuracy: 0.7654\n",
      "Epoch 232/250\n",
      "3/3 [==============================] - 0s 35ms/step - loss: 0.0362 - accuracy: 0.9938 - val_loss: 0.9963 - val_accuracy: 0.7654\n"
     ]
    },
    {
     "name": "stdout",
     "output_type": "stream",
     "text": [
      "Epoch 233/250\n",
      "3/3 [==============================] - 0s 30ms/step - loss: 0.0497 - accuracy: 0.9876 - val_loss: 0.9449 - val_accuracy: 0.7531\n",
      "Epoch 234/250\n",
      "3/3 [==============================] - 0s 31ms/step - loss: 0.0431 - accuracy: 0.9907 - val_loss: 0.9784 - val_accuracy: 0.7531\n",
      "Epoch 235/250\n",
      "3/3 [==============================] - 0s 34ms/step - loss: 0.0405 - accuracy: 0.9876 - val_loss: 0.9203 - val_accuracy: 0.7654\n",
      "Epoch 236/250\n",
      "3/3 [==============================] - 0s 33ms/step - loss: 0.0575 - accuracy: 0.9876 - val_loss: 0.8881 - val_accuracy: 0.7778\n",
      "Epoch 237/250\n",
      "3/3 [==============================] - 0s 33ms/step - loss: 0.0407 - accuracy: 0.9907 - val_loss: 0.8875 - val_accuracy: 0.7654\n",
      "Epoch 238/250\n",
      "3/3 [==============================] - 0s 28ms/step - loss: 0.0818 - accuracy: 0.9752 - val_loss: 0.8344 - val_accuracy: 0.7654\n",
      "Epoch 239/250\n",
      "3/3 [==============================] - 0s 31ms/step - loss: 0.0481 - accuracy: 0.9876 - val_loss: 0.7689 - val_accuracy: 0.7531\n",
      "Epoch 240/250\n",
      "3/3 [==============================] - 0s 30ms/step - loss: 0.0418 - accuracy: 0.9907 - val_loss: 0.7395 - val_accuracy: 0.7531\n",
      "Epoch 241/250\n",
      "3/3 [==============================] - 0s 28ms/step - loss: 0.0764 - accuracy: 0.9752 - val_loss: 0.7809 - val_accuracy: 0.7407\n",
      "Epoch 242/250\n",
      "3/3 [==============================] - 0s 26ms/step - loss: 0.0539 - accuracy: 0.9876 - val_loss: 0.8129 - val_accuracy: 0.7284\n",
      "Epoch 243/250\n",
      "3/3 [==============================] - 0s 28ms/step - loss: 0.0280 - accuracy: 0.9969 - val_loss: 0.8229 - val_accuracy: 0.7407\n",
      "Epoch 244/250\n",
      "3/3 [==============================] - 0s 27ms/step - loss: 0.0442 - accuracy: 0.9876 - val_loss: 0.8315 - val_accuracy: 0.7284\n",
      "Epoch 245/250\n",
      "3/3 [==============================] - 0s 28ms/step - loss: 0.0331 - accuracy: 0.9938 - val_loss: 0.8176 - val_accuracy: 0.7160\n",
      "Epoch 246/250\n",
      "3/3 [==============================] - 0s 27ms/step - loss: 0.0416 - accuracy: 0.9876 - val_loss: 0.8908 - val_accuracy: 0.7531\n",
      "Epoch 247/250\n",
      "3/3 [==============================] - 0s 30ms/step - loss: 0.0224 - accuracy: 1.0000 - val_loss: 0.9517 - val_accuracy: 0.7531\n",
      "Epoch 248/250\n",
      "3/3 [==============================] - 0s 28ms/step - loss: 0.0541 - accuracy: 0.9845 - val_loss: 0.9613 - val_accuracy: 0.7407\n",
      "Epoch 249/250\n",
      "3/3 [==============================] - 0s 28ms/step - loss: 0.0325 - accuracy: 0.9938 - val_loss: 0.9110 - val_accuracy: 0.7407\n",
      "Epoch 250/250\n",
      "3/3 [==============================] - 0s 28ms/step - loss: 0.0214 - accuracy: 1.0000 - val_loss: 0.8713 - val_accuracy: 0.7531\n"
     ]
    }
   ],
   "source": [
    "# TRAINING THE MODEL\n",
    "history=model.fit(xtrain,y_train,validation_split=0.2,epochs=250,batch_size=128,verbose=1)"
   ]
  },
  {
   "cell_type": "code",
   "execution_count": 60,
   "id": "9e44eb49",
   "metadata": {},
   "outputs": [
    {
     "name": "stdout",
     "output_type": "stream",
     "text": [
      "13/13 [==============================] - 0s 4ms/step - loss: 0.1943 - accuracy: 0.9479\n",
      "loss=  0.19427819550037384\n",
      "accuracy=  0.9478908181190491\n"
     ]
    }
   ],
   "source": [
    "#STEP 13: EVALUATING THE DATA\n",
    "loss,accuracy=model.evaluate(xtrain,y_train)\n",
    "print('loss= ',loss)\n",
    "print('accuracy= ',accuracy)"
   ]
  },
  {
   "cell_type": "code",
   "execution_count": 61,
   "id": "a5d42902",
   "metadata": {},
   "outputs": [
    {
     "name": "stdout",
     "output_type": "stream",
     "text": [
      "4/4 [==============================] - 0s 3ms/step - loss: 1.6056 - accuracy: 0.6139\n",
      "loss=  1.6055513620376587\n",
      "accuracy=  0.6138613820075989\n"
     ]
    }
   ],
   "source": [
    "#STEP 13: EVALUATING THE DATA\n",
    "loss,accuracy=model.evaluate(xtest,y_test)\n",
    "print('loss= ',loss)\n",
    "print('accuracy= ',accuracy)"
   ]
  },
  {
   "cell_type": "code",
   "execution_count": 62,
   "id": "5cc6745b",
   "metadata": {},
   "outputs": [],
   "source": [
    "prediction=model.predict(xtest)"
   ]
  },
  {
   "cell_type": "code",
   "execution_count": 63,
   "id": "400d5fa0",
   "metadata": {},
   "outputs": [
    {
     "name": "stdout",
     "output_type": "stream",
     "text": [
      "[[1.]\n",
      " [1.]\n",
      " [1.]\n",
      " [1.]\n",
      " [0.]]\n"
     ]
    }
   ],
   "source": [
    "print(prediction[85:90].round())"
   ]
  },
  {
   "cell_type": "code",
   "execution_count": 64,
   "id": "3a857a5b",
   "metadata": {},
   "outputs": [
    {
     "data": {
      "text/plain": [
       "371    0\n",
       "309    1\n",
       "227    1\n",
       "187    1\n",
       "469    0\n",
       "Name: Scale formation, dtype: object"
      ]
     },
     "execution_count": 64,
     "metadata": {},
     "output_type": "execute_result"
    }
   ],
   "source": [
    "ytest.iloc[85:90]"
   ]
  },
  {
   "cell_type": "code",
   "execution_count": 65,
   "id": "facd22dd",
   "metadata": {},
   "outputs": [
    {
     "data": {
      "image/png": "[encoded data removed]",
      "text/plain": [
       "<Figure size 432x288 with 1 Axes>"
      ]
     },
     "metadata": {
      "needs_background": "light"
     },
     "output_type": "display_data"
    }
   ],
   "source": [
    "import matplotlib.pyplot as plt\n",
    "plt.plot(history.history['loss'],label='train')\n",
    "plt.plot(history.history['val_loss'],label='val_loss')\n",
    "plt.xlabel('Epoch')\n",
    "plt.ylabel('Error')\n",
    "plt.legend()\n",
    "plt.grid(True)"
   ]
  },
  {
   "cell_type": "code",
   "execution_count": 66,
   "id": "cc7956da",
   "metadata": {},
   "outputs": [
    {
     "data": {
      "image/png": "[encoded data removed]",
      "text/plain": [
       "<Figure size 432x288 with 1 Axes>"
      ]
     },
     "metadata": {
      "needs_background": "light"
     },
     "output_type": "display_data"
    }
   ],
   "source": [
    "import matplotlib.pyplot as plt\n",
    "plt.plot(history.history['accuracy'],label='train')\n",
    "plt.plot(history.history['val_accuracy'],label='val_accuracy')\n",
    "plt.xlabel('Epoch')\n",
    "plt.ylabel('Error')\n",
    "plt.legend()\n",
    "plt.grid(True)"
   ]
  },
  {
   "cell_type": "code",
   "execution_count": 67,
   "id": "89252721",
   "metadata": {},
   "outputs": [
    {
     "name": "stdout",
     "output_type": "stream",
     "text": [
      "Accuracy:61.39%\n",
      "Precision:62.30%\n",
      "Recall:61.39%\n",
      "F1-score:61.79%\n"
     ]
    }
   ],
   "source": [
    "from sklearn.metrics import accuracy_score,precision_score,recall_score,f1_score,confusion_matrix\n",
    "accuracy=accuracy_score(y_test,prediction.round())\n",
    "precision=precision_score(y_test,prediction.round(),average='weighted')\n",
    "recall=recall_score(y_test,prediction.round(),average='weighted')\n",
    "f1score=f1_score(y_test,prediction.round(),average='weighted')\n",
    "\n",
    "print('Accuracy:%.2f%%' %(accuracy*100.0))\n",
    "print('Precision:%.2f%%' %(precision*100.0))\n",
    "print('Recall:%.2f%%' %(recall*100.0))\n",
    "print('F1-score:%.2f%%' %(f1score*100.0))"
   ]
  },
  {
   "cell_type": "code",
   "execution_count": 68,
   "id": "022c200f",
   "metadata": {},
   "outputs": [
    {
     "data": {
      "text/plain": [
       "array([[15, 18],\n",
       "       [21, 47]], dtype=int64)"
      ]
     },
     "execution_count": 68,
     "metadata": {},
     "output_type": "execute_result"
    }
   ],
   "source": [
    "cm_ann=confusion_matrix(y_test,prediction.round())\n",
    "cm_ann"
   ]
  },
  {
   "cell_type": "code",
   "execution_count": 69,
   "id": "0c75a745",
   "metadata": {},
   "outputs": [
    {
     "data": {
      "image/png": "[encoded data removed]",
      "text/plain": [
       "<Figure size 432x288 with 2 Axes>"
      ]
     },
     "metadata": {
      "needs_background": "light"
     },
     "output_type": "display_data"
    }
   ],
   "source": [
    "sns.heatmap(cm_ann,annot=True,fmt='d',cmap='Blues')   #cmap=ListedColormap(['green', 'yellow', 'red'])\n",
    "plt.title(\"Scale Formation Using ANN Confusion Matrix\")\n",
    " \n",
    "plt.xlabel('Actual values')\n",
    "plt.ylabel('Predicted values')\n",
    "plt.show()"
   ]
  },
  {
   "cell_type": "code",
   "execution_count": 70,
   "id": "40a94b78",
   "metadata": {},
   "outputs": [
    {
     "data": {
      "image/png": "[encoded data removed]",
      "text/plain": [
       "<Figure size 432x288 with 1 Axes>"
      ]
     },
     "metadata": {
      "needs_background": "light"
     },
     "output_type": "display_data"
    }
   ],
   "source": [
    "fpr, tpr, _ = metrics.roc_curve(y_test,  prediction)\n",
    "\n",
    "#create ROC curve\n",
    "plt.plot(fpr,tpr)\n",
    "plt.ylabel('True Positive Rate')\n",
    "plt.xlabel('False Positive Rate')\n",
    "plt.show()"
   ]
  },
  {
   "cell_type": "code",
   "execution_count": null,
   "id": "74b4394c",
   "metadata": {},
   "outputs": [],
   "source": []
  },
  {
   "cell_type": "code",
   "execution_count": 71,
   "id": "edb1f8b4",
   "metadata": {},
   "outputs": [
    {
     "data": {
      "image/png": "[encoded data removed]",
      "text/plain": [
       "<Figure size 360x360 with 1 Axes>"
      ]
     },
     "metadata": {
      "needs_background": "light"
     },
     "output_type": "display_data"
    }
   ],
   "source": [
    "plt.figure(figsize=(5,5))\n",
    "plt.scatter(y_test,prediction, c='crimson')\n",
    "plt.yscale('log')\n",
    "plt.xscale('log')\n",
    "\n",
    "p1 = max(max(prediction), max(y_test))\n",
    "p2 = min(min(prediction), min(y_test))\n",
    "plt.plot([p1, p2], [p1, p2], 'b-')\n",
    "plt.xlabel('Actual Values', fontsize=15)\n",
    "plt.ylabel('Predictions', fontsize=15)\n",
    "plt.axis('equal')\n",
    "plt.show()"
   ]
  },
  {
   "cell_type": "code",
   "execution_count": null,
   "id": "165b2ca5",
   "metadata": {},
   "outputs": [],
   "source": []
  },
  {
   "cell_type": "code",
   "execution_count": 72,
   "id": "4b19c42b",
   "metadata": {},
   "outputs": [
    {
     "data": {
      "text/html": [
       "<div>\n",
       "<style scoped>\n",
       "    .dataframe tbody tr th:only-of-type {\n",
       "        vertical-align: middle;\n",
       "    }\n",
       "\n",
       "    .dataframe tbody tr th {\n",
       "        vertical-align: top;\n",
       "    }\n",
       "\n",
       "    .dataframe thead th {\n",
       "        text-align: right;\n",
       "    }\n",
       "</style>\n",
       "<table border=\"1\" class=\"dataframe\">\n",
       "  <thead>\n",
       "    <tr style=\"text-align: right;\">\n",
       "      <th></th>\n",
       "      <th>Well No</th>\n",
       "      <th>Actual Values</th>\n",
       "      <th>Predicted_LR</th>\n",
       "      <th>Predicted_DT</th>\n",
       "      <th>Predicted_RF</th>\n",
       "      <th>Predicted_ANN</th>\n",
       "    </tr>\n",
       "  </thead>\n",
       "  <tbody>\n",
       "    <tr>\n",
       "      <th>0</th>\n",
       "      <td>21</td>\n",
       "      <td>1</td>\n",
       "      <td>1</td>\n",
       "      <td>0</td>\n",
       "      <td>1</td>\n",
       "      <td>1</td>\n",
       "    </tr>\n",
       "    <tr>\n",
       "      <th>1</th>\n",
       "      <td>15</td>\n",
       "      <td>1</td>\n",
       "      <td>1</td>\n",
       "      <td>0</td>\n",
       "      <td>1</td>\n",
       "      <td>1</td>\n",
       "    </tr>\n",
       "    <tr>\n",
       "      <th>2</th>\n",
       "      <td>20</td>\n",
       "      <td>1</td>\n",
       "      <td>1</td>\n",
       "      <td>1</td>\n",
       "      <td>1</td>\n",
       "      <td>1</td>\n",
       "    </tr>\n",
       "    <tr>\n",
       "      <th>3</th>\n",
       "      <td>50</td>\n",
       "      <td>1</td>\n",
       "      <td>1</td>\n",
       "      <td>1</td>\n",
       "      <td>1</td>\n",
       "      <td>1</td>\n",
       "    </tr>\n",
       "    <tr>\n",
       "      <th>4</th>\n",
       "      <td>100</td>\n",
       "      <td>0</td>\n",
       "      <td>0</td>\n",
       "      <td>0</td>\n",
       "      <td>0</td>\n",
       "      <td>0</td>\n",
       "    </tr>\n",
       "    <tr>\n",
       "      <th>5</th>\n",
       "      <td>1</td>\n",
       "      <td>1</td>\n",
       "      <td>1</td>\n",
       "      <td>1</td>\n",
       "      <td>1</td>\n",
       "      <td>1</td>\n",
       "    </tr>\n",
       "    <tr>\n",
       "      <th>6</th>\n",
       "      <td>85</td>\n",
       "      <td>1</td>\n",
       "      <td>1</td>\n",
       "      <td>0</td>\n",
       "      <td>1</td>\n",
       "      <td>1</td>\n",
       "    </tr>\n",
       "    <tr>\n",
       "      <th>7</th>\n",
       "      <td>5</td>\n",
       "      <td>1</td>\n",
       "      <td>1</td>\n",
       "      <td>1</td>\n",
       "      <td>1</td>\n",
       "      <td>1</td>\n",
       "    </tr>\n",
       "    <tr>\n",
       "      <th>8</th>\n",
       "      <td>6</td>\n",
       "      <td>0</td>\n",
       "      <td>1</td>\n",
       "      <td>0</td>\n",
       "      <td>0</td>\n",
       "      <td>0</td>\n",
       "    </tr>\n",
       "    <tr>\n",
       "      <th>9</th>\n",
       "      <td>10</td>\n",
       "      <td>1</td>\n",
       "      <td>1</td>\n",
       "      <td>0</td>\n",
       "      <td>1</td>\n",
       "      <td>1</td>\n",
       "    </tr>\n",
       "  </tbody>\n",
       "</table>\n",
       "</div>"
      ],
      "text/plain": [
       "   Well No  Actual Values  Predicted_LR  Predicted_DT  Predicted_RF  \\\n",
       "0       21              1             1             0             1   \n",
       "1       15              1             1             0             1   \n",
       "2       20              1             1             1             1   \n",
       "3       50              1             1             1             1   \n",
       "4      100              0             0             0             0   \n",
       "5        1              1             1             1             1   \n",
       "6       85              1             1             0             1   \n",
       "7        5              1             1             1             1   \n",
       "8        6              0             1             0             0   \n",
       "9       10              1             1             0             1   \n",
       "\n",
       "   Predicted_ANN  \n",
       "0              1  \n",
       "1              1  \n",
       "2              1  \n",
       "3              1  \n",
       "4              0  \n",
       "5              1  \n",
       "6              1  \n",
       "7              1  \n",
       "8              0  \n",
       "9              1  "
      ]
     },
     "execution_count": 72,
     "metadata": {},
     "output_type": "execute_result"
    }
   ],
   "source": [
    "data={'Well No':[21,15,20,50,100,1,85,5,6,10],'Actual Values':[1,1,1,1,0,1,1,1,0,1],\n",
    "     'Predicted_LR':[1,1,1,1,0,1,1,1,1,1],'Predicted_DT':[0,0,1,1,0,1,0,1,0,0],\n",
    "      'Predicted_RF':[1,1,1,1,0,1,1,1,0,1],\n",
    "     'Predicted_ANN':[1,1,1,1,0,1,1,1,0,1]}\n",
    "dh=pd.DataFrame(data)\n",
    "dh"
   ]
  },
  {
   "cell_type": "code",
   "execution_count": 73,
   "id": "9739b55b",
   "metadata": {},
   "outputs": [
    {
     "data": {
      "text/plain": [
       "<seaborn.axisgrid.FacetGrid at 0x1c8b352fd00>"
      ]
     },
     "execution_count": 73,
     "metadata": {},
     "output_type": "execute_result"
    },
    {
     "data": {
      "image/png": "[encoded data removed]",
      "text/plain": [
       "<Figure size 360x360 with 1 Axes>"
      ]
     },
     "metadata": {
      "needs_background": "light"
     },
     "output_type": "display_data"
    }
   ],
   "source": [
    "sns.relplot(data=dh,x='Actual Values',y='Predicted_LR')"
   ]
  },
  {
   "cell_type": "code",
   "execution_count": 74,
   "id": "516639a2",
   "metadata": {},
   "outputs": [
    {
     "data": {
      "image/png": "[encoded data removed]",
      "text/plain": [
       "<Figure size 432x288 with 1 Axes>"
      ]
     },
     "metadata": {
      "needs_background": "light"
     },
     "output_type": "display_data"
    }
   ],
   "source": [
    "#plt.scatter(xtrain,y_train,color='g')\n",
    "plt.plot(xtest,predictions,color='k')\n",
    "plt.show()"
   ]
  },
  {
   "cell_type": "code",
   "execution_count": 75,
   "id": "7f4c8f6a",
   "metadata": {},
   "outputs": [],
   "source": [
    "from sklearn.metrics import log_loss"
   ]
  },
  {
   "cell_type": "code",
   "execution_count": 76,
   "id": "d1978865",
   "metadata": {},
   "outputs": [
    {
     "data": {
      "text/plain": [
       "1.605507874149036"
      ]
     },
     "execution_count": 76,
     "metadata": {},
     "output_type": "execute_result"
    }
   ],
   "source": [
    "log_loss(y_test,prediction,eps=1e-15)"
   ]
  },
  {
   "cell_type": "code",
   "execution_count": 77,
   "id": "ac420e5e",
   "metadata": {},
   "outputs": [],
   "source": [
    "from sklearn.metrics import roc_auc_score"
   ]
  },
  {
   "cell_type": "code",
   "execution_count": 78,
   "id": "99ee98f3",
   "metadata": {},
   "outputs": [
    {
     "data": {
      "text/plain": [
       "0.571969696969697"
      ]
     },
     "execution_count": 78,
     "metadata": {},
     "output_type": "execute_result"
    }
   ],
   "source": [
    "roc_auc_score(y_test,prediction)"
   ]
  },
  {
   "cell_type": "code",
   "execution_count": 79,
   "id": "bf995919",
   "metadata": {},
   "outputs": [],
   "source": [
    "from sklearn.feature_selection import mutual_info_classif"
   ]
  },
  {
   "cell_type": "code",
   "execution_count": 80,
   "id": "a46ffc5f",
   "metadata": {},
   "outputs": [],
   "source": [
    "mutual_info=mutual_info_classif(xtrain,y_train)"
   ]
  },
  {
   "cell_type": "code",
   "execution_count": 1,
   "id": "ccc922b0",
   "metadata": {},
   "outputs": [],
   "source": [
    "#mutual_info=pd.Series(mutual_info)\n",
    "#mutual_info.index=xtrain1.columns\n",
    "#mutual_info.sort_values(ascending=False)"
   ]
  },
  {
   "cell_type": "code",
   "execution_count": null,
   "id": "5756ec39",
   "metadata": {},
   "outputs": [],
   "source": [
    "mutual_info.sort_values(ascending=False).plot.bar(figsize=(10,5))"
   ]
  },
  {
   "cell_type": "code",
   "execution_count": null,
   "id": "df2a5747",
   "metadata": {},
   "outputs": [],
   "source": [
    "xtrain1=pd.DataFrame(xtrain,columns =['Na(ppm)','Ca(ppm)','Mg(ppm)','SO4(ppm)','HCO3(ppm)','TDS(ppm)','PH'])"
   ]
  },
  {
   "cell_type": "code",
   "execution_count": null,
   "id": "50ffb200",
   "metadata": {},
   "outputs": [],
   "source": [
    "list1=['HCO3(ppm)','TDS(ppm)','Mg(ppm)','Na(ppm)','Ca(ppm)','PH','SO4(ppm)']\n",
    "list2=[0.056552,0.054872,0.048904,0.043567,0.031529,0.022654,0.012046]\n",
    "dh=pd.DataFrame()\n",
    "dh['list1']=list1\n",
    "dh['list2']=list2"
   ]
  },
  {
   "cell_type": "code",
   "execution_count": null,
   "id": "52b8f98e",
   "metadata": {},
   "outputs": [],
   "source": [
    "dh"
   ]
  },
  {
   "cell_type": "code",
   "execution_count": null,
   "id": "e46f41e0",
   "metadata": {},
   "outputs": [],
   "source": [
    "list3=['FEATURES','IMPORTANCE']\n",
    "dh.columns=list3"
   ]
  },
  {
   "cell_type": "code",
   "execution_count": null,
   "id": "5bbf27d4",
   "metadata": {},
   "outputs": [],
   "source": [
    "dh"
   ]
  },
  {
   "cell_type": "code",
   "execution_count": null,
   "id": "65c266ac",
   "metadata": {},
   "outputs": [],
   "source": []
  }
 ],
 "metadata": {
  "kernelspec": {
   "display_name": "Python 3 (ipykernel)",
   "language": "python",
   "name": "python3"
  },
  "language_info": {
   "codemirror_mode": {
    "name": "ipython",
    "version": 3
   },
   "file_extension": ".py",
   "mimetype": "text/x-python",
   "name": "python",
   "nbconvert_exporter": "python",
   "pygments_lexer": "ipython3",
   "version": "3.9.18"
  }
 },
 "nbformat": 4,
 "nbformat_minor": 5
}
